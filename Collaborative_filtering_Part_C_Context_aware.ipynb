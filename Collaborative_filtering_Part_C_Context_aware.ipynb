{
  "nbformat": 4,
  "nbformat_minor": 0,
  "metadata": {
    "accelerator": "TPU",
    "colab": {
      "name": "Copy of Collaborative filtering Part C - Context aware.ipynb",
      "provenance": [],
      "collapsed_sections": [],
      "machine_shape": "hm"
    },
    "kernelspec": {
      "display_name": "Python 3",
      "name": "python3"
    },
    "language_info": {
      "name": "python"
    }
  },
  "cells": [
    {
      "cell_type": "code",
      "metadata": {
        "colab": {
          "base_uri": "https://localhost:8080/"
        },
        "id": "WMIEhCZ_w6CV",
        "outputId": "ee184de1-dd7e-485e-8174-6c06fe36e99a"
      },
      "source": [
        "!pip install scikit-surprise\n",
        "from surprise.model_selection import GridSearchCV\n",
        "from surprise import SVD\n",
        "\n",
        "from surprise import Dataset\n",
        "from surprise import Reader\n",
        "\n",
        "from collections import defaultdict\n",
        "import numpy as np\n",
        "import pandas as pd\n",
        "import matplotlib.pyplot as plt\n",
        "import warnings\n",
        "warnings.filterwarnings(\"ignore\")\n",
        "import sklearn\n",
        "from sklearn.preprocessing import StandardScaler\n",
        "from sklearn.preprocessing import LabelEncoder\n",
        "import seaborn as sns\n",
        "from google.colab import drive\n",
        "drive.mount('/content/drive')"
      ],
      "execution_count": null,
      "outputs": [
        {
          "output_type": "stream",
          "text": [
            "Requirement already satisfied: scikit-surprise in /usr/local/lib/python3.7/dist-packages (1.1.1)\n",
            "Requirement already satisfied: six>=1.10.0 in /usr/local/lib/python3.7/dist-packages (from scikit-surprise) (1.15.0)\n",
            "Requirement already satisfied: numpy>=1.11.2 in /usr/local/lib/python3.7/dist-packages (from scikit-surprise) (1.19.5)\n",
            "Requirement already satisfied: joblib>=0.11 in /usr/local/lib/python3.7/dist-packages (from scikit-surprise) (1.0.1)\n",
            "Requirement already satisfied: scipy>=1.0.0 in /usr/local/lib/python3.7/dist-packages (from scikit-surprise) (1.4.1)\n",
            "Drive already mounted at /content/drive; to attempt to forcibly remount, call drive.mount(\"/content/drive\", force_remount=True).\n"
          ],
          "name": "stdout"
        }
      ]
    },
    {
      "cell_type": "code",
      "metadata": {
        "colab": {
          "base_uri": "https://localhost:8080/"
        },
        "id": "iQdEUh9JxLJJ",
        "outputId": "4dcb3b07-1e60-4503-a3a0-7a71c9067803"
      },
      "source": [
        "%cd drive/MyDrive/Colab Notebooks/Masters Python Workbooks/Redone Python Workbooks\n",
        "books = pd.read_csv(\"Books.csv\")\n",
        "ratings = pd.read_csv(\"Ratings.csv\")\n",
        "users = pd.read_csv(\"Users.csv\")\n",
        "books[\"Book-Author\"].fillna(\"Edinburgh Financial Publishing\",inplace=True)\n",
        "# We can replace the publisher name in these cases as well\n",
        "\n",
        "# The publisher of 'Tyrant Moon' as per Amazon and FantasticFiction.com is 'Mundania Press LLC'\n",
        "books['Publisher'].fillna(\"Mundania Press LLC\", inplace=True)\n",
        "\n",
        "# The publisher of 'Finders Keepers' as per GoodReads.com and Amazon is 'Bantam'\n",
        "books['Publisher'].fillna(\"Bantam\", inplace=True)\n",
        "\n",
        "# Replacing the 0 aged users with nans so that they can be replaced in the next step\n",
        "users.Age.replace(0,np.nan,inplace=True)\n",
        "\n",
        "# Linear Interpolation of age in the dataset\n",
        "users['Age'].interpolate(method = 'linear', limit_direction = 'forward',inplace=True)\n",
        "\n",
        "# Dropping the rows with age > 100\n",
        "users = users[users.Age <= 100]\n",
        "book_rating = pd.merge(books,ratings,on='ISBN',how='outer')\n",
        "book_rating = pd.merge(book_rating, users, on='User-ID', how='outer')\n",
        "book_rating.drop(['Image-URL-S','Image-URL-M','Image-URL-L'],axis=1,inplace=True)\n",
        "temp = book_rating[['ISBN','User-ID','Book-Rating']]\n",
        "counts_user = temp.groupby('User-ID').agg(['count'])\n",
        "counts_user.columns = ['ISBN_ct','rating_users_ct']\n",
        "counts_book = temp.groupby('ISBN').agg(['count'])\n",
        "counts_book.columns = ['ISBN_ct','rating_books_ct']\n",
        "counts_user.drop(['ISBN_ct'], inplace=True, axis=1)\n",
        "counts_book.drop(['ISBN_ct'], inplace=True, axis=1)\n",
        "book_rating = pd.merge(book_rating, counts_book, on='ISBN',how='left')\n",
        "book_rating = pd.merge(book_rating, counts_user, on='User-ID',how='left')\n",
        "\n",
        "book_rating['City'] = book_rating['Location'].str.split(\",\",expand=True)[0]\n",
        "book_rating['State'] = book_rating['Location'].str.split(\",\",expand=True)[1]\n",
        "book_rating['Country'] = book_rating['Location'].str.split(\",\",expand=True)[2]\n",
        "book_rating.drop('Location',axis=1,inplace=True)\n",
        "df = book_rating.copy()\n",
        "\n",
        "index_year = df[(df['Year-Of-Publication'] == 'DK Publishing Inc') | (df['Year-Of-Publication'] == 'Gallimard')].index\n",
        "df.drop(index_year,inplace=True)\n",
        "df = df.dropna(subset=['ISBN'])\n",
        "df = df.dropna(subset=['Book-Title'])\n",
        "\n",
        "# Dropping null values in User-ID as there could be no results if the user ID is not present\n",
        "df = df.dropna(subset=['User-ID'])\n",
        "\n",
        "# Deleting missing rows present in location as those are only 0.3% of the dataset\n",
        "df.dropna(inplace=True)\n",
        "# df.info()\n",
        "# pd.isnull(df).sum()\n",
        "df['Year-Of-Publication'] = df['Year-Of-Publication'].astype(int)\n",
        "\n",
        "# One of the city names is '&#304;stanbul' which will be replaced with 'Istanbul'\n",
        "df['City'].replace('&#304;stanbul','Istanbul',inplace=True)\n",
        "df[df['Book-Title'] == 'Wild Animus']['ISBN'].value_counts()\n",
        "most_popular_books = df[(df['rating_books_ct'] >= 568) & (df['rating_books_ct'] <= 2502.0)]\n",
        "most_popular_books = most_popular_books[['ISBN','Book-Title','Book-Author','Publisher','rating_books_ct']]\n",
        "most_popular_books = most_popular_books.drop_duplicates()\n",
        "# books = list(most_popular_books['Book-Title'].values)\n",
        "# temp = df.copy()\n",
        "# df = temp[~temp['Book-Title'].isin(books)]\n",
        "label_encoder = LabelEncoder()\n",
        "# Creating a copy that will contain all the label encoders instead of the actual categorical variables\n",
        "df1 = df.copy()\n",
        "df1['City'] = label_encoder.fit_transform(df1['City'])\n",
        "columns = ['Book-Author','Book-Title','Year-Of-Publication','Publisher','State','Country']\n",
        "df1['State'] = label_encoder.fit_transform(df1['State'])\n",
        "df1['Book-Author'] = label_encoder.fit_transform(df1['Book-Author'])\n",
        "df1['Book-Title'] = label_encoder.fit_transform(df1['Book-Title'])\n",
        "df1['Year-Of-Publication'] = df1['Year-Of-Publication'].astype(str)\n",
        "df1['Year-Of-Publication'] = label_encoder.fit_transform(df1['Year-Of-Publication'])\n",
        "df1['Publisher'] = label_encoder.fit_transform(df1['Publisher'])\n",
        "df1['Country'] = label_encoder.fit_transform(df1['Country'])\n",
        "# Creating another dataset that has only non categorical values that need to be scaled\n",
        "numerical_df = df1[['Book-Title','Book-Author','Year-Of-Publication','Publisher','Book-Rating',\n",
        "                    'Age','rating_books_ct','rating_users_ct','City','State','Country']] \n",
        "scaler = StandardScaler()\n",
        "df_scaled = scaler.fit_transform(numerical_df)\n",
        "df_scaled = pd.DataFrame(df_scaled)\n",
        "df_scaled.columns = ['Book-Title','Book-Author','Year-Of-Publication','Publisher','Book-Rating',\n",
        "                    'Age','rating_books_ct','rating_users_ct','City','State','Country']\n",
        "\n",
        "\n",
        "import sklearn\n",
        "from sklearn.preprocessing import StandardScaler\n",
        "from sklearn.cluster import KMeans\n",
        "from sklearn.metrics import silhouette_score\n",
        "\n",
        "# model with k = 6\n",
        "kmeans = KMeans(n_clusters=6, max_iter=50, random_state=0)\n",
        "kmeans.fit(df_scaled)\n",
        "df_6 = df.copy()\n",
        "# assign the label\n",
        "df_6['cluster_id'] = kmeans.labels_\n",
        "# model with k = 8\n",
        "kmeans = KMeans(n_clusters = 8, max_iter=50, random_state=0)\n",
        "kmeans.fit(df_scaled)\n",
        "df_8 = df.copy()\n",
        "# assign the label\n",
        "df_8['cluster_id'] = kmeans.labels_\n",
        "# 8 \n",
        "df_8_0 = df_8[df_8['cluster_id'] == 0]\n",
        "df_8_1 = df_8[df_8['cluster_id'] == 1]\n",
        "df_8_2 = df_8[df_8['cluster_id'] == 2]\n",
        "df_8_3 = df_8[df_8['cluster_id'] == 3]\n",
        "df_8_4 = df_8[df_8['cluster_id'] == 4]\n",
        "df_8_5 = df_8[df_8['cluster_id'] == 5]\n",
        "df_8_6 = df_8[df_8['cluster_id'] == 6]\n",
        "df_8_7 = df_8[df_8['cluster_id'] == 7]\n",
        "df_6_0 = df_6[df_6['cluster_id'] == 0]\n",
        "df_6_1 = df_6[df_6['cluster_id'] == 1]\n",
        "df_6_2 = df_6[df_6['cluster_id'] == 2]\n",
        "df_6_3 = df_6[df_6['cluster_id'] == 3]\n",
        "df_6_4 = df_6[df_6['cluster_id'] == 4]\n",
        "df_6_5 = df_6[df_6['cluster_id'] == 5]\n",
        "\n",
        "# Merging cluster 0 & 5\n",
        "df_6_1 = pd.concat([df_6_1, df_6_3])\n",
        "df_6_0 = pd.concat([df_6_0, df_6_5])\n",
        "\n",
        "# Merging cluster 2 and 4\n",
        "df_8_2 = pd.concat([df_8_2, df_8_4])\n",
        "df_8_3 = pd.concat([df_8_3, df_8_6, df_8_7])\n",
        "# 29.36% of data from cluster ID = 6 is overlapping with cluster 7, hence merging this as well!\n",
        "# Since 5 clusters have been merged, we are remaining with 5 \n",
        "\n",
        "\n",
        "# Context aware 6 clusters\n",
        "df_6_0 = df_6_0.copy()\n",
        "df_6_1 = df_6_1.copy()\n",
        "df_6_2 = df_6_2.copy()\n",
        "df_6_3 = df_6_4.copy()\n",
        "\n",
        "# Context aware 8 clusters\n",
        "df_8_0 = df_8_0.copy()\n",
        "df_8_1 = df_8_1.copy()\n",
        "df_8_2 = df_8_2.copy()\n",
        "df_8_3 = df_8_3.copy()\n",
        "df_8_4 = df_8_5.copy()\n",
        "\n",
        "\n",
        "df_8_0['Book-Rating'] = df_8_0['Book-Rating'].apply(lambda x: 0 if x>=1 else 1)\n",
        "df_8_1['Book-Rating'] = df_8_1['Book-Rating'].apply(lambda x: 0 if x>=1 else 1)\n",
        "df_8_2['Book-Rating'] = df_8_2['Book-Rating'].apply(lambda x: 0 if x>=1 else 1)\n",
        "df_8_3['Book-Rating'] = df_8_3['Book-Rating'].apply(lambda x: 0 if x>=1 else 1)\n",
        "df_8_4['Book-Rating'] = df_8_4['Book-Rating'].apply(lambda x: 0 if x>=1 else 1)\n",
        "\n",
        "df_8_0.drop_duplicates()\n",
        "df_8_1.drop_duplicates()\n",
        "df_8_2.drop_duplicates()\n",
        "df_8_3.drop_duplicates()\n",
        "df_8_4.drop_duplicates()\n",
        "\n",
        "df_6_0['Book-Rating'] = df_6_0['Book-Rating'].apply(lambda x: 0 if x>=1 else 1)\n",
        "df_6_1['Book-Rating'] = df_6_1['Book-Rating'].apply(lambda x: 0 if x>=1 else 1)\n",
        "df_6_2['Book-Rating'] = df_6_2['Book-Rating'].apply(lambda x: 0 if x>=1 else 1)\n",
        "df_6_3['Book-Rating'] = df_6_3['Book-Rating'].apply(lambda x: 0 if x>=1 else 1)\n",
        "\n",
        "for i in [df_6_0, df_6_1, df_6_2, df_6_3]:\n",
        "  i.drop_duplicates()\n",
        "  print(i.shape)"
      ],
      "execution_count": null,
      "outputs": [
        {
          "output_type": "stream",
          "text": [
            "/content/drive/MyDrive/Colab Notebooks/Masters Python Workbooks/Redone Python Workbooks\n",
            "(460303, 14)\n",
            "(529232, 14)\n",
            "(3789, 14)\n",
            "(34835, 14)\n"
          ],
          "name": "stdout"
        }
      ]
    },
    {
      "cell_type": "markdown",
      "metadata": {
        "id": "cb9Zkc2wyNos"
      },
      "source": [
        "# Collaborative filtering\n",
        "## PART C: User Similarity"
      ]
    },
    {
      "cell_type": "markdown",
      "metadata": {
        "id": "7vHD3t3w0b-a"
      },
      "source": [
        "## Clusters: 6 context aware"
      ]
    },
    {
      "cell_type": "code",
      "metadata": {
        "colab": {
          "base_uri": "https://localhost:8080/"
        },
        "id": "Z3gK2sOeU06R",
        "outputId": "533af212-0ccd-4761-a774-fb3d3d26c450"
      },
      "source": [
        "print(\"df_6_0: \",df_6_0.shape)\n",
        "print(\"df_6_1: \",df_6_1.shape)\n",
        "print(\"df_6_2: \",df_6_2.shape)\n",
        "print(\"df_6_3: \",df_6_3.shape)"
      ],
      "execution_count": null,
      "outputs": [
        {
          "output_type": "stream",
          "text": [
            "df_6_0:  (460303, 14)\n",
            "df_6_1:  (529232, 14)\n",
            "df_6_2:  (3789, 14)\n",
            "df_6_3:  (34835, 14)\n"
          ],
          "name": "stdout"
        }
      ]
    },
    {
      "cell_type": "code",
      "metadata": {
        "id": "IdVOz-qKX7JH"
      },
      "source": [
        "# df_6_1\n",
        "df_6_1_1 = np.array_split(df_6_1,25)[0]\n",
        "df_6_1_2 = np.array_split(df_6_1,25)[1]\n",
        "df_6_1_3 = np.array_split(df_6_1,25)[2]\n",
        "df_6_1_4 = np.array_split(df_6_1,25)[3]\n",
        "df_6_1_5 = np.array_split(df_6_1,25)[4]\n",
        "df_6_1_6 = np.array_split(df_6_1,25)[5]\n",
        "df_6_1_7 = np.array_split(df_6_1,25)[6]\n",
        "df_6_1_8 = np.array_split(df_6_1,25)[7]\n",
        "df_6_1_9 = np.array_split(df_6_1,25)[8]\n",
        "df_6_1_10 = np.array_split(df_6_1,25)[9]\n",
        "df_6_1_11 = np.array_split(df_6_1,25)[10]\n",
        "df_6_1_12 = np.array_split(df_6_1,25)[11]\n",
        "df_6_1_13 = np.array_split(df_6_1,25)[12]\n",
        "df_6_1_14 = np.array_split(df_6_1,25)[13]\n",
        "df_6_1_15 = np.array_split(df_6_1,25)[14]\n",
        "df_6_1_16 = np.array_split(df_6_1,25)[15]\n",
        "df_6_1_17 = np.array_split(df_6_1,25)[16]\n",
        "df_6_1_18 = np.array_split(df_6_1,25)[17]\n",
        "df_6_1_19 = np.array_split(df_6_1,25)[18]\n",
        "df_6_1_20 = np.array_split(df_6_1,25)[19]\n",
        "df_6_1_21 = np.array_split(df_6_1,25)[20]\n",
        "df_6_1_22 = np.array_split(df_6_1,25)[21]\n",
        "df_6_1_23 = np.array_split(df_6_1,25)[22]\n",
        "df_6_1_24 = np.array_split(df_6_1,25)[23]\n",
        "df_6_1_25 = np.array_split(df_6_1,25)[24]\n",
        "\n",
        "# df_6_0\n",
        "df_6_0_1 = np.array_split(df_6_0,25)[0]\n",
        "df_6_0_2 = np.array_split(df_6_0,25)[1]\n",
        "df_6_0_3 = np.array_split(df_6_0,25)[2]\n",
        "df_6_0_4 = np.array_split(df_6_0,25)[3]\n",
        "df_6_0_5 = np.array_split(df_6_0,25)[4]\n",
        "df_6_0_6 = np.array_split(df_6_0,25)[5]\n",
        "df_6_0_7 = np.array_split(df_6_0,25)[6]\n",
        "df_6_0_8 = np.array_split(df_6_0,25)[7]\n",
        "df_6_0_9 = np.array_split(df_6_0,25)[8]\n",
        "df_6_0_10 = np.array_split(df_6_0,25)[9]\n",
        "df_6_0_11 = np.array_split(df_6_0,25)[10]\n",
        "df_6_0_12 = np.array_split(df_6_0,25)[11]\n",
        "df_6_0_13 = np.array_split(df_6_0,25)[12]\n",
        "df_6_0_14 = np.array_split(df_6_0,25)[13]\n",
        "df_6_0_15 = np.array_split(df_6_0,25)[14]\n",
        "df_6_0_16 = np.array_split(df_6_0,25)[15]\n",
        "df_6_0_17 = np.array_split(df_6_0,25)[16]\n",
        "df_6_0_18 = np.array_split(df_6_0,25)[17]\n",
        "df_6_0_19 = np.array_split(df_6_0,25)[18]\n",
        "df_6_0_20 = np.array_split(df_6_0,25)[19]\n",
        "df_6_0_21 = np.array_split(df_6_0,25)[20]\n",
        "df_6_0_22 = np.array_split(df_6_0,25)[21]\n",
        "df_6_0_23 = np.array_split(df_6_0,25)[22]\n",
        "df_6_0_24 = np.array_split(df_6_0,25)[23]\n",
        "df_6_0_25 = np.array_split(df_6_0,25)[24]\n",
        "\n",
        "# df_6_3\n",
        "df_6_3_1 = np.array_split(df_6_3,4)[0]\n",
        "df_6_3_2 = np.array_split(df_6_3,4)[1]\n",
        "df_6_3_3 = np.array_split(df_6_3,4)[2]\n",
        "df_6_3_4 = np.array_split(df_6_3,4)[3]"
      ],
      "execution_count": null,
      "outputs": []
    },
    {
      "cell_type": "markdown",
      "metadata": {
        "id": "4AZ-kdyCEhYH"
      },
      "source": [
        "### Function to do this user similarity automatically"
      ]
    },
    {
      "cell_type": "code",
      "metadata": {
        "id": "fDGkNQDjNri2"
      },
      "source": [
        "from sklearn.metrics.pairwise import pairwise_distances\n",
        "from sklearn.preprocessing import MinMaxScaler\n",
        "from numpy import *\n",
        "\n",
        "def get_df_name(df):\n",
        "    name =[x for x in globals() if globals()[x] is df][0]\n",
        "    return name\n",
        "\n",
        "def user_similarity(df_features, original_df):\n",
        "  mean = np.nanmean(df_features, axis=1)\n",
        "  df_subtracted = (df_features.T-mean).T\n",
        "# User Similarity Matrix\n",
        "  user_correlation = 1 - pairwise_distances(df_subtracted.fillna(0), metric='cosine')\n",
        "  user_correlation[np.isnan(user_correlation)] = 0\n",
        "  user_correlation[user_correlation<0]=0\n",
        "  user_predicted_ratings = np.dot(user_correlation, df_features.fillna(0))\n",
        "  user_final_rating = np.multiply(user_predicted_ratings,df_features)\n",
        "\n",
        "  X  = user_final_rating.copy() \n",
        "  X = X[X>0]\n",
        "  scaler = MinMaxScaler(feature_range=(1, 5))\n",
        "  scaler.fit(X)\n",
        "  y = (scaler.transform(X))\n",
        "  df_ = original_df.pivot_table(index='User-ID',columns='ISBN',values='Book-Rating')\n",
        "  # Finding total non-NaN value\n",
        "  total_non_nan = np.count_nonzero(~np.isnan(y))\n",
        "  rmse = (sum(sum((df_ - y )**2))/total_non_nan)**0.5\n",
        "  print(\"The RMSE of {}: {}\".format(get_df_name(original_df), rmse))"
      ],
      "execution_count": null,
      "outputs": []
    },
    {
      "cell_type": "code",
      "metadata": {
        "id": "QjL7jsnKRaWe"
      },
      "source": [
        "df_6_features_0_1 = df_6_0_1.pivot_table(index='User-ID', columns='ISBN', values='Book-Rating',fill_value=0)\n",
        "df_6_features_0_2 = df_6_0_2.pivot_table(index='User-ID', columns='ISBN', values='Book-Rating',fill_value=0)\n",
        "df_6_features_0_3 = df_6_0_3.pivot_table(index='User-ID', columns='ISBN', values='Book-Rating',fill_value=0)\n",
        "df_6_features_0_4 = df_6_0_4.pivot_table(index='User-ID', columns='ISBN', values='Book-Rating',fill_value=0)\n",
        "df_6_features_0_5 = df_6_0_5.pivot_table(index='User-ID', columns='ISBN', values='Book-Rating',fill_value=0)\n",
        "df_6_features_0_6 = df_6_0_6.pivot_table(index='User-ID', columns='ISBN', values='Book-Rating',fill_value=0)\n",
        "df_6_features_0_7 = df_6_0_7.pivot_table(index='User-ID', columns='ISBN', values='Book-Rating',fill_value=0)\n",
        "df_6_features_0_8 = df_6_0_8.pivot_table(index='User-ID', columns='ISBN', values='Book-Rating',fill_value=0)\n",
        "df_6_features_0_9 = df_6_0_9.pivot_table(index='User-ID', columns='ISBN', values='Book-Rating',fill_value=0)\n",
        "df_6_features_0_10 = df_6_0_10.pivot_table(index='User-ID', columns='ISBN', values='Book-Rating',fill_value=0)\n",
        "df_6_features_0_11 = df_6_0_11.pivot_table(index='User-ID', columns='ISBN', values='Book-Rating',fill_value=0)\n",
        "df_6_features_0_12 = df_6_0_12.pivot_table(index='User-ID', columns='ISBN', values='Book-Rating',fill_value=0)\n",
        "df_6_features_0_13 = df_6_0_13.pivot_table(index='User-ID', columns='ISBN', values='Book-Rating',fill_value=0)\n",
        "df_6_features_0_14 = df_6_0_14.pivot_table(index='User-ID', columns='ISBN', values='Book-Rating',fill_value=0)\n",
        "df_6_features_0_15 = df_6_0_15.pivot_table(index='User-ID', columns='ISBN', values='Book-Rating',fill_value=0)\n",
        "df_6_features_0_16 = df_6_0_16.pivot_table(index='User-ID', columns='ISBN', values='Book-Rating',fill_value=0)\n",
        "df_6_features_0_17 = df_6_0_17.pivot_table(index='User-ID', columns='ISBN', values='Book-Rating',fill_value=0)\n",
        "df_6_features_0_18 = df_6_0_18.pivot_table(index='User-ID', columns='ISBN', values='Book-Rating',fill_value=0)\n",
        "df_6_features_0_19 = df_6_0_19.pivot_table(index='User-ID', columns='ISBN', values='Book-Rating',fill_value=0)\n",
        "df_6_features_0_20 = df_6_0_20.pivot_table(index='User-ID', columns='ISBN', values='Book-Rating',fill_value=0)\n",
        "df_6_features_0_21 = df_6_0_21.pivot_table(index='User-ID', columns='ISBN', values='Book-Rating',fill_value=0)\n",
        "df_6_features_0_22 = df_6_0_22.pivot_table(index='User-ID', columns='ISBN', values='Book-Rating',fill_value=0)\n",
        "df_6_features_0_23 = df_6_0_23.pivot_table(index='User-ID', columns='ISBN', values='Book-Rating',fill_value=0)\n",
        "df_6_features_0_24 = df_6_0_24.pivot_table(index='User-ID', columns='ISBN', values='Book-Rating',fill_value=0)\n",
        "df_6_features_0_25 = df_6_0_25.pivot_table(index='User-ID', columns='ISBN', values='Book-Rating',fill_value=0)"
      ],
      "execution_count": null,
      "outputs": []
    },
    {
      "cell_type": "code",
      "metadata": {
        "colab": {
          "base_uri": "https://localhost:8080/"
        },
        "id": "T-JWWXUpoI5g",
        "outputId": "5b9f272f-d8a8-4709-d4df-fdfa490235f2"
      },
      "source": [
        "user_similarity(df_6_features_0_1, df_6_0_1)\n",
        "user_similarity(df_6_features_0_2, df_6_0_2)\n",
        "user_similarity(df_6_features_0_3, df_6_0_3)\n",
        "user_similarity(df_6_features_0_4, df_6_0_4)\n",
        "user_similarity(df_6_features_0_5, df_6_0_5)\n",
        "user_similarity(df_6_features_0_6, df_6_0_6)\n",
        "user_similarity(df_6_features_0_7, df_6_0_7)\n",
        "user_similarity(df_6_features_0_8, df_6_0_8)\n",
        "user_similarity(df_6_features_0_9, df_6_0_9)\n",
        "user_similarity(df_6_features_0_10, df_6_0_10)\n",
        "user_similarity(df_6_features_0_11, df_6_0_11)\n",
        "user_similarity(df_6_features_0_12, df_6_0_12)\n",
        "user_similarity(df_6_features_0_13, df_6_0_13)\n",
        "user_similarity(df_6_features_0_14, df_6_0_14)\n",
        "user_similarity(df_6_features_0_15, df_6_0_15)\n",
        "user_similarity(df_6_features_0_16, df_6_0_16)\n",
        "user_similarity(df_6_features_0_17, df_6_0_17)\n",
        "user_similarity(df_6_features_0_18, df_6_0_18)\n",
        "user_similarity(df_6_features_0_19, df_6_0_19)\n",
        "user_similarity(df_6_features_0_20, df_6_0_20)\n",
        "user_similarity(df_6_features_0_21, df_6_0_21)\n",
        "user_similarity(df_6_features_0_22, df_6_0_22)\n",
        "user_similarity(df_6_features_0_23, df_6_0_23)\n",
        "user_similarity(df_6_features_0_24, df_6_0_24)\n",
        "user_similarity(df_6_features_0_25, df_6_0_25)"
      ],
      "execution_count": null,
      "outputs": [
        {
          "output_type": "stream",
          "text": [
            "The RMSE of df_6_0_1: 1.5600426824844165\n",
            "The RMSE of df_6_0_2: 1.6437456165569313\n",
            "The RMSE of df_6_0_3: 1.4204183179257062\n",
            "The RMSE of df_6_0_4: 1.5342355013486995\n",
            "The RMSE of df_6_0_5: 1.524971371255978\n",
            "The RMSE of df_6_0_6: 1.527420605890305\n",
            "The RMSE of df_6_0_7: 1.5728275886969532\n",
            "The RMSE of df_6_0_8: 1.6080350211568504\n",
            "The RMSE of df_6_0_9: 1.6009820012699536\n",
            "The RMSE of df_6_0_10: 1.5236631368451201\n",
            "The RMSE of df_6_0_11: 1.62591713854495\n",
            "The RMSE of df_6_0_12: 1.6116535267802259\n",
            "The RMSE of df_6_0_13: 1.7093311350481808\n",
            "The RMSE of df_6_0_14: 1.8453832946228028\n",
            "The RMSE of df_6_0_15: 1.0360183369523701\n",
            "The RMSE of df_6_0_16: 1.2405879777689293\n",
            "The RMSE of df_6_0_17: 1.122138566009512\n",
            "The RMSE of df_6_0_18: 1.1656173658749371\n",
            "The RMSE of df_6_0_19: 1.2910190521295848\n",
            "The RMSE of df_6_0_20: 1.2703091384640566\n",
            "The RMSE of df_6_0_21: 1.356313710965314\n",
            "The RMSE of df_6_0_22: 1.2854901999725696\n",
            "The RMSE of df_6_0_23: 1.403965417632597\n",
            "The RMSE of df_6_0_24: 1.4201799857187005\n",
            "The RMSE of df_6_0_25: 1.0117460565235017\n"
          ],
          "name": "stdout"
        }
      ]
    },
    {
      "cell_type": "code",
      "metadata": {
        "colab": {
          "base_uri": "https://localhost:8080/"
        },
        "id": "cnOElwf5RdKi",
        "outputId": "0e6cd4bf-ed5a-49ce-ede2-b9e5e13cbfff"
      },
      "source": [
        "df_6_features_1_1 = df_6_1_1.pivot_table(index='User-ID', columns='ISBN', values='Book-Rating',fill_value=0)\n",
        "df_6_features_1_2 = df_6_1_2.pivot_table(index='User-ID', columns='ISBN', values='Book-Rating',fill_value=0)\n",
        "df_6_features_1_3 = df_6_1_3.pivot_table(index='User-ID', columns='ISBN', values='Book-Rating',fill_value=0)\n",
        "df_6_features_1_4 = df_6_1_4.pivot_table(index='User-ID', columns='ISBN', values='Book-Rating',fill_value=0)\n",
        "df_6_features_1_5 = df_6_1_5.pivot_table(index='User-ID', columns='ISBN', values='Book-Rating',fill_value=0)\n",
        "df_6_features_1_6 = df_6_1_6.pivot_table(index='User-ID', columns='ISBN', values='Book-Rating',fill_value=0)\n",
        "df_6_features_1_7 = df_6_1_7.pivot_table(index='User-ID', columns='ISBN', values='Book-Rating',fill_value=0)\n",
        "df_6_features_1_8 = df_6_1_8.pivot_table(index='User-ID', columns='ISBN', values='Book-Rating',fill_value=0)\n",
        "df_6_features_1_9 = df_6_1_9.pivot_table(index='User-ID', columns='ISBN', values='Book-Rating',fill_value=0)\n",
        "df_6_features_1_10 = df_6_1_10.pivot_table(index='User-ID', columns='ISBN', values='Book-Rating',fill_value=0)\n",
        "df_6_features_1_11 = df_6_1_11.pivot_table(index='User-ID', columns='ISBN', values='Book-Rating',fill_value=0)\n",
        "df_6_features_1_12 = df_6_1_12.pivot_table(index='User-ID', columns='ISBN', values='Book-Rating',fill_value=0)\n",
        "df_6_features_1_13 = df_6_1_13.pivot_table(index='User-ID', columns='ISBN', values='Book-Rating',fill_value=0)\n",
        "df_6_features_1_14 = df_6_1_14.pivot_table(index='User-ID', columns='ISBN', values='Book-Rating',fill_value=0)\n",
        "df_6_features_1_15 = df_6_1_15.pivot_table(index='User-ID', columns='ISBN', values='Book-Rating',fill_value=0)\n",
        "df_6_features_1_16 = df_6_1_16.pivot_table(index='User-ID', columns='ISBN', values='Book-Rating',fill_value=0)\n",
        "df_6_features_1_17 = df_6_1_17.pivot_table(index='User-ID', columns='ISBN', values='Book-Rating',fill_value=0)\n",
        "df_6_features_1_18 = df_6_1_18.pivot_table(index='User-ID', columns='ISBN', values='Book-Rating',fill_value=0)\n",
        "df_6_features_1_19 = df_6_1_19.pivot_table(index='User-ID', columns='ISBN', values='Book-Rating',fill_value=0)\n",
        "df_6_features_1_20 = df_6_1_20.pivot_table(index='User-ID', columns='ISBN', values='Book-Rating',fill_value=0)\n",
        "df_6_features_1_21 = df_6_1_21.pivot_table(index='User-ID', columns='ISBN', values='Book-Rating',fill_value=0)\n",
        "df_6_features_1_22 = df_6_1_22.pivot_table(index='User-ID', columns='ISBN', values='Book-Rating',fill_value=0)\n",
        "df_6_features_1_23 = df_6_1_23.pivot_table(index='User-ID', columns='ISBN', values='Book-Rating',fill_value=0)\n",
        "df_6_features_1_24 = df_6_1_24.pivot_table(index='User-ID', columns='ISBN', values='Book-Rating',fill_value=0)\n",
        "df_6_features_1_25 = df_6_1_25.pivot_table(index='User-ID', columns='ISBN', values='Book-Rating',fill_value=0)\n",
        "\n",
        "user_similarity(df_6_features_1_1, df_6_1_1)\n",
        "user_similarity(df_6_features_1_2, df_6_1_2)\n",
        "user_similarity(df_6_features_1_3, df_6_1_3)\n",
        "user_similarity(df_6_features_1_4, df_6_1_4)\n",
        "user_similarity(df_6_features_1_5, df_6_1_5)\n",
        "user_similarity(df_6_features_1_6, df_6_1_6)\n",
        "user_similarity(df_6_features_1_7, df_6_1_7)\n",
        "user_similarity(df_6_features_1_8, df_6_1_8)\n",
        "user_similarity(df_6_features_1_9, df_6_1_9)\n",
        "user_similarity(df_6_features_1_10, df_6_1_10)\n",
        "user_similarity(df_6_features_1_11, df_6_1_11)\n",
        "user_similarity(df_6_features_1_12, df_6_1_12)\n",
        "user_similarity(df_6_features_1_13, df_6_1_13)\n",
        "user_similarity(df_6_features_1_14, df_6_1_14)\n",
        "user_similarity(df_6_features_1_15, df_6_1_15)\n",
        "user_similarity(df_6_features_1_16, df_6_1_16)\n",
        "user_similarity(df_6_features_1_17, df_6_1_17)\n",
        "user_similarity(df_6_features_1_18, df_6_1_18)\n",
        "user_similarity(df_6_features_1_19, df_6_1_19)\n",
        "user_similarity(df_6_features_1_20, df_6_1_20)\n",
        "user_similarity(df_6_features_1_21, df_6_1_21)\n",
        "user_similarity(df_6_features_1_22, df_6_1_22)\n",
        "user_similarity(df_6_features_1_23, df_6_1_23)\n",
        "user_similarity(df_6_features_1_24, df_6_1_24)\n",
        "user_similarity(df_6_features_1_25, df_6_1_25)"
      ],
      "execution_count": null,
      "outputs": [
        {
          "output_type": "stream",
          "text": [
            "The RMSE of df_6_1_1: 1.7229642662294757\n",
            "The RMSE of df_6_1_2: 1.631427755414752\n",
            "The RMSE of df_6_1_3: 1.697294318776797\n",
            "The RMSE of df_6_1_4: 1.6425645579996275\n",
            "The RMSE of df_6_1_5: 1.6007249027855048\n",
            "The RMSE of df_6_1_6: 1.7597492771062753\n",
            "The RMSE of df_6_1_7: 1.676435027332528\n",
            "The RMSE of df_6_1_8: 1.7644765527751631\n",
            "The RMSE of df_6_1_9: 1.6658035177934685\n",
            "The RMSE of df_6_1_10: 1.6750952881577772\n",
            "The RMSE of df_6_1_11: 1.7664668978457374\n",
            "The RMSE of df_6_1_12: 1.9155121998282942\n",
            "The RMSE of df_6_1_13: 1.3284822661856106\n",
            "The RMSE of df_6_1_14: nan\n",
            "The RMSE of df_6_1_15: nan\n",
            "The RMSE of df_6_1_16: nan\n",
            "The RMSE of df_6_1_17: nan\n",
            "The RMSE of df_6_1_18: nan\n",
            "The RMSE of df_6_1_19: nan\n",
            "The RMSE of df_6_1_20: nan\n",
            "The RMSE of df_6_1_21: nan\n",
            "The RMSE of df_6_1_22: nan\n",
            "The RMSE of df_6_1_23: nan\n",
            "The RMSE of df_6_1_24: nan\n"
          ],
          "name": "stdout"
        }
      ]
    },
    {
      "cell_type": "code",
      "metadata": {
        "colab": {
          "base_uri": "https://localhost:8080/"
        },
        "id": "59xdQ8fsjcUv",
        "outputId": "8b9a031a-39e1-4600-c53f-e9094bc69855"
      },
      "source": [
        "df_6_features_3_1 = df_6_3_1.pivot_table(index='User-ID', columns='ISBN', values='Book-Rating',fill_value=0)\n",
        "df_6_features_3_2 = df_6_3_2.pivot_table(index='User-ID', columns='ISBN', values='Book-Rating',fill_value=0)\n",
        "df_6_features_3_3 = df_6_3_3.pivot_table(index='User-ID', columns='ISBN', values='Book-Rating',fill_value=0)\n",
        "df_6_features_3_4 = df_6_3_4.pivot_table(index='User-ID', columns='ISBN', values='Book-Rating',fill_value=0)\n",
        "user_similarity(df_6_features_3_1, df_6_3_1)\n",
        "user_similarity(df_6_features_3_2, df_6_3_2)\n",
        "user_similarity(df_6_features_3_3, df_6_3_3)\n",
        "user_similarity(df_6_features_3_4, df_6_3_4)"
      ],
      "execution_count": null,
      "outputs": [
        {
          "output_type": "stream",
          "text": [
            "The RMSE of df_6_3_1: 0.0\n",
            "The RMSE of df_6_3_2: 0.6448840875547504\n",
            "The RMSE of df_6_3_3: 0.49885130671485345\n",
            "The RMSE of df_6_3_4: 0.08902086949444664\n"
          ],
          "name": "stdout"
        }
      ]
    },
    {
      "cell_type": "code",
      "metadata": {
        "colab": {
          "base_uri": "https://localhost:8080/"
        },
        "id": "Z39EQob_jK9C",
        "outputId": "d5b2c085-e0a3-4a1e-9a47-0a715809296c"
      },
      "source": [
        "df_6_features_2 = df_6_2.pivot_table(index='User-ID', columns='ISBN', values='Book-Rating',fill_value=0)\n",
        "user_similarity(df_6_features_2, df_6_2)"
      ],
      "execution_count": null,
      "outputs": [
        {
          "output_type": "stream",
          "text": [
            "The RMSE of df_6_2: 0.0\n"
          ],
          "name": "stdout"
        }
      ]
    },
    {
      "cell_type": "markdown",
      "metadata": {
        "id": "Ph4l_mT4285E"
      },
      "source": [
        "## 8 clusters context aware"
      ]
    },
    {
      "cell_type": "code",
      "metadata": {
        "colab": {
          "base_uri": "https://localhost:8080/"
        },
        "id": "yQrJMOZE2tjV",
        "outputId": "94043b80-5944-40fa-e28a-18679d421912"
      },
      "source": [
        "print(\"df_8_0: \",df_8_0.shape)\n",
        "print(\"df_8_1: \",df_8_1.shape)\n",
        "print(\"df_8_2: \",df_8_2.shape)\n",
        "print(\"df_8_3: \",df_8_3.shape)\n",
        "print(\"df_8_4: \",df_8_4.shape)"
      ],
      "execution_count": null,
      "outputs": [
        {
          "output_type": "stream",
          "text": [
            "df_8_0:  (184337, 14)\n",
            "df_8_1:  (197017, 14)\n",
            "df_8_2:  (187319, 14)\n",
            "df_8_3:  (455697, 14)\n",
            "df_8_4:  (3789, 14)\n"
          ],
          "name": "stdout"
        }
      ]
    },
    {
      "cell_type": "code",
      "metadata": {
        "colab": {
          "base_uri": "https://localhost:8080/"
        },
        "id": "02646YUd3Dq-",
        "outputId": "d7524450-0cf2-46d9-9b3e-058a4ade3d9a"
      },
      "source": [
        "# df_8_2\n",
        "\n",
        "\n",
        "# Breaking df_8_2\n",
        "df_8_2_1 = np.array_split(df_8_2,5)[0]\n",
        "df_8_2_2 = np.array_split(df_8_2,5)[1]\n",
        "df_8_2_3 = np.array_split(df_8_2,5)[2]\n",
        "df_8_2_4 = np.array_split(df_8_2,5)[3]\n",
        "df_8_2_5 = np.array_split(df_8_2,5)[4]\n",
        "# df_8_features_2_1 = df_8_2_1.pivot_table(index='User-ID', columns='ISBN', values='Book-Rating',fill_value=0)\n",
        "# df_8_features_2_2 = df_8_2_2.pivot_table(index='User-ID', columns='ISBN', values='Book-Rating',fill_value=0)\n",
        "# df_8_features_2_3 = df_8_2_3.pivot_table(index='User-ID', columns='ISBN', values='Book-Rating',fill_value=0)\n",
        "# df_8_features_2_4 = df_8_2_4.pivot_table(index='User-ID', columns='ISBN', values='Book-Rating',fill_value=0)\n",
        "# df_8_features_2_5 = df_8_2_5.pivot_table(index='User-ID', columns='ISBN', values='Book-Rating',fill_value=0)\n",
        "# user_similarity(df_8_features_2_1, df_8_2_1)\n",
        "# user_similarity(df_8_features_2_2, df_8_2_2)\n",
        "# user_similarity(df_8_features_2_3, df_8_2_3)\n",
        "# user_similarity(df_8_features_2_4, df_8_2_4)\n",
        "# user_similarity(df_8_features_2_5, df_8_2_5)"
      ],
      "execution_count": null,
      "outputs": [
        {
          "output_type": "stream",
          "text": [
            "The RMSE of df_8_2_1: 1.894288897941656\n",
            "The RMSE of df_8_2_2: 1.799691192757625\n",
            "The RMSE of df_8_2_3: 1.8250221615860163\n",
            "The RMSE of df_8_2_4: 1.8796322771145704\n",
            "The RMSE of df_8_2_5: 1.96437211679043\n"
          ],
          "name": "stdout"
        }
      ]
    },
    {
      "cell_type": "code",
      "metadata": {
        "colab": {
          "base_uri": "https://localhost:8080/"
        },
        "id": "TfA9_LJ53de9",
        "outputId": "47970c8b-c018-4348-f8b8-3b8343b62b93"
      },
      "source": [
        "# df_8_4\n",
        "df_8_4_1 = np.array_split(df_8_4,5)[0]\n",
        "df_8_4_2 = np.array_split(df_8_4,5)[1]\n",
        "df_8_4_3 = np.array_split(df_8_4,5)[2]\n",
        "df_8_4_4 = np.array_split(df_8_4,5)[3]\n",
        "df_8_4_5 = np.array_split(df_8_4,5)[4]\n",
        "# df_8_features_4_1 = df_8_4_1.pivot_table(index='User-ID', columns='ISBN', values='Book-Rating',fill_value=0)\n",
        "# df_8_features_4_2 = df_8_4_2.pivot_table(index='User-ID', columns='ISBN', values='Book-Rating',fill_value=0)\n",
        "# df_8_features_4_3 = df_8_4_3.pivot_table(index='User-ID', columns='ISBN', values='Book-Rating',fill_value=0)\n",
        "# df_8_features_4_4 = df_8_4_4.pivot_table(index='User-ID', columns='ISBN', values='Book-Rating',fill_value=0)\n",
        "# df_8_features_4_5 = df_8_4_5.pivot_table(index='User-ID', columns='ISBN', values='Book-Rating',fill_value=0)\n",
        "# user_similarity(df_8_features_4_1, df_8_4_1)\n",
        "# user_similarity(df_8_features_4_2, df_8_4_2)\n",
        "# user_similarity(df_8_features_4_3, df_8_4_3)\n",
        "# user_similarity(df_8_features_4_4, df_8_4_4)\n",
        "# user_similarity(df_8_features_4_5, df_8_4_5)"
      ],
      "execution_count": null,
      "outputs": [
        {
          "output_type": "stream",
          "text": [
            "The RMSE of df_8_4_1: 0.0\n",
            "The RMSE of df_8_4_2: 0.0\n",
            "The RMSE of df_8_4_3: 0.0\n",
            "The RMSE of df_8_4_4: 0.0\n",
            "The RMSE of df_8_4_5: nan\n"
          ],
          "name": "stdout"
        }
      ]
    },
    {
      "cell_type": "code",
      "metadata": {
        "colab": {
          "base_uri": "https://localhost:8080/"
        },
        "id": "wrWBZzg430fV",
        "outputId": "bece2992-bb28-48b7-f123-28c29caaad11"
      },
      "source": [
        "# Breaking df_8_1\n",
        "df_8_1_1 = np.array_split(df_8_1,10)[0]\n",
        "df_8_1_2 = np.array_split(df_8_1,10)[1]\n",
        "df_8_1_3 = np.array_split(df_8_1,10)[2]\n",
        "df_8_1_4 = np.array_split(df_8_1,10)[3]\n",
        "df_8_1_5 = np.array_split(df_8_1,10)[4]\n",
        "df_8_1_6 = np.array_split(df_8_1,10)[5]\n",
        "df_8_1_7 = np.array_split(df_8_1,10)[6]\n",
        "df_8_1_8 = np.array_split(df_8_1,10)[7]\n",
        "df_8_1_9 = np.array_split(df_8_1,10)[8]\n",
        "df_8_1_10 = np.array_split(df_8_1,10)[9]\n",
        "\n",
        "# df_8_features_1_1 = df_8_1_1.pivot_table(index='User-ID', columns='ISBN', values='Book-Rating',fill_value=0)\n",
        "# df_8_features_1_2 = df_8_1_2.pivot_table(index='User-ID', columns='ISBN', values='Book-Rating',fill_value=0)\n",
        "# df_8_features_1_3 = df_8_1_3.pivot_table(index='User-ID', columns='ISBN', values='Book-Rating',fill_value=0)\n",
        "# df_8_features_1_4 = df_8_1_4.pivot_table(index='User-ID', columns='ISBN', values='Book-Rating',fill_value=0)\n",
        "# df_8_features_1_5 = df_8_1_5.pivot_table(index='User-ID', columns='ISBN', values='Book-Rating',fill_value=0)\n",
        "# df_8_features_1_6 = df_8_1_6.pivot_table(index='User-ID', columns='ISBN', values='Book-Rating',fill_value=0)\n",
        "# df_8_features_1_7 = df_8_1_7.pivot_table(index='User-ID', columns='ISBN', values='Book-Rating',fill_value=0)\n",
        "# df_8_features_1_8 = df_8_1_8.pivot_table(index='User-ID', columns='ISBN', values='Book-Rating',fill_value=0)\n",
        "# df_8_features_1_9 = df_8_1_9.pivot_table(index='User-ID', columns='ISBN', values='Book-Rating',fill_value=0)\n",
        "# df_8_features_1_10 = df_8_1_10.pivot_table(index='User-ID', columns='ISBN', values='Book-Rating',fill_value=0)\n",
        "\n",
        "# user_similarity(df_8_features_1_1, df_8_1_1)\n",
        "# user_similarity(df_8_features_1_2, df_8_1_2)\n",
        "# user_similarity(df_8_features_1_3, df_8_1_3)\n",
        "# user_similarity(df_8_features_1_4, df_8_1_4)\n",
        "# user_similarity(df_8_features_1_5, df_8_1_5)\n",
        "# user_similarity(df_8_features_1_6, df_8_1_6)\n",
        "# user_similarity(df_8_features_1_7, df_8_1_7)\n",
        "# user_similarity(df_8_features_1_8, df_8_1_8)\n",
        "# user_similarity(df_8_features_1_9, df_8_1_9)\n",
        "# user_similarity(df_8_features_1_10, df_8_1_10)"
      ],
      "execution_count": null,
      "outputs": [
        {
          "output_type": "stream",
          "text": [
            "The RMSE of df_8_1_1: 1.7432274861307073\n",
            "The RMSE of df_8_1_2: 1.7459095424428517\n",
            "The RMSE of df_8_1_3: 1.6372614247545607\n",
            "The RMSE of df_8_1_4: 1.6475761648231582\n",
            "The RMSE of df_8_1_5: 1.6818720216679395\n",
            "The RMSE of df_8_1_6: 1.713218790534816\n",
            "The RMSE of df_8_1_7: 1.6776713338601745\n",
            "The RMSE of df_8_1_8: 1.700343940523557\n",
            "The RMSE of df_8_1_9: 1.7371260654427079\n",
            "The RMSE of df_8_1_10: 1.7206288207067915\n"
          ],
          "name": "stdout"
        }
      ]
    },
    {
      "cell_type": "code",
      "metadata": {
        "id": "HQ_pji-R0gZU"
      },
      "source": [
        "# Breaking df_8_0\n",
        "df_8_0_1 = np.array_split(df_8_0,10)[0]\n",
        "df_8_0_2 = np.array_split(df_8_0,10)[1]\n",
        "df_8_0_3 = np.array_split(df_8_0,10)[2]\n",
        "df_8_0_4 = np.array_split(df_8_0,10)[3]\n",
        "df_8_0_5 = np.array_split(df_8_0,10)[4]\n",
        "df_8_0_6 = np.array_split(df_8_0,10)[5]\n",
        "df_8_0_7 = np.array_split(df_8_0,10)[6]\n",
        "df_8_0_8 = np.array_split(df_8_0,10)[7]\n",
        "df_8_0_9 = np.array_split(df_8_0,10)[8]\n",
        "df_8_0_10 = np.array_split(df_8_0,10)[9]\n",
        "\n",
        "# df_8_features_0_1 = df_8_0_1.pivot_table(index='User-ID', columns='ISBN', values='Book-Rating',fill_value=0)\n",
        "# df_8_features_0_2 = df_8_0_2.pivot_table(index='User-ID', columns='ISBN', values='Book-Rating',fill_value=0)\n",
        "# df_8_features_0_3 = df_8_0_3.pivot_table(index='User-ID', columns='ISBN', values='Book-Rating',fill_value=0)\n",
        "# df_8_features_0_4 = df_8_0_4.pivot_table(index='User-ID', columns='ISBN', values='Book-Rating',fill_value=0)\n",
        "# df_8_features_0_5 = df_8_0_5.pivot_table(index='User-ID', columns='ISBN', values='Book-Rating',fill_value=0)\n",
        "# df_8_features_0_6 = df_8_0_6.pivot_table(index='User-ID', columns='ISBN', values='Book-Rating',fill_value=0)\n",
        "# df_8_features_0_7 = df_8_0_7.pivot_table(index='User-ID', columns='ISBN', values='Book-Rating',fill_value=0)\n",
        "# df_8_features_0_8 = df_8_0_8.pivot_table(index='User-ID', columns='ISBN', values='Book-Rating',fill_value=0)\n",
        "# df_8_features_0_9 = df_8_0_9.pivot_table(index='User-ID', columns='ISBN', values='Book-Rating',fill_value=0)\n",
        "# df_8_features_0_10 = df_8_0_10.pivot_table(index='User-ID', columns='ISBN', values='Book-Rating',fill_value=0)\n",
        "\n",
        "# user_similarity(df_8_features_0_1, df_8_0_1)\n",
        "# user_similarity(df_8_features_0_2, df_8_0_2)\n",
        "# user_similarity(df_8_features_0_3, df_8_0_3)\n",
        "# user_similarity(df_8_features_0_4, df_8_0_4)\n",
        "# user_similarity(df_8_features_0_5, df_8_0_5)\n",
        "# user_similarity(df_8_features_0_6, df_8_0_6)\n",
        "# user_similarity(df_8_features_0_7, df_8_0_7)\n",
        "# user_similarity(df_8_features_0_8, df_8_0_8)\n",
        "# user_similarity(df_8_features_0_9, df_8_0_9)\n",
        "# user_similarity(df_8_features_0_10, df_8_0_10)"
      ],
      "execution_count": null,
      "outputs": []
    },
    {
      "cell_type": "code",
      "metadata": {
        "id": "fbGgY-Nc35lK"
      },
      "source": [
        "# Breaking df_8_2\n",
        "df_8_2_1 = np.array_split(df_8_2,20)[0]\n",
        "df_8_2_2 = np.array_split(df_8_2,20)[1]\n",
        "df_8_2_3 = np.array_split(df_8_2,20)[2]\n",
        "df_8_2_4 = np.array_split(df_8_2,20)[3]\n",
        "df_8_2_5 = np.array_split(df_8_2,20)[4]\n",
        "df_8_2_6 = np.array_split(df_8_2,20)[5]\n",
        "df_8_2_7 = np.array_split(df_8_2,20)[6]\n",
        "df_8_2_8 = np.array_split(df_8_2,20)[7]\n",
        "df_8_2_9 = np.array_split(df_8_2,20)[8]\n",
        "df_8_2_10 = np.array_split(df_8_2,20)[9]\n",
        "df_8_2_11 = np.array_split(df_8_2,20)[10]\n",
        "df_8_2_12 = np.array_split(df_8_2,20)[11]\n",
        "df_8_2_13 = np.array_split(df_8_2,20)[12]\n",
        "df_8_2_14 = np.array_split(df_8_2,20)[13]\n",
        "df_8_2_15 = np.array_split(df_8_2,20)[14]\n",
        "df_8_2_16 = np.array_split(df_8_2,20)[15]\n",
        "df_8_2_17 = np.array_split(df_8_2,20)[16]\n",
        "df_8_2_18 = np.array_split(df_8_2,20)[17]\n",
        "df_8_2_19 = np.array_split(df_8_2,20)[18]\n",
        "df_8_2_20 = np.array_split(df_8_2,20)[19]\n",
        "\n",
        "# df_8_features_2_1 = df_8_2_1.pivot_table(index='User-ID', columns='ISBN', values='Book-Rating',fill_value=0)\n",
        "# df_8_features_2_2 = df_8_2_2.pivot_table(index='User-ID', columns='ISBN', values='Book-Rating',fill_value=0)\n",
        "# df_8_features_2_3 = df_8_2_3.pivot_table(index='User-ID', columns='ISBN', values='Book-Rating',fill_value=0)\n",
        "# df_8_features_2_4 = df_8_2_4.pivot_table(index='User-ID', columns='ISBN', values='Book-Rating',fill_value=0)\n",
        "# df_8_features_2_5 = df_8_2_5.pivot_table(index='User-ID', columns='ISBN', values='Book-Rating',fill_value=0)\n",
        "# df_8_features_2_6 = df_8_2_6.pivot_table(index='User-ID', columns='ISBN', values='Book-Rating',fill_value=0)\n",
        "# df_8_features_2_7 = df_8_2_7.pivot_table(index='User-ID', columns='ISBN', values='Book-Rating',fill_value=0)\n",
        "# df_8_features_2_8 = df_8_2_8.pivot_table(index='User-ID', columns='ISBN', values='Book-Rating',fill_value=0)\n",
        "# df_8_features_2_9 = df_8_2_9.pivot_table(index='User-ID', columns='ISBN', values='Book-Rating',fill_value=0)\n",
        "# df_8_features_2_10 = df_8_2_10.pivot_table(index='User-ID', columns='ISBN', values='Book-Rating',fill_value=0)\n",
        "# df_8_features_2_11 = df_8_2_11.pivot_table(index='User-ID', columns='ISBN', values='Book-Rating',fill_value=0)\n",
        "# df_8_features_2_12 = df_8_2_12.pivot_table(index='User-ID', columns='ISBN', values='Book-Rating',fill_value=0)\n",
        "# df_8_features_2_13 = df_8_2_13.pivot_table(index='User-ID', columns='ISBN', values='Book-Rating',fill_value=0)\n",
        "# df_8_features_2_14 = df_8_2_14.pivot_table(index='User-ID', columns='ISBN', values='Book-Rating',fill_value=0)\n",
        "# df_8_features_2_15 = df_8_2_15.pivot_table(index='User-ID', columns='ISBN', values='Book-Rating',fill_value=0)\n",
        "# df_8_features_2_16 = df_8_2_16.pivot_table(index='User-ID', columns='ISBN', values='Book-Rating',fill_value=0)\n",
        "# df_8_features_2_17 = df_8_2_17.pivot_table(index='User-ID', columns='ISBN', values='Book-Rating',fill_value=0)\n",
        "# df_8_features_2_18 = df_8_2_18.pivot_table(index='User-ID', columns='ISBN', values='Book-Rating',fill_value=0)\n",
        "# df_8_features_2_19 = df_8_2_19.pivot_table(index='User-ID', columns='ISBN', values='Book-Rating',fill_value=0)\n",
        "# df_8_features_2_20 = df_8_2_20.pivot_table(index='User-ID', columns='ISBN', values='Book-Rating',fill_value=0)\n",
        "\n",
        "# user_similarity(df_8_features_2_1, df_8_2_1)\n",
        "# user_similarity(df_8_features_2_2, df_8_2_2)\n",
        "# user_similarity(df_8_features_2_3, df_8_2_3)\n",
        "# user_similarity(df_8_features_2_4, df_8_2_4)\n",
        "# user_similarity(df_8_features_2_5, df_8_2_5)\n",
        "# user_similarity(df_8_features_2_6, df_8_2_6)\n",
        "# user_similarity(df_8_features_2_7, df_8_2_7)\n",
        "# user_similarity(df_8_features_2_8, df_8_2_8)\n",
        "# user_similarity(df_8_features_2_9, df_8_2_9)\n",
        "# user_similarity(df_8_features_2_10, df_8_2_10)\n",
        "# user_similarity(df_8_features_2_11, df_8_2_11)\n",
        "# user_similarity(df_8_features_2_12, df_8_2_12)\n",
        "# user_similarity(df_8_features_2_13, df_8_2_13)\n",
        "# user_similarity(df_8_features_2_14, df_8_2_14)\n",
        "# user_similarity(df_8_features_2_15, df_8_2_15)\n",
        "# user_similarity(df_8_features_2_16, df_8_2_16)\n",
        "# user_similarity(df_8_features_2_17, df_8_2_17)\n",
        "# user_similarity(df_8_features_2_18, df_8_2_18)\n",
        "# user_similarity(df_8_features_2_19, df_8_2_19)\n",
        "# user_similarity(df_8_features_2_20, df_8_2_20)"
      ],
      "execution_count": null,
      "outputs": []
    },
    {
      "cell_type": "code",
      "metadata": {
        "id": "ZQGVB40e35dV"
      },
      "source": [
        "# Breaking df_8_3\n",
        "df_8_3_1 = np.array_split(df_8_3,25)[0]\n",
        "df_8_3_2 = np.array_split(df_8_3,25)[1]\n",
        "df_8_3_3 = np.array_split(df_8_3,25)[2]\n",
        "df_8_3_4 = np.array_split(df_8_3,25)[3]\n",
        "df_8_3_5 = np.array_split(df_8_3,25)[4]\n",
        "df_8_3_6 = np.array_split(df_8_3,25)[5]\n",
        "df_8_3_7 = np.array_split(df_8_3,25)[6]\n",
        "df_8_3_8 = np.array_split(df_8_3,25)[7]\n",
        "df_8_3_9 = np.array_split(df_8_3,25)[8]\n",
        "df_8_3_10 = np.array_split(df_8_3,25)[9]\n",
        "df_8_3_11 = np.array_split(df_8_3,25)[10]\n",
        "df_8_3_12 = np.array_split(df_8_3,25)[11]\n",
        "df_8_3_13 = np.array_split(df_8_3,25)[12]\n",
        "df_8_3_14 = np.array_split(df_8_3,25)[13]\n",
        "df_8_3_15 = np.array_split(df_8_3,25)[14]\n",
        "df_8_3_16 = np.array_split(df_8_3,25)[15]\n",
        "df_8_3_17 = np.array_split(df_8_3,25)[16]\n",
        "df_8_3_18 = np.array_split(df_8_3,25)[17]\n",
        "df_8_3_19 = np.array_split(df_8_3,25)[18]\n",
        "df_8_3_20 = np.array_split(df_8_3,25)[19]\n",
        "df_8_3_21 = np.array_split(df_8_3,25)[20]\n",
        "df_8_3_22 = np.array_split(df_8_3,25)[21]\n",
        "df_8_3_23 = np.array_split(df_8_3,25)[22]\n",
        "df_8_3_24 = np.array_split(df_8_3,25)[23]\n",
        "df_8_3_25 = np.array_split(df_8_3,25)[24]\n",
        "\n",
        "# df_8_features_3_1 = df_8_3_1.pivot_table(index='User-ID', columns='ISBN', values='Book-Rating',fill_value=0)\n",
        "# df_8_features_3_2 = df_8_3_2.pivot_table(index='User-ID', columns='ISBN', values='Book-Rating',fill_value=0)\n",
        "# df_8_features_3_3 = df_8_3_3.pivot_table(index='User-ID', columns='ISBN', values='Book-Rating',fill_value=0)\n",
        "# df_8_features_3_4 = df_8_3_4.pivot_table(index='User-ID', columns='ISBN', values='Book-Rating',fill_value=0)\n",
        "# df_8_features_3_5 = df_8_3_5.pivot_table(index='User-ID', columns='ISBN', values='Book-Rating',fill_value=0)\n",
        "# df_8_features_3_6 = df_8_3_6.pivot_table(index='User-ID', columns='ISBN', values='Book-Rating',fill_value=0)\n",
        "# df_8_features_3_7 = df_8_3_7.pivot_table(index='User-ID', columns='ISBN', values='Book-Rating',fill_value=0)\n",
        "# df_8_features_3_8 = df_8_3_8.pivot_table(index='User-ID', columns='ISBN', values='Book-Rating',fill_value=0)\n",
        "# df_8_features_3_9 = df_8_3_9.pivot_table(index='User-ID', columns='ISBN', values='Book-Rating',fill_value=0)\n",
        "# df_8_features_3_10 = df_8_3_10.pivot_table(index='User-ID', columns='ISBN', values='Book-Rating',fill_value=0)\n",
        "# df_8_features_3_11 = df_8_3_11.pivot_table(index='User-ID', columns='ISBN', values='Book-Rating',fill_value=0)\n",
        "# df_8_features_3_12 = df_8_3_12.pivot_table(index='User-ID', columns='ISBN', values='Book-Rating',fill_value=0)\n",
        "# df_8_features_3_13 = df_8_3_13.pivot_table(index='User-ID', columns='ISBN', values='Book-Rating',fill_value=0)\n",
        "# df_8_features_3_14 = df_8_3_14.pivot_table(index='User-ID', columns='ISBN', values='Book-Rating',fill_value=0)\n",
        "# df_8_features_3_15 = df_8_3_15.pivot_table(index='User-ID', columns='ISBN', values='Book-Rating',fill_value=0)\n",
        "# df_8_features_3_16 = df_8_3_16.pivot_table(index='User-ID', columns='ISBN', values='Book-Rating',fill_value=0)\n",
        "# df_8_features_3_17 = df_8_3_17.pivot_table(index='User-ID', columns='ISBN', values='Book-Rating',fill_value=0)\n",
        "# df_8_features_3_18 = df_8_3_18.pivot_table(index='User-ID', columns='ISBN', values='Book-Rating',fill_value=0)\n",
        "# df_8_features_3_19 = df_8_3_19.pivot_table(index='User-ID', columns='ISBN', values='Book-Rating',fill_value=0)\n",
        "# df_8_features_3_20 = df_8_3_20.pivot_table(index='User-ID', columns='ISBN', values='Book-Rating',fill_value=0)\n",
        "# df_8_features_3_21 = df_8_3_21.pivot_table(index='User-ID', columns='ISBN', values='Book-Rating',fill_value=0)\n",
        "# df_8_features_3_22 = df_8_3_22.pivot_table(index='User-ID', columns='ISBN', values='Book-Rating',fill_value=0)\n",
        "# df_8_features_3_23 = df_8_3_23.pivot_table(index='User-ID', columns='ISBN', values='Book-Rating',fill_value=0)\n",
        "# df_8_features_3_24 = df_8_3_24.pivot_table(index='User-ID', columns='ISBN', values='Book-Rating',fill_value=0)\n",
        "# df_8_features_3_25 = df_8_3_25.pivot_table(index='User-ID', columns='ISBN', values='Book-Rating',fill_value=0)\n",
        "\n",
        "# user_similarity(df_8_features_3_1, df_8_3_1)\n",
        "# user_similarity(df_8_features_3_2, df_8_3_2)\n",
        "# user_similarity(df_8_features_3_3, df_8_3_3)\n",
        "# user_similarity(df_8_features_3_4, df_8_3_4)\n",
        "# user_similarity(df_8_features_3_5, df_8_3_5)\n",
        "# user_similarity(df_8_features_3_6, df_8_3_6)\n",
        "# user_similarity(df_8_features_3_7, df_8_3_7)\n",
        "# user_similarity(df_8_features_3_8, df_8_3_8)\n",
        "# user_similarity(df_8_features_3_9, df_8_3_9)\n",
        "# user_similarity(df_8_features_3_10, df_8_3_10)\n",
        "# user_similarity(df_8_features_3_11, df_8_3_11)\n",
        "# user_similarity(df_8_features_3_12, df_8_3_12)\n",
        "# user_similarity(df_8_features_3_13, df_8_3_13)\n",
        "# user_similarity(df_8_features_3_14, df_8_3_14)\n",
        "# user_similarity(df_8_features_3_15, df_8_3_15)\n",
        "# user_similarity(df_8_features_3_16, df_8_3_16)\n",
        "# user_similarity(df_8_features_3_17, df_8_3_17)\n",
        "# user_similarity(df_8_features_3_18, df_8_3_18)\n",
        "# user_similarity(df_8_features_3_19, df_8_3_19)\n",
        "# user_similarity(df_8_features_3_20, df_8_3_20)\n",
        "# user_similarity(df_8_features_3_21, df_8_3_21)\n",
        "# user_similarity(df_8_features_3_22, df_8_3_22)\n",
        "# user_similarity(df_8_features_3_23, df_8_3_23)\n",
        "# user_similarity(df_8_features_3_24, df_8_3_24)\n",
        "# user_similarity(df_8_features_3_25, df_8_3_25)"
      ],
      "execution_count": null,
      "outputs": []
    },
    {
      "cell_type": "code",
      "metadata": {
        "colab": {
          "base_uri": "https://localhost:8080/"
        },
        "id": "DIJDDGzQ_RY9",
        "outputId": "9832b14b-c2c5-49a6-f951-19ea9900a2bf"
      },
      "source": [
        "# df_8_features_4 = df_8_4.pivot_table(index='User-ID', columns='ISBN', values='Book-Rating',fill_value=0)\n",
        "# user_similarity(df_8_features_4, df_8_4)"
      ],
      "execution_count": null,
      "outputs": [
        {
          "output_type": "stream",
          "text": [
            "The RMSE of df_8_4: 0.0\n"
          ],
          "name": "stdout"
        }
      ]
    },
    {
      "cell_type": "code",
      "metadata": {
        "colab": {
          "base_uri": "https://localhost:8080/"
        },
        "id": "xgqaskad8COv",
        "outputId": "1d7bcbe0-3a69-430f-c7c9-55dca7c0bc66"
      },
      "source": [
        "print(\"df_8_0: \",df_8_0.shape)\n",
        "print(\"df_8_1: \",df_8_1.shape)\n",
        "print(\"df_8_2: \",df_8_2.shape)\n",
        "print(\"df_8_3: \",df_8_3.shape)\n",
        "print(\"df_8_4: \",df_8_4.shape)"
      ],
      "execution_count": null,
      "outputs": [
        {
          "output_type": "stream",
          "text": [
            "df_8_0:  (184337, 14)\n",
            "df_8_1:  (197017, 14)\n",
            "df_8_2:  (187319, 14)\n",
            "df_8_3:  (455697, 14)\n",
            "df_8_4:  (3789, 14)\n"
          ],
          "name": "stdout"
        }
      ]
    },
    {
      "cell_type": "markdown",
      "metadata": {
        "id": "KIIMOLs1u3CH"
      },
      "source": [
        "### Item Similarity (6 clusters)"
      ]
    },
    {
      "cell_type": "code",
      "metadata": {
        "id": "_3vcYv_h8u6G"
      },
      "source": [
        "def item_similarity(df_features, original_df):\n",
        "  mean = np.nanmean(df_features, axis=1)\n",
        "  df_subtracted = (df_features.T-mean).T\n",
        "# Item Similarity Matrix\n",
        "  item_correlation = 1 - pairwise_distances(df_subtracted.fillna(0), metric='cosine')\n",
        "  item_correlation[np.isnan(item_correlation)] = 0\n",
        "  item_correlation[item_correlation<0]=0\n",
        "  item_predicted_ratings = np.dot((df_features.fillna(0).T),item_correlation)\n",
        "  dummy_df = original_df.pivot_table(index='User-ID', columns='ISBN', values='Book-Rating').fillna(0)\n",
        "  item_final_rating = np.multiply(item_predicted_ratings,dummy_df)\n",
        "  X  = item_final_rating.copy() \n",
        "  X = X[X>0]\n",
        "  scaler = MinMaxScaler(feature_range=(1, 5))\n",
        "  scaler.fit(X)\n",
        "  y = (scaler.transform(X))\n",
        "  df_ = original_df.pivot_table(index='User-ID',columns='ISBN',values='Book-Rating')\n",
        "  # Finding total non-NaN value\n",
        "\n",
        "  total_non_nan = np.count_nonzero(~np.isnan(y))\n",
        "  rmse = (sum(sum((df_ - y )**2))/total_non_nan)**0.5\n",
        "  print(\"{} (Item) RMSE: {}\".format(get_df_name(original_df), rmse))"
      ],
      "execution_count": null,
      "outputs": []
    },
    {
      "cell_type": "code",
      "metadata": {
        "colab": {
          "base_uri": "https://localhost:8080/"
        },
        "id": "Fc8B9VUsvOFr",
        "outputId": "4064d53d-6db9-4f45-9440-736ad788a29c"
      },
      "source": [
        "# df_6_0\n",
        "# df_6_features_0_1 = df_6_0_1.pivot_table(index='User-ID', columns='ISBN', values='Book-Rating',fill_value=0).T\n",
        "# df_6_features_0_2 = df_6_0_2.pivot_table(index='User-ID', columns='ISBN', values='Book-Rating',fill_value=0).T\n",
        "# df_6_features_0_3 = df_6_0_3.pivot_table(index='User-ID', columns='ISBN', values='Book-Rating',fill_value=0).T\n",
        "# df_6_features_0_4 = df_6_0_4.pivot_table(index='User-ID', columns='ISBN', values='Book-Rating',fill_value=0).T\n",
        "# df_6_features_0_5 = df_6_0_5.pivot_table(index='User-ID', columns='ISBN', values='Book-Rating',fill_value=0).T\n",
        "# df_6_features_0_6 = df_6_0_6.pivot_table(index='User-ID', columns='ISBN', values='Book-Rating',fill_value=0).T\n",
        "# df_6_features_0_7 = df_6_0_7.pivot_table(index='User-ID', columns='ISBN', values='Book-Rating',fill_value=0).T\n",
        "# df_6_features_0_8 = df_6_0_8.pivot_table(index='User-ID', columns='ISBN', values='Book-Rating',fill_value=0).T\n",
        "# df_6_features_0_9 = df_6_0_9.pivot_table(index='User-ID', columns='ISBN', values='Book-Rating',fill_value=0).T\n",
        "# df_6_features_0_10 = df_6_0_10.pivot_table(index='User-ID', columns='ISBN', values='Book-Rating',fill_value=0).T\n",
        "# df_6_features_0_11 = df_6_0_11.pivot_table(index='User-ID', columns='ISBN', values='Book-Rating',fill_value=0).T\n",
        "# df_6_features_0_12 = df_6_0_12.pivot_table(index='User-ID', columns='ISBN', values='Book-Rating',fill_value=0).T\n",
        "# df_6_features_0_13 = df_6_0_13.pivot_table(index='User-ID', columns='ISBN', values='Book-Rating',fill_value=0).T\n",
        "# df_6_features_0_14 = df_6_0_14.pivot_table(index='User-ID', columns='ISBN', values='Book-Rating',fill_value=0).T\n",
        "# df_6_features_0_15 = df_6_0_15.pivot_table(index='User-ID', columns='ISBN', values='Book-Rating',fill_value=0).T\n",
        "# df_6_features_0_16 = df_6_0_16.pivot_table(index='User-ID', columns='ISBN', values='Book-Rating',fill_value=0).T\n",
        "# df_6_features_0_17 = df_6_0_17.pivot_table(index='User-ID', columns='ISBN', values='Book-Rating',fill_value=0).T\n",
        "# df_6_features_0_18 = df_6_0_18.pivot_table(index='User-ID', columns='ISBN', values='Book-Rating',fill_value=0).T\n",
        "# df_6_features_0_19 = df_6_0_19.pivot_table(index='User-ID', columns='ISBN', values='Book-Rating',fill_value=0).T\n",
        "# df_6_features_0_20 = df_6_0_20.pivot_table(index='User-ID', columns='ISBN', values='Book-Rating',fill_value=0).T\n",
        "# df_6_features_0_21 = df_6_0_21.pivot_table(index='User-ID', columns='ISBN', values='Book-Rating',fill_value=0).T\n",
        "# df_6_features_0_22 = df_6_0_22.pivot_table(index='User-ID', columns='ISBN', values='Book-Rating',fill_value=0).T\n",
        "# df_6_features_0_23 = df_6_0_23.pivot_table(index='User-ID', columns='ISBN', values='Book-Rating',fill_value=0).T\n",
        "# df_6_features_0_24 = df_6_0_24.pivot_table(index='User-ID', columns='ISBN', values='Book-Rating',fill_value=0).T\n",
        "df_6_features_0_25 = df_6_0_25.pivot_table(index='User-ID', columns='ISBN', values='Book-Rating',fill_value=0).T\n",
        "# item_similarity(df_6_features_0_1, df_6_0_1)\n",
        "# item_similarity(df_6_features_0_2, df_6_0_2)\n",
        "# item_similarity(df_6_features_0_3, df_6_0_3)\n",
        "# item_similarity(df_6_features_0_4, df_6_0_4)\n",
        "# item_similarity(df_6_features_0_5, df_6_0_5)\n",
        "# item_similarity(df_6_features_0_6, df_6_0_6)\n",
        "# item_similarity(df_6_features_0_7, df_6_0_7)\n",
        "# item_similarity(df_6_features_0_8, df_6_0_8)\n",
        "# item_similarity(df_6_features_0_9, df_6_0_9)\n",
        "# item_similarity(df_6_features_0_10, df_6_0_10)\n",
        "# item_similarity(df_6_features_0_11, df_6_0_11)\n",
        "# item_similarity(df_6_features_0_12, df_6_0_12)\n",
        "# item_similarity(df_6_features_0_13, df_6_0_13)\n",
        "# item_similarity(df_6_features_0_14, df_6_0_14)\n",
        "# item_similarity(df_6_features_0_15, df_6_0_15)\n",
        "# item_similarity(df_6_features_0_16, df_6_0_16)\n",
        "# item_similarity(df_6_features_0_17, df_6_0_17)\n",
        "# item_similarity(df_6_features_0_18, df_6_0_18)\n",
        "# item_similarity(df_6_features_0_19, df_6_0_19)\n",
        "# item_similarity(df_6_features_0_20, df_6_0_20)\n",
        "# item_similarity(df_6_features_0_21, df_6_0_21)\n",
        "# item_similarity(df_6_features_0_22, df_6_0_22)\n",
        "# item_similarity(df_6_features_0_23, df_6_0_23)\n",
        "# item_similarity(df_6_features_0_24, df_6_0_24)\n",
        "item_similarity(df_6_features_0_25, df_6_0_25)"
      ],
      "execution_count": null,
      "outputs": [
        {
          "output_type": "stream",
          "text": [
            "df_6_0_25 (Item) RMSE: 0.9286912623112119\n"
          ],
          "name": "stdout"
        }
      ]
    },
    {
      "cell_type": "code",
      "metadata": {
        "colab": {
          "base_uri": "https://localhost:8080/"
        },
        "id": "fM11Y_POvkBl",
        "outputId": "0849c1f0-0107-4920-91a6-16be41907304"
      },
      "source": [
        "# df_6_features_1_1 = df_6_1_1.pivot_table(index='User-ID', columns='ISBN', values='Book-Rating',fill_value=0).T\n",
        "# df_6_features_1_2 = df_6_1_2.pivot_table(index='User-ID', columns='ISBN', values='Book-Rating',fill_value=0).T\n",
        "# df_6_features_1_3 = df_6_1_3.pivot_table(index='User-ID', columns='ISBN', values='Book-Rating',fill_value=0).T\n",
        "# df_6_features_1_4 = df_6_1_4.pivot_table(index='User-ID', columns='ISBN', values='Book-Rating',fill_value=0).T\n",
        "# df_6_features_1_5 = df_6_1_5.pivot_table(index='User-ID', columns='ISBN', values='Book-Rating',fill_value=0).T\n",
        "# df_6_features_1_6 = df_6_1_6.pivot_table(index='User-ID', columns='ISBN', values='Book-Rating',fill_value=0).T\n",
        "# df_6_features_1_7 = df_6_1_7.pivot_table(index='User-ID', columns='ISBN', values='Book-Rating',fill_value=0).T\n",
        "# df_6_features_1_8 = df_6_1_8.pivot_table(index='User-ID', columns='ISBN', values='Book-Rating',fill_value=0).T\n",
        "# df_6_features_1_9 = df_6_1_9.pivot_table(index='User-ID', columns='ISBN', values='Book-Rating',fill_value=0).T\n",
        "# df_6_features_1_10 = df_6_1_10.pivot_table(index='User-ID', columns='ISBN', values='Book-Rating',fill_value=0).T\n",
        "# df_6_features_1_11 = df_6_1_11.pivot_table(index='User-ID', columns='ISBN', values='Book-Rating',fill_value=0).T\n",
        "# df_6_features_1_12 = df_6_1_12.pivot_table(index='User-ID', columns='ISBN', values='Book-Rating',fill_value=0).T\n",
        "# df_6_features_1_13 = df_6_1_13.pivot_table(index='User-ID', columns='ISBN', values='Book-Rating',fill_value=0).T\n",
        "df_6_features_1_14 = df_6_1_14.pivot_table(index='User-ID', columns='ISBN', values='Book-Rating',fill_value=0).T\n",
        "df_6_features_1_15 = df_6_1_15.pivot_table(index='User-ID', columns='ISBN', values='Book-Rating',fill_value=0).T\n",
        "df_6_features_1_16 = df_6_1_16.pivot_table(index='User-ID', columns='ISBN', values='Book-Rating',fill_value=0).T\n",
        "df_6_features_1_17 = df_6_1_17.pivot_table(index='User-ID', columns='ISBN', values='Book-Rating',fill_value=0).T\n",
        "df_6_features_1_18 = df_6_1_18.pivot_table(index='User-ID', columns='ISBN', values='Book-Rating',fill_value=0).T\n",
        "df_6_features_1_19 = df_6_1_19.pivot_table(index='User-ID', columns='ISBN', values='Book-Rating',fill_value=0).T\n",
        "df_6_features_1_20 = df_6_1_20.pivot_table(index='User-ID', columns='ISBN', values='Book-Rating',fill_value=0).T\n",
        "df_6_features_1_21 = df_6_1_21.pivot_table(index='User-ID', columns='ISBN', values='Book-Rating',fill_value=0).T\n",
        "df_6_features_1_22 = df_6_1_22.pivot_table(index='User-ID', columns='ISBN', values='Book-Rating',fill_value=0).T\n",
        "df_6_features_1_23 = df_6_1_23.pivot_table(index='User-ID', columns='ISBN', values='Book-Rating',fill_value=0).T\n",
        "df_6_features_1_24 = df_6_1_24.pivot_table(index='User-ID', columns='ISBN', values='Book-Rating',fill_value=0).T\n",
        "# df_6_features_1_25 = df_6_1_25.pivot_table(index='User-ID', columns='ISBN', values='Book-Rating',fill_value=0).T\n",
        "# \n",
        "\n",
        "# item_similarity(df_6_features_1_1, df_6_1_1)\n",
        "# item_similarity(df_6_features_1_2, df_6_1_2)\n",
        "# item_similarity(df_6_features_1_3, df_6_1_3)\n",
        "# item_similarity(df_6_features_1_4, df_6_1_4)\n",
        "# item_similarity(df_6_features_1_5, df_6_1_5)\n",
        "# item_similarity(df_6_features_1_6, df_6_1_6)\n",
        "# item_similarity(df_6_features_1_7, df_6_1_7)\n",
        "# item_similarity(df_6_features_1_8, df_6_1_8)\n",
        "# item_similarity(df_6_features_1_9, df_6_1_9)\n",
        "# item_similarity(df_6_features_1_10, df_6_1_10)\n",
        "# item_similarity(df_6_features_1_11, df_6_1_11)\n",
        "# item_similarity(df_6_features_1_12, df_6_1_12)\n",
        "# item_similarity(df_6_features_1_13, df_6_1_13)\n",
        "item_similarity(df_6_features_1_14, df_6_1_14)\n",
        "item_similarity(df_6_features_1_15, df_6_1_15)\n",
        "item_similarity(df_6_features_1_16, df_6_1_16)\n",
        "item_similarity(df_6_features_1_17, df_6_1_17)\n",
        "item_similarity(df_6_features_1_18, df_6_1_18)\n",
        "item_similarity(df_6_features_1_19, df_6_1_19)\n",
        "item_similarity(df_6_features_1_20, df_6_1_20)\n",
        "item_similarity(df_6_features_1_21, df_6_1_21)\n",
        "item_similarity(df_6_features_1_22, df_6_1_22)\n",
        "item_similarity(df_6_features_1_23, df_6_1_23)\n",
        "item_similarity(df_6_features_1_24, df_6_1_24)\n",
        "# item_similarity(df_6_features_1_25, df_6_1_25)"
      ],
      "execution_count": null,
      "outputs": [
        {
          "output_type": "stream",
          "text": [
            "df_6_1_25 (Item) RMSE: nan\n"
          ],
          "name": "stdout"
        }
      ]
    },
    {
      "cell_type": "code",
      "metadata": {
        "colab": {
          "base_uri": "https://localhost:8080/"
        },
        "id": "1gWbeZhGwpmb",
        "outputId": "2711f389-a9d8-4693-8e08-5503ce5a40bc"
      },
      "source": [
        "df_6_features_2 = df_6_2.pivot_table(index='User-ID', columns='ISBN', values='Book-Rating',fill_value=0).T\n",
        "\n",
        "item_similarity(df_6_features_2, df_6_2)\n"
      ],
      "execution_count": null,
      "outputs": [
        {
          "output_type": "stream",
          "text": [
            "df_6_2 (Item) RMSE: 0.0\n"
          ],
          "name": "stdout"
        }
      ]
    },
    {
      "cell_type": "code",
      "metadata": {
        "colab": {
          "base_uri": "https://localhost:8080/"
        },
        "id": "sujEFGxJxdfE",
        "outputId": "e35157f4-73cb-4e39-9038-97034d8625b7"
      },
      "source": [
        "df_6_features_3_1 = df_6_3_1.pivot_table(index='User-ID', columns='ISBN', values='Book-Rating',fill_value=0).T\n",
        "df_6_features_3_2 = df_6_3_2.pivot_table(index='User-ID', columns='ISBN', values='Book-Rating',fill_value=0).T\n",
        "df_6_features_3_3 = df_6_3_3.pivot_table(index='User-ID', columns='ISBN', values='Book-Rating',fill_value=0).T\n",
        "df_6_features_3_4 = df_6_3_4.pivot_table(index='User-ID', columns='ISBN', values='Book-Rating',fill_value=0).T\n",
        "item_similarity(df_6_features_3_1, df_6_3_1)\n",
        "item_similarity(df_6_features_3_2, df_6_3_2)\n",
        "item_similarity(df_6_features_3_3, df_6_3_3)\n",
        "item_similarity(df_6_features_3_4, df_6_3_4)"
      ],
      "execution_count": null,
      "outputs": [
        {
          "output_type": "stream",
          "text": [
            "df_6_3_1 (Item) RMSE: nan\n",
            "df_6_3_2 (Item) RMSE: 0.6448840875547504\n",
            "df_6_3_3 (Item) RMSE: 0.49885130671485356\n",
            "df_6_3_4 (Item) RMSE: 0.0\n"
          ],
          "name": "stdout"
        }
      ]
    },
    {
      "cell_type": "markdown",
      "metadata": {
        "id": "8hwL24tCx7MW"
      },
      "source": [
        "### Item Similarity (8 clusters)"
      ]
    },
    {
      "cell_type": "code",
      "metadata": {
        "colab": {
          "base_uri": "https://localhost:8080/"
        },
        "id": "MjG4nD7wx2rq",
        "outputId": "31e50276-f4ef-4c69-eb28-1d3c1af05050"
      },
      "source": [
        "# df_8_0\n",
        "df_8_features_0_1 = df_8_0_1.pivot_table(index='User-ID', columns='ISBN', values='Book-Rating',fill_value=0).T\n",
        "df_8_features_0_2 = df_8_0_2.pivot_table(index='User-ID', columns='ISBN', values='Book-Rating',fill_value=0).T\n",
        "df_8_features_0_3 = df_8_0_3.pivot_table(index='User-ID', columns='ISBN', values='Book-Rating',fill_value=0).T\n",
        "df_8_features_0_4 = df_8_0_4.pivot_table(index='User-ID', columns='ISBN', values='Book-Rating',fill_value=0).T\n",
        "df_8_features_0_5 = df_8_0_5.pivot_table(index='User-ID', columns='ISBN', values='Book-Rating',fill_value=0).T\n",
        "df_8_features_0_6 = df_8_0_6.pivot_table(index='User-ID', columns='ISBN', values='Book-Rating',fill_value=0).T\n",
        "df_8_features_0_7 = df_8_0_7.pivot_table(index='User-ID', columns='ISBN', values='Book-Rating',fill_value=0).T\n",
        "df_8_features_0_8 = df_8_0_8.pivot_table(index='User-ID', columns='ISBN', values='Book-Rating',fill_value=0).T\n",
        "df_8_features_0_9 = df_8_0_9.pivot_table(index='User-ID', columns='ISBN', values='Book-Rating',fill_value=0).T\n",
        "df_8_features_0_10 = df_8_0_10.pivot_table(index='User-ID', columns='ISBN', values='Book-Rating',fill_value=0).T\n",
        "item_similarity(df_8_features_0_1, df_8_0_1)\n",
        "item_similarity(df_8_features_0_2, df_8_0_2)\n",
        "item_similarity(df_8_features_0_3, df_8_0_3)\n",
        "item_similarity(df_8_features_0_4, df_8_0_4)\n",
        "item_similarity(df_8_features_0_5, df_8_0_5)\n",
        "item_similarity(df_8_features_0_6, df_8_0_6)\n",
        "item_similarity(df_8_features_0_7, df_8_0_7)\n",
        "item_similarity(df_8_features_0_8, df_8_0_8)\n",
        "item_similarity(df_8_features_0_9, df_8_0_9)\n",
        "item_similarity(df_8_features_0_10, df_8_0_10)"
      ],
      "execution_count": null,
      "outputs": [
        {
          "output_type": "stream",
          "text": [
            "df_8_0_1 (Item) RMSE: 1.396832013215738\n",
            "df_8_0_2 (Item) RMSE: 1.2201242305741582\n",
            "df_8_0_3 (Item) RMSE: 1.2797528144307604\n",
            "df_8_0_4 (Item) RMSE: 1.3108715023489406\n",
            "df_8_0_5 (Item) RMSE: 1.3581641199324894\n",
            "df_8_0_6 (Item) RMSE: 1.3757759450719207\n",
            "df_8_0_7 (Item) RMSE: 1.2937762493048095\n",
            "df_8_0_8 (Item) RMSE: 1.2781354747992244\n",
            "df_8_0_9 (Item) RMSE: 1.2917720900329406\n",
            "df_8_0_10 (Item) RMSE: 0.9324384251955986\n"
          ],
          "name": "stdout"
        }
      ]
    },
    {
      "cell_type": "code",
      "metadata": {
        "colab": {
          "base_uri": "https://localhost:8080/"
        },
        "id": "91sooairykw6",
        "outputId": "db28a3ff-bae4-46a2-c6d8-2c68e6f4d42b"
      },
      "source": [
        "# Breaking df_8_1\n",
        "df_8_1_1 = np.array_split(df_8_1,10)[0]\n",
        "df_8_1_2 = np.array_split(df_8_1,10)[1]\n",
        "df_8_1_3 = np.array_split(df_8_1,10)[2]\n",
        "df_8_1_4 = np.array_split(df_8_1,10)[3]\n",
        "df_8_1_5 = np.array_split(df_8_1,10)[4]\n",
        "df_8_1_6 = np.array_split(df_8_1,10)[5]\n",
        "df_8_1_7 = np.array_split(df_8_1,10)[6]\n",
        "df_8_1_8 = np.array_split(df_8_1,10)[7]\n",
        "df_8_1_9 = np.array_split(df_8_1,10)[8]\n",
        "df_8_1_10 = np.array_split(df_8_1,10)[9]\n",
        "\n",
        "df_8_features_1_1 = df_8_1_1.pivot_table(index='User-ID', columns='ISBN', values='Book-Rating',fill_value=0).T\n",
        "df_8_features_1_2 = df_8_1_2.pivot_table(index='User-ID', columns='ISBN', values='Book-Rating',fill_value=0).T\n",
        "df_8_features_1_3 = df_8_1_3.pivot_table(index='User-ID', columns='ISBN', values='Book-Rating',fill_value=0).T\n",
        "df_8_features_1_4 = df_8_1_4.pivot_table(index='User-ID', columns='ISBN', values='Book-Rating',fill_value=0).T\n",
        "df_8_features_1_5 = df_8_1_5.pivot_table(index='User-ID', columns='ISBN', values='Book-Rating',fill_value=0).T\n",
        "df_8_features_1_6 = df_8_1_6.pivot_table(index='User-ID', columns='ISBN', values='Book-Rating',fill_value=0).T\n",
        "df_8_features_1_7 = df_8_1_7.pivot_table(index='User-ID', columns='ISBN', values='Book-Rating',fill_value=0).T\n",
        "df_8_features_1_8 = df_8_1_8.pivot_table(index='User-ID', columns='ISBN', values='Book-Rating',fill_value=0).T\n",
        "df_8_features_1_9 = df_8_1_9.pivot_table(index='User-ID', columns='ISBN', values='Book-Rating',fill_value=0).T\n",
        "df_8_features_1_10 = df_8_1_10.pivot_table(index='User-ID', columns='ISBN', values='Book-Rating',fill_value=0).T\n",
        "\n",
        "item_similarity(df_8_features_1_1, df_8_1_1)\n",
        "item_similarity(df_8_features_1_2, df_8_1_2)\n",
        "item_similarity(df_8_features_1_3, df_8_1_3)\n",
        "item_similarity(df_8_features_1_4, df_8_1_4)\n",
        "item_similarity(df_8_features_1_5, df_8_1_5)\n",
        "item_similarity(df_8_features_1_6, df_8_1_6)\n",
        "item_similarity(df_8_features_1_7, df_8_1_7)\n",
        "item_similarity(df_8_features_1_8, df_8_1_8)\n",
        "item_similarity(df_8_features_1_9, df_8_1_9)\n",
        "item_similarity(df_8_features_1_10, df_8_1_10)"
      ],
      "execution_count": null,
      "outputs": [
        {
          "output_type": "stream",
          "text": [
            "df_8_1_1 (Item) RMSE: 1.714121913649072\n",
            "df_8_1_2 (Item) RMSE: 1.6403862984098143\n",
            "df_8_1_3 (Item) RMSE: 1.6698209902222876\n",
            "df_8_1_4 (Item) RMSE: 1.6055024978391526\n",
            "df_8_1_5 (Item) RMSE: 1.6367157397289418\n",
            "df_8_1_6 (Item) RMSE: 1.6994820900622465\n",
            "df_8_1_7 (Item) RMSE: 1.6240315624976098\n",
            "df_8_1_8 (Item) RMSE: 1.5927404737590494\n",
            "df_8_1_9 (Item) RMSE: 1.519703314764013\n",
            "df_8_1_10 (Item) RMSE: 1.3350889690707821\n"
          ],
          "name": "stdout"
        }
      ]
    },
    {
      "cell_type": "code",
      "metadata": {
        "colab": {
          "base_uri": "https://localhost:8080/"
        },
        "id": "rKnWhvR4ytbC",
        "outputId": "308c502a-fa46-4237-991e-38ed36a40892"
      },
      "source": [
        "# Breaking df_8_2\n",
        "df_8_2_1 = np.array_split(df_8_2,20)[0]\n",
        "df_8_2_2 = np.array_split(df_8_2,20)[1]\n",
        "df_8_2_3 = np.array_split(df_8_2,20)[2]\n",
        "df_8_2_4 = np.array_split(df_8_2,20)[3]\n",
        "df_8_2_5 = np.array_split(df_8_2,20)[4]\n",
        "df_8_2_6 = np.array_split(df_8_2,20)[5]\n",
        "df_8_2_7 = np.array_split(df_8_2,20)[6]\n",
        "df_8_2_8 = np.array_split(df_8_2,20)[7]\n",
        "df_8_2_9 = np.array_split(df_8_2,20)[8]\n",
        "df_8_2_10 = np.array_split(df_8_2,20)[9]\n",
        "df_8_2_11 = np.array_split(df_8_2,20)[10]\n",
        "df_8_2_12 = np.array_split(df_8_2,20)[11]\n",
        "df_8_2_13 = np.array_split(df_8_2,20)[12]\n",
        "df_8_2_14 = np.array_split(df_8_2,20)[13]\n",
        "df_8_2_15 = np.array_split(df_8_2,20)[14]\n",
        "df_8_2_16 = np.array_split(df_8_2,20)[15]\n",
        "df_8_2_17 = np.array_split(df_8_2,20)[16]\n",
        "df_8_2_18 = np.array_split(df_8_2,20)[17]\n",
        "df_8_2_19 = np.array_split(df_8_2,20)[18]\n",
        "df_8_2_20 = np.array_split(df_8_2,20)[19]\n",
        "\n",
        "df_8_features_2_1 = df_8_2_1.pivot_table(index='User-ID', columns='ISBN', values='Book-Rating',fill_value=0).T\n",
        "df_8_features_2_2 = df_8_2_2.pivot_table(index='User-ID', columns='ISBN', values='Book-Rating',fill_value=0).T\n",
        "df_8_features_2_3 = df_8_2_3.pivot_table(index='User-ID', columns='ISBN', values='Book-Rating',fill_value=0).T\n",
        "df_8_features_2_4 = df_8_2_4.pivot_table(index='User-ID', columns='ISBN', values='Book-Rating',fill_value=0).T\n",
        "df_8_features_2_5 = df_8_2_5.pivot_table(index='User-ID', columns='ISBN', values='Book-Rating',fill_value=0).T\n",
        "df_8_features_2_6 = df_8_2_6.pivot_table(index='User-ID', columns='ISBN', values='Book-Rating',fill_value=0).T\n",
        "df_8_features_2_7 = df_8_2_7.pivot_table(index='User-ID', columns='ISBN', values='Book-Rating',fill_value=0).T\n",
        "df_8_features_2_8 = df_8_2_8.pivot_table(index='User-ID', columns='ISBN', values='Book-Rating',fill_value=0).T\n",
        "df_8_features_2_9 = df_8_2_9.pivot_table(index='User-ID', columns='ISBN', values='Book-Rating',fill_value=0).T\n",
        "df_8_features_2_10 = df_8_2_10.pivot_table(index='User-ID', columns='ISBN', values='Book-Rating',fill_value=0).T\n",
        "df_8_features_2_11 = df_8_2_11.pivot_table(index='User-ID', columns='ISBN', values='Book-Rating',fill_value=0).T\n",
        "df_8_features_2_12 = df_8_2_12.pivot_table(index='User-ID', columns='ISBN', values='Book-Rating',fill_value=0).T\n",
        "df_8_features_2_13 = df_8_2_13.pivot_table(index='User-ID', columns='ISBN', values='Book-Rating',fill_value=0).T\n",
        "df_8_features_2_14 = df_8_2_14.pivot_table(index='User-ID', columns='ISBN', values='Book-Rating',fill_value=0).T\n",
        "df_8_features_2_15 = df_8_2_15.pivot_table(index='User-ID', columns='ISBN', values='Book-Rating',fill_value=0).T\n",
        "df_8_features_2_16 = df_8_2_16.pivot_table(index='User-ID', columns='ISBN', values='Book-Rating',fill_value=0).T\n",
        "df_8_features_2_17 = df_8_2_17.pivot_table(index='User-ID', columns='ISBN', values='Book-Rating',fill_value=0).T\n",
        "df_8_features_2_18 = df_8_2_18.pivot_table(index='User-ID', columns='ISBN', values='Book-Rating',fill_value=0).T\n",
        "df_8_features_2_19 = df_8_2_19.pivot_table(index='User-ID', columns='ISBN', values='Book-Rating',fill_value=0).T\n",
        "df_8_features_2_20 = df_8_2_20.pivot_table(index='User-ID', columns='ISBN', values='Book-Rating',fill_value=0).T\n",
        "\n",
        "item_similarity(df_8_features_2_1, df_8_2_1)\n",
        "item_similarity(df_8_features_2_2, df_8_2_2)\n",
        "item_similarity(df_8_features_2_3, df_8_2_3)\n",
        "item_similarity(df_8_features_2_4, df_8_2_4)\n",
        "item_similarity(df_8_features_2_5, df_8_2_5)\n",
        "item_similarity(df_8_features_2_6, df_8_2_6)\n",
        "item_similarity(df_8_features_2_7, df_8_2_7)\n",
        "item_similarity(df_8_features_2_8, df_8_2_8)\n",
        "item_similarity(df_8_features_2_9, df_8_2_9)\n",
        "item_similarity(df_8_features_2_10, df_8_2_10)\n",
        "item_similarity(df_8_features_2_11, df_8_2_11)\n",
        "item_similarity(df_8_features_2_12, df_8_2_12)\n",
        "item_similarity(df_8_features_2_13, df_8_2_13)\n",
        "item_similarity(df_8_features_2_14, df_8_2_14)\n",
        "item_similarity(df_8_features_2_15, df_8_2_15)\n",
        "item_similarity(df_8_features_2_16, df_8_2_16)\n",
        "item_similarity(df_8_features_2_17, df_8_2_17)\n",
        "item_similarity(df_8_features_2_18, df_8_2_18)\n",
        "item_similarity(df_8_features_2_19, df_8_2_19)\n",
        "item_similarity(df_8_features_2_20, df_8_2_20)"
      ],
      "execution_count": null,
      "outputs": [
        {
          "output_type": "stream",
          "text": [
            "df_8_2_1 (Item) RMSE: 1.5393401993084934\n",
            "df_8_2_2 (Item) RMSE: 1.5745823607799638\n",
            "df_8_2_3 (Item) RMSE: 1.5198902717650866\n",
            "df_8_2_4 (Item) RMSE: 1.4748014829755036\n",
            "df_8_2_5 (Item) RMSE: 1.4628253100496513\n",
            "df_8_2_6 (Item) RMSE: 1.463270007353674\n",
            "df_8_2_7 (Item) RMSE: 1.4623949862574572\n",
            "df_8_2_8 (Item) RMSE: 1.5069045302296264\n",
            "df_8_2_9 (Item) RMSE: 1.5394016692433692\n",
            "df_8_2_10 (Item) RMSE: 1.4985971590215077\n",
            "df_8_2_11 (Item) RMSE: 1.5676038639375323\n",
            "df_8_2_12 (Item) RMSE: 1.4539400302944274\n",
            "df_8_2_13 (Item) RMSE: 1.511145722201283\n",
            "df_8_2_14 (Item) RMSE: 1.5115227100210338\n",
            "df_8_2_15 (Item) RMSE: 1.4200236330688751\n",
            "df_8_2_16 (Item) RMSE: 1.4365765852507595\n",
            "df_8_2_17 (Item) RMSE: 1.396261196639787\n",
            "df_8_2_18 (Item) RMSE: 1.221549351708401\n",
            "df_8_2_19 (Item) RMSE: 1.3480951134185637\n",
            "df_8_2_20 (Item) RMSE: 1.6857322122596279\n"
          ],
          "name": "stdout"
        }
      ]
    },
    {
      "cell_type": "code",
      "metadata": {
        "colab": {
          "base_uri": "https://localhost:8080/"
        },
        "id": "dwMJHKzkzDpN",
        "outputId": "d2ca00bd-187e-42f2-e7c4-101d51669cf2"
      },
      "source": [
        "# Breaking df_8_3\n",
        "df_8_3_1 = np.array_split(df_8_3,25)[0]\n",
        "df_8_3_2 = np.array_split(df_8_3,25)[1]\n",
        "df_8_3_3 = np.array_split(df_8_3,25)[2]\n",
        "df_8_3_4 = np.array_split(df_8_3,25)[3]\n",
        "df_8_3_5 = np.array_split(df_8_3,25)[4]\n",
        "df_8_3_6 = np.array_split(df_8_3,25)[5]\n",
        "df_8_3_7 = np.array_split(df_8_3,25)[6]\n",
        "df_8_3_8 = np.array_split(df_8_3,25)[7]\n",
        "df_8_3_9 = np.array_split(df_8_3,25)[8]\n",
        "df_8_3_10 = np.array_split(df_8_3,25)[9]\n",
        "df_8_3_11 = np.array_split(df_8_3,25)[10]\n",
        "df_8_3_12 = np.array_split(df_8_3,25)[11]\n",
        "df_8_3_13 = np.array_split(df_8_3,25)[12]\n",
        "df_8_3_14 = np.array_split(df_8_3,25)[13]\n",
        "df_8_3_15 = np.array_split(df_8_3,25)[14]\n",
        "df_8_3_16 = np.array_split(df_8_3,25)[15]\n",
        "df_8_3_17 = np.array_split(df_8_3,25)[16]\n",
        "df_8_3_18 = np.array_split(df_8_3,25)[17]\n",
        "df_8_3_19 = np.array_split(df_8_3,25)[18]\n",
        "df_8_3_20 = np.array_split(df_8_3,25)[19]\n",
        "df_8_3_21 = np.array_split(df_8_3,25)[20]\n",
        "df_8_3_22 = np.array_split(df_8_3,25)[21]\n",
        "df_8_3_23 = np.array_split(df_8_3,25)[22]\n",
        "df_8_3_24 = np.array_split(df_8_3,25)[23]\n",
        "df_8_3_25 = np.array_split(df_8_3,25)[24]\n",
        "\n",
        "df_8_features_3_1 = df_8_3_1.pivot_table(index='User-ID', columns='ISBN', values='Book-Rating',fill_value=0).T\n",
        "df_8_features_3_2 = df_8_3_2.pivot_table(index='User-ID', columns='ISBN', values='Book-Rating',fill_value=0).T\n",
        "df_8_features_3_3 = df_8_3_3.pivot_table(index='User-ID', columns='ISBN', values='Book-Rating',fill_value=0).T\n",
        "df_8_features_3_4 = df_8_3_4.pivot_table(index='User-ID', columns='ISBN', values='Book-Rating',fill_value=0).T\n",
        "df_8_features_3_5 = df_8_3_5.pivot_table(index='User-ID', columns='ISBN', values='Book-Rating',fill_value=0).T\n",
        "df_8_features_3_6 = df_8_3_6.pivot_table(index='User-ID', columns='ISBN', values='Book-Rating',fill_value=0).T\n",
        "df_8_features_3_7 = df_8_3_7.pivot_table(index='User-ID', columns='ISBN', values='Book-Rating',fill_value=0).T\n",
        "df_8_features_3_8 = df_8_3_8.pivot_table(index='User-ID', columns='ISBN', values='Book-Rating',fill_value=0).T\n",
        "df_8_features_3_9 = df_8_3_9.pivot_table(index='User-ID', columns='ISBN', values='Book-Rating',fill_value=0).T\n",
        "df_8_features_3_10 = df_8_3_10.pivot_table(index='User-ID', columns='ISBN', values='Book-Rating',fill_value=0).T\n",
        "df_8_features_3_11 = df_8_3_11.pivot_table(index='User-ID', columns='ISBN', values='Book-Rating',fill_value=0).T\n",
        "df_8_features_3_12 = df_8_3_12.pivot_table(index='User-ID', columns='ISBN', values='Book-Rating',fill_value=0).T\n",
        "df_8_features_3_13 = df_8_3_13.pivot_table(index='User-ID', columns='ISBN', values='Book-Rating',fill_value=0).T\n",
        "df_8_features_3_14 = df_8_3_14.pivot_table(index='User-ID', columns='ISBN', values='Book-Rating',fill_value=0).T\n",
        "df_8_features_3_15 = df_8_3_15.pivot_table(index='User-ID', columns='ISBN', values='Book-Rating',fill_value=0).T\n",
        "df_8_features_3_16 = df_8_3_16.pivot_table(index='User-ID', columns='ISBN', values='Book-Rating',fill_value=0).T\n",
        "df_8_features_3_17 = df_8_3_17.pivot_table(index='User-ID', columns='ISBN', values='Book-Rating',fill_value=0).T\n",
        "df_8_features_3_18 = df_8_3_18.pivot_table(index='User-ID', columns='ISBN', values='Book-Rating',fill_value=0).T\n",
        "df_8_features_3_19 = df_8_3_19.pivot_table(index='User-ID', columns='ISBN', values='Book-Rating',fill_value=0).T\n",
        "df_8_features_3_20 = df_8_3_20.pivot_table(index='User-ID', columns='ISBN', values='Book-Rating',fill_value=0).T\n",
        "df_8_features_3_21 = df_8_3_21.pivot_table(index='User-ID', columns='ISBN', values='Book-Rating',fill_value=0).T\n",
        "\n",
        "\n",
        "\n",
        "item_similarity(df_8_features_3_1, df_8_3_1)\n",
        "item_similarity(df_8_features_3_2, df_8_3_2)\n",
        "item_similarity(df_8_features_3_3, df_8_3_3)\n",
        "item_similarity(df_8_features_3_4, df_8_3_4)\n",
        "item_similarity(df_8_features_3_5, df_8_3_5)\n",
        "item_similarity(df_8_features_3_6, df_8_3_6)\n",
        "item_similarity(df_8_features_3_7, df_8_3_7)\n",
        "item_similarity(df_8_features_3_8, df_8_3_8)\n",
        "item_similarity(df_8_features_3_9, df_8_3_9)\n",
        "item_similarity(df_8_features_3_10, df_8_3_10)\n",
        "item_similarity(df_8_features_3_11, df_8_3_11)\n",
        "item_similarity(df_8_features_3_12, df_8_3_12)\n",
        "item_similarity(df_8_features_3_13, df_8_3_13)\n",
        "item_similarity(df_8_features_3_14, df_8_3_14)\n",
        "item_similarity(df_8_features_3_15, df_8_3_15)\n",
        "item_similarity(df_8_features_3_16, df_8_3_16)\n",
        "item_similarity(df_8_features_3_17, df_8_3_17)\n",
        "item_similarity(df_8_features_3_18, df_8_3_18)\n",
        "item_similarity(df_8_features_3_19, df_8_3_19)\n",
        "item_similarity(df_8_features_3_20, df_8_3_20)\n",
        "item_similarity(df_8_features_3_21, df_8_3_21)\n",
        "\n"
      ],
      "execution_count": null,
      "outputs": [
        {
          "output_type": "stream",
          "text": [
            "df_8_3_1 (Item) RMSE: nan\n",
            "df_8_3_2 (Item) RMSE: nan\n",
            "df_8_3_3 (Item) RMSE: nan\n",
            "df_8_3_4 (Item) RMSE: nan\n",
            "df_8_3_5 (Item) RMSE: nan\n",
            "df_8_3_6 (Item) RMSE: nan\n",
            "df_8_3_7 (Item) RMSE: nan\n",
            "df_8_3_8 (Item) RMSE: nan\n",
            "df_8_3_9 (Item) RMSE: nan\n",
            "df_8_3_10 (Item) RMSE: nan\n",
            "df_8_3_11 (Item) RMSE: nan\n",
            "df_8_3_12 (Item) RMSE: nan\n",
            "df_8_3_13 (Item) RMSE: nan\n",
            "df_8_3_14 (Item) RMSE: 1.681999238249848\n",
            "df_8_3_15 (Item) RMSE: 1.7386368895846918\n",
            "df_8_3_16 (Item) RMSE: 1.7050597999286763\n",
            "df_8_3_17 (Item) RMSE: 1.7644902711190174\n",
            "df_8_3_18 (Item) RMSE: 1.7446856050305013\n",
            "df_8_3_19 (Item) RMSE: 1.7260494675923128\n",
            "df_8_3_20 (Item) RMSE: 1.679248468450672\n",
            "df_8_3_21 (Item) RMSE: 1.671586460185557\n"
          ],
          "name": "stdout"
        }
      ]
    },
    {
      "cell_type": "code",
      "metadata": {
        "colab": {
          "base_uri": "https://localhost:8080/"
        },
        "id": "Szs2edfl8rce",
        "outputId": "ffedda75-0eab-473f-c5b5-43b2ec22d6b9"
      },
      "source": [
        "df_8_3_20 = np.array_split(df_8_3,25)[19]\n",
        "df_8_3_21 = np.array_split(df_8_3,25)[20]\n",
        "df_8_3_22 = np.array_split(df_8_3,25)[21]\n",
        "df_8_3_23 = np.array_split(df_8_3,25)[22]\n",
        "df_8_3_24 = np.array_split(df_8_3,25)[23]\n",
        "df_8_3_25 = np.array_split(df_8_3,25)[24]\n",
        "df_8_features_3_20 = df_8_3_20.pivot_table(index='User-ID', columns='ISBN', values='Book-Rating',fill_value=0).T\n",
        "df_8_features_3_21 = df_8_3_21.pivot_table(index='User-ID', columns='ISBN', values='Book-Rating',fill_value=0).T\n",
        "df_8_features_3_22 = df_8_3_22.pivot_table(index='User-ID', columns='ISBN', values='Book-Rating',fill_value=0).T\n",
        "df_8_features_3_23 = df_8_3_23.pivot_table(index='User-ID', columns='ISBN', values='Book-Rating',fill_value=0).T\n",
        "df_8_features_3_24 = df_8_3_24.pivot_table(index='User-ID', columns='ISBN', values='Book-Rating',fill_value=0).T\n",
        "df_8_features_3_25 = df_8_3_25.pivot_table(index='User-ID', columns='ISBN', values='Book-Rating',fill_value=0).T\n",
        "item_similarity(df_8_features_3_20, df_8_3_20)\n",
        "item_similarity(df_8_features_3_21, df_8_3_21)\n",
        "item_similarity(df_8_features_3_22, df_8_3_22)\n",
        "item_similarity(df_8_features_3_23, df_8_3_23)\n",
        "item_similarity(df_8_features_3_24, df_8_3_24)\n",
        "item_similarity(df_8_features_3_25, df_8_3_25)"
      ],
      "execution_count": null,
      "outputs": [
        {
          "output_type": "stream",
          "text": [
            "df_8_3_20 (Item) RMSE: 1.679248468450672\n",
            "df_8_3_21 (Item) RMSE: 1.671586460185557\n",
            "df_8_3_22 (Item) RMSE: 1.5901056492442764\n",
            "df_8_3_23 (Item) RMSE: 1.4777018157881139\n",
            "df_8_3_24 (Item) RMSE: 0.8085112611653922\n",
            "df_8_3_25 (Item) RMSE: 0.6456732836943493\n"
          ],
          "name": "stdout"
        }
      ]
    },
    {
      "cell_type": "code",
      "metadata": {
        "colab": {
          "base_uri": "https://localhost:8080/"
        },
        "id": "ysBPnugSzomB",
        "outputId": "d92b67d4-93bd-4132-d248-d127e1b6b0b9"
      },
      "source": [
        "df_8_features_4 = df_8_4.pivot_table(index='User-ID', columns='ISBN', values='Book-Rating',fill_value=0).T\n",
        "item_similarity(df_8_features_4, df_8_4)"
      ],
      "execution_count": null,
      "outputs": [
        {
          "output_type": "stream",
          "text": [
            "df_8_4 (Item) RMSE: 0.0\n"
          ],
          "name": "stdout"
        }
      ]
    },
    {
      "cell_type": "markdown",
      "metadata": {
        "id": "s0suvNAQ1grH"
      },
      "source": [
        "### SVD + Cross validation: 8 clusters"
      ]
    },
    {
      "cell_type": "code",
      "metadata": {
        "colab": {
          "base_uri": "https://localhost:8080/"
        },
        "id": "4ojeA5Hb-I3R",
        "outputId": "e303c298-58f5-4901-d54b-f85eb74c638b"
      },
      "source": [
        "print(\"df_8_0: \",df_8_0.shape)\n",
        "print(\"df_8_1: \",df_8_1.shape)\n",
        "print(\"df_8_2: \",df_8_2.shape)\n",
        "print(\"df_8_3: \",df_8_3.shape)\n",
        "print(\"df_8_4: \",df_8_4.shape)\n",
        "print(\"df_8_5: \",df_8_5.shape)"
      ],
      "execution_count": null,
      "outputs": [
        {
          "output_type": "stream",
          "text": [
            "df_8_0:  (184337, 14)\n",
            "df_8_1:  (197017, 14)\n",
            "df_8_2:  (187319, 14)\n",
            "df_8_3:  (455697, 14)\n",
            "df_8_4:  (3789, 14)\n",
            "df_8_5:  (3789, 14)\n"
          ],
          "name": "stdout"
        }
      ]
    },
    {
      "cell_type": "code",
      "metadata": {
        "colab": {
          "base_uri": "https://localhost:8080/"
        },
        "id": "LZLCCPVA1jIA",
        "outputId": "6f70885e-f9c1-4238-c795-76ed455dc10f"
      },
      "source": [
        "reader = Reader(rating_scale=(1, 10))\n",
        "data = Dataset.load_from_df(df_8_0[[\"User-ID\", \"ISBN\", \"Book-Rating\"]], reader)\n",
        "from surprise.model_selection import GridSearchCV\n",
        "\n",
        "param_grid = {\n",
        "    \"n_epochs\": [1, 5, 10, 15, 20],\n",
        "    \"lr_all\": [0.002, 0.005, 0.009, 0.01, 0.05],\n",
        "    \"reg_all\": [0.2, 0.4, 0.6, 1]\n",
        "}\n",
        "gs = GridSearchCV(SVD, param_grid, measures=[\"rmse\"], cv=3)\n",
        "\n",
        "gs.fit(data)\n",
        "\n",
        "print(gs.best_score[\"rmse\"])"
      ],
      "execution_count": null,
      "outputs": [
        {
          "output_type": "stream",
          "text": [
            "0.6361677109753942\n"
          ],
          "name": "stdout"
        }
      ]
    },
    {
      "cell_type": "code",
      "metadata": {
        "colab": {
          "base_uri": "https://localhost:8080/"
        },
        "id": "qmsTUm66-K0W",
        "outputId": "ec40b401-89ec-4a31-a728-89dff7ddf169"
      },
      "source": [
        "reader = Reader(rating_scale=(1, 10))\n",
        "data = Dataset.load_from_df(df_8_1[[\"User-ID\", \"ISBN\", \"Book-Rating\"]], reader)\n",
        "from surprise.model_selection import GridSearchCV\n",
        "\n",
        "param_grid = {\n",
        "    \"n_epochs\": [1, 5, 10, 15, 20],\n",
        "    \"lr_all\": [0.002, 0.005, 0.009, 0.01, 0.05],\n",
        "    \"reg_all\": [0.2, 0.4, 0.6, 1]\n",
        "}\n",
        "gs = GridSearchCV(SVD, param_grid, measures=[\"rmse\"], cv=3)\n",
        "\n",
        "gs.fit(data)\n",
        "\n",
        "print(gs.best_score[\"rmse\"])"
      ],
      "execution_count": null,
      "outputs": [
        {
          "output_type": "stream",
          "text": [
            "0.2672233457958437\n"
          ],
          "name": "stdout"
        }
      ]
    },
    {
      "cell_type": "code",
      "metadata": {
        "colab": {
          "base_uri": "https://localhost:8080/"
        },
        "id": "OVppk_U3-Nyx",
        "outputId": "78f7daf1-774c-4247-b9c3-63ebd21951ed"
      },
      "source": [
        "reader = Reader(rating_scale=(1, 10))\n",
        "data = Dataset.load_from_df(df_8_2[[\"User-ID\", \"ISBN\", \"Book-Rating\"]], reader)\n",
        "from surprise.model_selection import GridSearchCV\n",
        "\n",
        "param_grid = {\n",
        "    \"n_epochs\": [1, 5, 10, 15, 20],\n",
        "    \"lr_all\": [0.002, 0.005, 0.009, 0.01, 0.05],\n",
        "    \"reg_all\": [0.2, 0.4, 0.6, 1]\n",
        "}\n",
        "gs = GridSearchCV(SVD, param_grid, measures=[\"rmse\"], cv=3)\n",
        "\n",
        "gs.fit(data)\n",
        "\n",
        "print(gs.best_score[\"rmse\"])"
      ],
      "execution_count": null,
      "outputs": [
        {
          "output_type": "stream",
          "text": [
            "0.33557677582669493\n"
          ],
          "name": "stdout"
        }
      ]
    },
    {
      "cell_type": "code",
      "metadata": {
        "colab": {
          "background_save": true
        },
        "id": "6vnnkOqVKRlo",
        "outputId": "ae0d55be-e56a-475a-aa83-14a862a33256"
      },
      "source": [
        "reader = Reader(rating_scale=(1, 10))\n",
        "data = Dataset.load_from_df(df_8_3[[\"User-ID\", \"ISBN\", \"Book-Rating\"]], reader)\n",
        "from surprise.model_selection import GridSearchCV\n",
        "\n",
        "param_grid = {\n",
        "    \"n_epochs\": [1, 5, 10, 15, 20],\n",
        "    \"lr_all\": [0.002, 0.005, 0.009, 0.01, 0.05],\n",
        "    \"reg_all\": [0.2, 0.4, 0.6, 1]\n",
        "}\n",
        "gs = GridSearchCV(SVD, param_grid, measures=[\"rmse\"], cv=3)\n",
        "\n",
        "gs.fit(data)\n",
        "\n",
        "print(gs.best_score[\"rmse\"])"
      ],
      "execution_count": null,
      "outputs": [
        {
          "output_type": "stream",
          "text": [
            "0.7726247514060948\n"
          ],
          "name": "stdout"
        }
      ]
    },
    {
      "cell_type": "code",
      "metadata": {
        "colab": {
          "background_save": true
        },
        "id": "mwM4Ak6_WGoO",
        "outputId": "5a1d0ac1-4d60-4097-c2a8-7d7293690fbb"
      },
      "source": [
        "reader = Reader(rating_scale=(1, 10))\n",
        "data = Dataset.load_from_df(df_8_4[[\"User-ID\", \"ISBN\", \"Book-Rating\"]], reader)\n",
        "from surprise.model_selection import GridSearchCV\n",
        "\n",
        "param_grid = {\n",
        "    \"n_epochs\": [1, 5, 10, 15, 20],\n",
        "    \"lr_all\": [0.002, 0.005, 0.009, 0.01, 0.05],\n",
        "    \"reg_all\": [0.2, 0.4, 0.6, 1]\n",
        "}\n",
        "gs = GridSearchCV(SVD, param_grid, measures=[\"rmse\"], cv=3)\n",
        "\n",
        "gs.fit(data)\n",
        "\n",
        "print(gs.best_score[\"rmse\"])"
      ],
      "execution_count": null,
      "outputs": [
        {
          "output_type": "stream",
          "text": [
            "0.5818637531890326\n"
          ],
          "name": "stdout"
        }
      ]
    },
    {
      "cell_type": "markdown",
      "metadata": {
        "id": "xDsR-0Px_yJ9"
      },
      "source": [
        "### SVD + Cross validation: 6 clusters"
      ]
    },
    {
      "cell_type": "code",
      "metadata": {
        "colab": {
          "base_uri": "https://localhost:8080/"
        },
        "id": "oQFmfYDS_ktt",
        "outputId": "c6e25a19-eb45-4e59-98c5-3e62f7456300"
      },
      "source": [
        "print(\"df_6_0: \",df_6_0.shape)\n",
        "print(\"df_6_1: \",df_6_1.shape)\n",
        "print(\"df_6_2: \",df_6_2.shape)\n",
        "print(\"df_6_3: \",df_6_3.shape)"
      ],
      "execution_count": null,
      "outputs": [
        {
          "output_type": "stream",
          "text": [
            "df_6_0:  (460303, 14)\n",
            "df_6_1:  (529232, 14)\n",
            "df_6_2:  (3789, 14)\n",
            "df_6_3:  (34835, 14)\n"
          ],
          "name": "stdout"
        }
      ]
    },
    {
      "cell_type": "code",
      "metadata": {
        "colab": {
          "base_uri": "https://localhost:8080/"
        },
        "id": "SnwnoKtApQwv",
        "outputId": "89ceae9f-fe7a-4bb7-a1d0-d91951bb7210"
      },
      "source": [
        "reader = Reader(rating_scale=(1, 10))\n",
        "data = Dataset.load_from_df(df_6_1[[\"User-ID\", \"ISBN\", \"Book-Rating\"]], reader)\n",
        "from surprise.model_selection import GridSearchCV\n",
        "\n",
        "param_grid = {\n",
        "    \"n_epochs\": [1, 5, 10, 15, 20],\n",
        "    \"lr_all\": [0.002, 0.005, 0.009, 0.01, 0.05],\n",
        "    \"reg_all\": [0.2, 0.4, 0.6, 1]\n",
        "}\n",
        "gs = GridSearchCV(SVD, param_grid, measures=[\"rmse\"], cv=3)\n",
        "\n",
        "gs.fit(data)\n",
        "\n",
        "print(gs.best_score[\"rmse\"])"
      ],
      "execution_count": null,
      "outputs": [
        {
          "output_type": "stream",
          "text": [
            "0.7216181800282581\n"
          ],
          "name": "stdout"
        }
      ]
    },
    {
      "cell_type": "code",
      "metadata": {
        "colab": {
          "base_uri": "https://localhost:8080/"
        },
        "id": "OhWgpN2EpW4I",
        "outputId": "00d8eaef-8562-4fbf-9e3c-bb83d82761d4"
      },
      "source": [
        "reader = Reader(rating_scale=(1, 10))\n",
        "data = Dataset.load_from_df(df_6_2[[\"User-ID\", \"ISBN\", \"Book-Rating\"]], reader)\n",
        "from surprise.model_selection import GridSearchCV\n",
        "\n",
        "param_grid = {\n",
        "    \"n_epochs\": [1, 5, 10, 15, 20],\n",
        "    \"lr_all\": [0.002, 0.005, 0.009, 0.01, 0.05],\n",
        "    \"reg_all\": [0.2, 0.4, 0.6, 1]\n",
        "}\n",
        "gs = GridSearchCV(SVD, param_grid, measures=[\"rmse\"], cv=3)\n",
        "\n",
        "gs.fit(data)\n",
        "\n",
        "print(gs.best_score[\"rmse\"])"
      ],
      "execution_count": null,
      "outputs": [
        {
          "output_type": "stream",
          "text": [
            "0.582122868080993\n"
          ],
          "name": "stdout"
        }
      ]
    },
    {
      "cell_type": "code",
      "metadata": {
        "colab": {
          "base_uri": "https://localhost:8080/"
        },
        "id": "cyIQOmD3pZAP",
        "outputId": "1cd46451-d318-4e2c-e668-c010f744e78b"
      },
      "source": [
        "reader = Reader(rating_scale=(1, 10))\n",
        "data = Dataset.load_from_df(df_6_3[[\"User-ID\", \"ISBN\", \"Book-Rating\"]], reader)\n",
        "from surprise.model_selection import GridSearchCV\n",
        "\n",
        "param_grid = {\n",
        "    \"n_epochs\": [1, 5, 10, 15, 20],\n",
        "    \"lr_all\": [0.002, 0.005, 0.009, 0.01, 0.05],\n",
        "    \"reg_all\": [0.2, 0.4, 0.6, 1]\n",
        "}\n",
        "gs = GridSearchCV(SVD, param_grid, measures=[\"rmse\"], cv=3)\n",
        "\n",
        "gs.fit(data)\n",
        "\n",
        "print(gs.best_score[\"rmse\"])"
      ],
      "execution_count": null,
      "outputs": [
        {
          "output_type": "stream",
          "text": [
            "0.6621464692180193\n"
          ],
          "name": "stdout"
        }
      ]
    },
    {
      "cell_type": "code",
      "metadata": {
        "colab": {
          "base_uri": "https://localhost:8080/"
        },
        "id": "pk4uNdU-6RdE",
        "outputId": "4073d955-dbfe-4745-e3e7-6f52a24d3a25"
      },
      "source": [
        "reader = Reader(rating_scale=(1, 10))\n",
        "data = Dataset.load_from_df(df_6_0[[\"User-ID\", \"ISBN\", \"Book-Rating\"]], reader)\n",
        "from surprise.model_selection import GridSearchCV\n",
        "\n",
        "param_grid = {\n",
        "    \"n_epochs\": [1, 5, 10, 15, 20],\n",
        "    \"lr_all\": [0.002, 0.005, 0.009, 0.01, 0.05],\n",
        "    \"reg_all\": [0.2, 0.4, 0.6, 1]\n",
        "}\n",
        "gs = GridSearchCV(SVD, param_grid, measures=[\"rmse\"], cv=3)\n",
        "\n",
        "gs.fit(data)\n",
        "\n",
        "print(gs.best_score[\"rmse\"])"
      ],
      "execution_count": null,
      "outputs": [
        {
          "output_type": "stream",
          "text": [
            "0.44444756892748405\n"
          ],
          "name": "stdout"
        }
      ]
    },
    {
      "cell_type": "code",
      "metadata": {
        "id": "fzBwNPd49_Lk"
      },
      "source": [
        ""
      ],
      "execution_count": null,
      "outputs": []
    }
  ]
}