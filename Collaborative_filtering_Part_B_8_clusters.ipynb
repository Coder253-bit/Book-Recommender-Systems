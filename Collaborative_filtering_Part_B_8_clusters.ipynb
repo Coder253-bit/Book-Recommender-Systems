{
  "nbformat": 4,
  "nbformat_minor": 0,
  "metadata": {
    "accelerator": "TPU",
    "colab": {
      "name": "Copy of Collaborative filtering Part B - 8 clusters.ipynb",
      "provenance": [],
      "collapsed_sections": [],
      "machine_shape": "hm"
    },
    "kernelspec": {
      "display_name": "Python 3",
      "name": "python3"
    },
    "language_info": {
      "name": "python"
    }
  },
  "cells": [
    {
      "cell_type": "code",
      "metadata": {
        "colab": {
          "base_uri": "https://localhost:8080/"
        },
        "id": "SKFiOn0jggDo",
        "outputId": "94ede144-8090-4e1c-ef9e-44922e63205f"
      },
      "source": [
        "import numpy as np\n",
        "import pandas as pd\n",
        "import matplotlib.pyplot as plt\n",
        "import warnings\n",
        "warnings.filterwarnings(\"ignore\")\n",
        "import sklearn\n",
        "from sklearn.preprocessing import StandardScaler\n",
        "from sklearn.preprocessing import LabelEncoder\n",
        "import seaborn as sns\n",
        "from google.colab import drive\n",
        "drive.mount('/content/drive')"
      ],
      "execution_count": null,
      "outputs": [
        {
          "output_type": "stream",
          "text": [
            "Mounted at /content/drive\n"
          ],
          "name": "stdout"
        }
      ]
    },
    {
      "cell_type": "code",
      "metadata": {
        "colab": {
          "base_uri": "https://localhost:8080/"
        },
        "id": "GND1d97Bgk4J",
        "outputId": "62a16350-f6f1-42d3-9a76-a8cf6bb59574"
      },
      "source": [
        "%cd drive/MyDrive/Colab Notebooks/Masters Python Workbooks/Redone Python Workbooks\n",
        "!pip install scikit-surprise\n",
        "from surprise.model_selection import GridSearchCV\n",
        "from surprise import SVD\n",
        "from collections import defaultdict\n",
        "from surprise import Dataset\n",
        "from surprise import Reader\n",
        "%cd drive/MyDrive/Colab Notebooks/Masters Python Workbooks\n",
        "books = pd.read_csv(\"Books.csv\")\n",
        "ratings = pd.read_csv(\"Ratings.csv\")\n",
        "users = pd.read_csv(\"Users.csv\")\n",
        "books[\"Book-Author\"].fillna(\"Edinburgh Financial Publishing\",inplace=True)\n",
        "# We can replace the publisher name in these cases as well\n",
        "\n",
        "# The publisher of 'Tyrant Moon' as per Amazon and FantasticFiction.com is 'Mundania Press LLC'\n",
        "books['Publisher'].fillna(\"Mundania Press LLC\", inplace=True)\n",
        "\n",
        "# The publisher of 'Finders Keepers' as per GoodReads.com and Amazon is 'Bantam'\n",
        "books['Publisher'].fillna(\"Bantam\", inplace=True)\n",
        "\n",
        "# Replacing the 0 aged users with nans so that they can be replaced in the next step\n",
        "users.Age.replace(0,np.nan,inplace=True)\n",
        "\n",
        "# Linear Interpolation of age in the dataset\n",
        "users['Age'].interpolate(method = 'linear', limit_direction = 'forward',inplace=True)\n",
        "\n",
        "# Dropping the rows with age > 100\n",
        "users = users[users.Age <= 100]\n",
        "book_rating = pd.merge(books,ratings,on='ISBN',how='outer')\n",
        "book_rating = pd.merge(book_rating, users, on='User-ID', how='outer')\n",
        "book_rating.drop(['Image-URL-S','Image-URL-M','Image-URL-L'],axis=1,inplace=True)\n",
        "temp = book_rating[['ISBN','User-ID','Book-Rating']]\n",
        "counts_user = temp.groupby('User-ID').agg(['count'])\n",
        "counts_user.columns = ['ISBN_ct','rating_users_ct']\n",
        "counts_book = temp.groupby('ISBN').agg(['count'])\n",
        "counts_book.columns = ['ISBN_ct','rating_books_ct']\n",
        "counts_user.drop(['ISBN_ct'], inplace=True, axis=1)\n",
        "counts_book.drop(['ISBN_ct'], inplace=True, axis=1)\n",
        "book_rating = pd.merge(book_rating, counts_book, on='ISBN',how='left')\n",
        "book_rating = pd.merge(book_rating, counts_user, on='User-ID',how='left')\n",
        "\n",
        "book_rating['City'] = book_rating['Location'].str.split(\",\",expand=True)[0]\n",
        "book_rating['State'] = book_rating['Location'].str.split(\",\",expand=True)[1]\n",
        "book_rating['Country'] = book_rating['Location'].str.split(\",\",expand=True)[2]\n",
        "book_rating.drop('Location',axis=1,inplace=True)\n",
        "df = book_rating.copy()\n",
        "\n",
        "index_year = df[(df['Year-Of-Publication'] == 'DK Publishing Inc') | (df['Year-Of-Publication'] == 'Gallimard')].index\n",
        "df.drop(index_year,inplace=True)\n",
        "df = df.dropna(subset=['ISBN'])\n",
        "df = df.dropna(subset=['Book-Title'])\n",
        "\n",
        "# Dropping null values in User-ID as there could be no results if the user ID is not present\n",
        "df = df.dropna(subset=['User-ID'])\n",
        "\n",
        "# Deleting missing rows present in location as those are only 0.3% of the dataset\n",
        "df.dropna(inplace=True)\n",
        "# df.info()\n",
        "# pd.isnull(df).sum()\n",
        "df['Year-Of-Publication'] = df['Year-Of-Publication'].astype(int)\n",
        "\n",
        "# One of the city names is '&#304;stanbul' which will be replaced with 'Istanbul'\n",
        "df['City'].replace('&#304;stanbul','Istanbul',inplace=True)\n",
        "df[df['Book-Title'] == 'Wild Animus']['ISBN'].value_counts()\n",
        "most_popular_books = df[(df['rating_books_ct'] >= 568) & (df['rating_books_ct'] <= 2502.0)]\n",
        "most_popular_books = most_popular_books[['ISBN','Book-Title','Book-Author','Publisher','rating_books_ct']]\n",
        "most_popular_books = most_popular_books.drop_duplicates()\n",
        "most_popular_books.shape\n",
        "\n",
        "# books = [most_popular_books['Book-Title'].values]\n",
        "# temp = df.copy()\n",
        "# df = temp[~temp['Book-Title'].isin(books)]\n",
        "label_encoder = LabelEncoder()\n",
        "# Creating a copy that will contain all the label encoders instead of the actual categorical variables\n",
        "df1 = df.copy()\n",
        "df1['City'] = label_encoder.fit_transform(df1['City'])\n",
        "columns = ['Book-Author','Book-Title','Year-Of-Publication','Publisher','State','Country']\n",
        "df1['State'] = label_encoder.fit_transform(df1['State'])\n",
        "df1['Book-Author'] = label_encoder.fit_transform(df1['Book-Author'])\n",
        "df1['Book-Title'] = label_encoder.fit_transform(df1['Book-Title'])\n",
        "df1['Year-Of-Publication'] = df1['Year-Of-Publication'].astype(str)\n",
        "df1['Year-Of-Publication'] = label_encoder.fit_transform(df1['Year-Of-Publication'])\n",
        "df1['Publisher'] = label_encoder.fit_transform(df1['Publisher'])\n",
        "df1['Country'] = label_encoder.fit_transform(df1['Country'])\n",
        "# Creating another dataset that has only non categorical values that need to be scaled\n",
        "numerical_df = df1[['Book-Title','Book-Author','Year-Of-Publication','Publisher','Book-Rating',\n",
        "                    'Age','rating_books_ct','rating_users_ct','City','State','Country']] \n",
        "scaler = StandardScaler()\n",
        "df_scaled = scaler.fit_transform(numerical_df)\n",
        "df_scaled = pd.DataFrame(df_scaled)\n",
        "df_scaled.columns = ['Book-Title','Book-Author','Year-Of-Publication','Publisher','Book-Rating',\n",
        "                    'Age','rating_books_ct','rating_users_ct','City','State','Country']\n",
        "\n",
        "# df is the dataset to use from Part A\n",
        "\n",
        "\n",
        "import sklearn\n",
        "from sklearn.preprocessing import StandardScaler\n",
        "from sklearn.cluster import KMeans\n",
        "from sklearn.metrics import silhouette_score\n",
        "\n",
        "# model with k = 8\n",
        "kmeans = KMeans(n_clusters = 8, max_iter=50, random_state=0)\n",
        "kmeans.fit(df_scaled)\n",
        "df_8 = df.copy()\n",
        "# assign the label\n",
        "df_8['cluster_id'] = kmeans.labels_\n",
        "# 8 \n",
        "df_8_0 = df_8[df_8['cluster_id'] == 0]\n",
        "df_8_1 = df_8[df_8['cluster_id'] == 1]\n",
        "df_8_2 = df_8[df_8['cluster_id'] == 2]\n",
        "df_8_3 = df_8[df_8['cluster_id'] == 3]\n",
        "df_8_4 = df_8[df_8['cluster_id'] == 4]\n",
        "df_8_5 = df_8[df_8['cluster_id'] == 5]\n",
        "df_8_6 = df_8[df_8['cluster_id'] == 6]\n",
        "df_8_7 = df_8[df_8['cluster_id'] == 7]\n",
        "\n",
        "df_8_0['Book-Rating'] = df_8_0['Book-Rating'].apply(lambda x: 0 if x>=1 else 1)\n",
        "df_8_1['Book-Rating'] = df_8_1['Book-Rating'].apply(lambda x: 0 if x>=1 else 1)\n",
        "df_8_2['Book-Rating'] = df_8_2['Book-Rating'].apply(lambda x: 0 if x>=1 else 1)\n",
        "df_8_3['Book-Rating'] = df_8_3['Book-Rating'].apply(lambda x: 0 if x>=1 else 1)\n",
        "# This df becomes nan completely because, the below codes (lambda) turn all the books that were rated to 0. This cluster is he only cluster that doesnt have any book which is not rated\n",
        "df_8_4['Book-Rating'] = df_8_4['Book-Rating'].apply(lambda x: 0 if x>=1 else 1)\n",
        "df_8_5['Book-Rating'] = df_8_5['Book-Rating'].apply(lambda x: 0 if x>=1 else 1)\n",
        "df_8_6['Book-Rating'] = df_8_6['Book-Rating'].apply(lambda x: 0 if x>=1 else 1)\n",
        "df_8_7['Book-Rating'] = df_8_7['Book-Rating'].apply(lambda x: 0 if x>=1 else 1)\n",
        "df_8_0.drop_duplicates()\n",
        "df_8_1.drop_duplicates()\n",
        "df_8_2.drop_duplicates()\n",
        "df_8_3.drop_duplicates()\n",
        "df_8_4.drop_duplicates()\n",
        "df_8_5.drop_duplicates()\n",
        "df_8_6.drop_duplicates()\n",
        "df_8_7.drop_duplicates()\n",
        "\n",
        "print(\"Ready for collaborative filtering!\")"
      ],
      "execution_count": null,
      "outputs": [
        {
          "output_type": "stream",
          "text": [
            "/content/drive/MyDrive/Colab Notebooks/Masters Python Workbooks/Redone Python Workbooks\n",
            "Collecting scikit-surprise\n",
            "  Downloading scikit-surprise-1.1.1.tar.gz (11.8 MB)\n",
            "\u001b[K     |████████████████████████████████| 11.8 MB 5.1 MB/s \n",
            "\u001b[?25hRequirement already satisfied: joblib>=0.11 in /usr/local/lib/python3.7/dist-packages (from scikit-surprise) (1.0.1)\n",
            "Requirement already satisfied: numpy>=1.11.2 in /usr/local/lib/python3.7/dist-packages (from scikit-surprise) (1.19.5)\n",
            "Requirement already satisfied: scipy>=1.0.0 in /usr/local/lib/python3.7/dist-packages (from scikit-surprise) (1.4.1)\n",
            "Requirement already satisfied: six>=1.10.0 in /usr/local/lib/python3.7/dist-packages (from scikit-surprise) (1.15.0)\n",
            "Building wheels for collected packages: scikit-surprise\n",
            "  Building wheel for scikit-surprise (setup.py) ... \u001b[?25l\u001b[?25hdone\n",
            "  Created wheel for scikit-surprise: filename=scikit_surprise-1.1.1-cp37-cp37m-linux_x86_64.whl size=1617762 sha256=035cba4c66ab8c9cc5a1559fe921e58b7178398151c1b86d00c74aa10c502f55\n",
            "  Stored in directory: /root/.cache/pip/wheels/76/44/74/b498c42be47b2406bd27994e16c5188e337c657025ab400c1c\n",
            "Successfully built scikit-surprise\n",
            "Installing collected packages: scikit-surprise\n",
            "Successfully installed scikit-surprise-1.1.1\n",
            "[Errno 2] No such file or directory: 'drive/MyDrive/Colab Notebooks/Masters Python Workbooks'\n",
            "/content/drive/MyDrive/Colab Notebooks/Masters Python Workbooks/Redone Python Workbooks\n",
            "Ready for collaborative filtering!\n"
          ],
          "name": "stdout"
        }
      ]
    },
    {
      "cell_type": "code",
      "metadata": {
        "colab": {
          "base_uri": "https://localhost:8080/"
        },
        "id": "5i9bBqSJhLP4",
        "outputId": "1d54388b-8a21-431f-d4fc-51781bef9ed6"
      },
      "source": [
        "def get_df_name(df):\n",
        "    name =[x for x in globals() if globals()[x] is df][0]\n",
        "    return name\n",
        "list = [df_8_0,df_8_1,df_8_2,df_8_3,df_8_4,df_8_5,df_8_6,df_8_7]\n",
        "for i in list:\n",
        "  print(get_df_name(i),\": \",i.shape)"
      ],
      "execution_count": null,
      "outputs": [
        {
          "output_type": "stream",
          "text": [
            "df_8_0 :  (184337, 14)\n",
            "df_8_1 :  (197017, 14)\n",
            "df_8_2 :  (172700, 14)\n",
            "df_8_3 :  (242014, 14)\n",
            "df_8_4 :  (14619, 14)\n",
            "df_8_5 :  (3789, 14)\n",
            "df_8_6 :  (179247, 14)\n",
            "df_8_7 :  (34436, 14)\n"
          ],
          "name": "stdout"
        }
      ]
    },
    {
      "cell_type": "markdown",
      "metadata": {
        "id": "dYQ0kxh_-Sqm"
      },
      "source": [
        "### Function for user similarity"
      ]
    },
    {
      "cell_type": "code",
      "metadata": {
        "id": "mjxXAGiD-RtT"
      },
      "source": [
        "from sklearn.metrics.pairwise import pairwise_distances\n",
        "from sklearn.preprocessing import MinMaxScaler\n",
        "from numpy import *\n",
        "\n",
        "def user_similarity(df_features, original_df):\n",
        "  mean = np.nanmean(df_features, axis=1)\n",
        "  df_subtracted = (df_features.T-mean).T\n",
        "# User Similarity Matrix\n",
        "  user_correlation = 1 - pairwise_distances(df_subtracted.fillna(0), metric='cosine')\n",
        "  user_correlation[np.isnan(user_correlation)] = 0\n",
        "  user_correlation[user_correlation<0]=0\n",
        "  user_predicted_ratings = np.dot(user_correlation, df_features.fillna(0))\n",
        "  user_final_rating = np.multiply(user_predicted_ratings,df_features)\n",
        "\n",
        "  X  = user_final_rating.copy() \n",
        "  X = X[X>0]\n",
        "  scaler = MinMaxScaler(feature_range=(1, 5))\n",
        "  scaler.fit(X)\n",
        "  y = (scaler.transform(X))\n",
        "  df_ = original_df.pivot_table(index='User-ID',columns='ISBN',values='Book-Rating')\n",
        "  # Finding total non-NaN value\n",
        "  total_non_nan = np.count_nonzero(~np.isnan(y))\n",
        "  rmse = (sum(sum((df_ - y )**2))/total_non_nan)**0.5\n",
        "  print(\"The RMSE of {}: {}\".format(get_df_name(original_df), rmse))"
      ],
      "execution_count": null,
      "outputs": []
    },
    {
      "cell_type": "markdown",
      "metadata": {
        "id": "WwkWNs3miGfX"
      },
      "source": [
        "### Breaking df_8_0, df_8_1, df_8_2, df_8_3, df_8_4, df_8_6 "
      ]
    },
    {
      "cell_type": "code",
      "metadata": {
        "colab": {
          "base_uri": "https://localhost:8080/"
        },
        "id": "QR24s7Az-FEy",
        "outputId": "ad470249-2337-4c6a-87ab-ad199e28e24d"
      },
      "source": [
        "df_8_0_1 = np.array_split(df_8_0,8)[0]\n",
        "df_8_0_2 = np.array_split(df_8_0,8)[1]\n",
        "df_8_0_3 = np.array_split(df_8_0,8)[2]\n",
        "df_8_0_4 = np.array_split(df_8_0,8)[3]\n",
        "df_8_0_5 = np.array_split(df_8_0,8)[4]\n",
        "df_8_0_6 = np.array_split(df_8_0,8)[5]\n",
        "df_8_0_7 = np.array_split(df_8_0,8)[6]\n",
        "df_8_0_8 = np.array_split(df_8_0,8)[7]\n",
        "df_8_features_0_1 = df_8_0_1.pivot_table(index='User-ID', columns='ISBN', values='Book-Rating',fill_value=0)\n",
        "df_8_features_0_2 = df_8_0_2.pivot_table(index='User-ID', columns='ISBN', values='Book-Rating',fill_value=0)\n",
        "df_8_features_0_3 = df_8_0_3.pivot_table(index='User-ID', columns='ISBN', values='Book-Rating',fill_value=0)\n",
        "df_8_features_0_4 = df_8_0_4.pivot_table(index='User-ID', columns='ISBN', values='Book-Rating',fill_value=0)\n",
        "df_8_features_0_5 = df_8_0_5.pivot_table(index='User-ID', columns='ISBN', values='Book-Rating',fill_value=0)\n",
        "df_8_features_0_6 = df_8_0_6.pivot_table(index='User-ID', columns='ISBN', values='Book-Rating',fill_value=0)\n",
        "df_8_features_0_7 = df_8_0_7.pivot_table(index='User-ID', columns='ISBN', values='Book-Rating',fill_value=0)\n",
        "df_8_features_0_8 = df_8_0_8.pivot_table(index='User-ID', columns='ISBN', values='Book-Rating',fill_value=0)\n",
        "\n",
        "user_similarity(df_8_features_0_1, df_8_0_1)\n",
        "user_similarity(df_8_features_0_2, df_8_0_2)\n",
        "user_similarity(df_8_features_0_3, df_8_0_3)\n",
        "user_similarity(df_8_features_0_4, df_8_0_4)\n",
        "user_similarity(df_8_features_0_5, df_8_0_5)\n",
        "user_similarity(df_8_features_0_6, df_8_0_6)\n",
        "user_similarity(df_8_features_0_7, df_8_0_7)\n",
        "user_similarity(df_8_features_0_8, df_8_0_8)"
      ],
      "execution_count": null,
      "outputs": [
        {
          "output_type": "stream",
          "text": [
            "The RMSE of df_8_0_1: 1.3903417369936435\n",
            "The RMSE of df_8_0_2: 1.2826966351697549\n",
            "The RMSE of df_8_0_3: 1.274620167919725\n",
            "The RMSE of df_8_0_4: 1.3813766555039064\n",
            "The RMSE of df_8_0_5: 1.3848030385661698\n",
            "The RMSE of df_8_0_6: 1.3101272888489446\n",
            "The RMSE of df_8_0_7: 1.4890799519633944\n",
            "The RMSE of df_8_0_8: 1.1416165057075442\n"
          ],
          "name": "stdout"
        }
      ]
    },
    {
      "cell_type": "code",
      "metadata": {
        "colab": {
          "base_uri": "https://localhost:8080/"
        },
        "id": "g_a4yh0ahvxf",
        "outputId": "55b2b986-d5a9-4b1a-9b3a-e7b75c9a8112"
      },
      "source": [
        "# df_8_1\n",
        "df_8_1_1 = np.array_split(df_8_1,9)[0]\n",
        "df_8_1_2 = np.array_split(df_8_1,9)[1]\n",
        "df_8_1_3 = np.array_split(df_8_1,9)[2]\n",
        "df_8_1_4 = np.array_split(df_8_1,9)[3]\n",
        "df_8_1_5 = np.array_split(df_8_1,9)[4]\n",
        "df_8_1_6 = np.array_split(df_8_1,9)[5]\n",
        "df_8_1_7 = np.array_split(df_8_1,9)[6]\n",
        "df_8_1_8 = np.array_split(df_8_1,9)[7]\n",
        "df_8_1_9 = np.array_split(df_8_1,9)[8]\n",
        "df_8_features_1_1 = df_8_1_1.pivot_table(index='User-ID', columns='ISBN', values='Book-Rating',fill_value=0)\n",
        "df_8_features_1_2 = df_8_1_2.pivot_table(index='User-ID', columns='ISBN', values='Book-Rating',fill_value=0)\n",
        "df_8_features_1_3 = df_8_1_3.pivot_table(index='User-ID', columns='ISBN', values='Book-Rating',fill_value=0)\n",
        "df_8_features_1_4 = df_8_1_4.pivot_table(index='User-ID', columns='ISBN', values='Book-Rating',fill_value=0)\n",
        "df_8_features_1_5 = df_8_1_5.pivot_table(index='User-ID', columns='ISBN', values='Book-Rating',fill_value=0)\n",
        "df_8_features_1_6 = df_8_1_6.pivot_table(index='User-ID', columns='ISBN', values='Book-Rating',fill_value=0)\n",
        "df_8_features_1_7 = df_8_1_7.pivot_table(index='User-ID', columns='ISBN', values='Book-Rating',fill_value=0)\n",
        "df_8_features_1_8 = df_8_1_8.pivot_table(index='User-ID', columns='ISBN', values='Book-Rating',fill_value=0)\n",
        "df_8_features_1_9 = df_8_1_9.pivot_table(index='User-ID', columns='ISBN', values='Book-Rating',fill_value=0)\n",
        "user_similarity(df_8_features_1_1, df_8_1_1)\n",
        "user_similarity(df_8_features_1_2, df_8_1_2)\n",
        "user_similarity(df_8_features_1_3, df_8_1_3)\n",
        "user_similarity(df_8_features_1_4, df_8_1_4)\n",
        "user_similarity(df_8_features_1_5, df_8_1_5)\n",
        "user_similarity(df_8_features_1_6, df_8_1_6)\n",
        "user_similarity(df_8_features_1_7, df_8_1_7)\n",
        "user_similarity(df_8_features_1_8, df_8_1_8)\n",
        "user_similarity(df_8_features_1_9, df_8_1_9)"
      ],
      "execution_count": null,
      "outputs": [
        {
          "output_type": "stream",
          "text": [
            "The RMSE of df_8_1_1: 1.6317267070485357\n",
            "The RMSE of df_8_1_2: 1.6619548617298827\n",
            "The RMSE of df_8_1_3: 1.6177843735029438\n",
            "The RMSE of df_8_1_4: 1.6765153346417463\n",
            "The RMSE of df_8_1_5: 1.734685059758937\n",
            "The RMSE of df_8_1_6: 1.7134032424500667\n",
            "The RMSE of df_8_1_7: 1.7339910742585884\n",
            "The RMSE of df_8_1_8: 1.7957978870815337\n",
            "The RMSE of df_8_1_9: 1.7447708186688644\n"
          ],
          "name": "stdout"
        }
      ]
    },
    {
      "cell_type": "code",
      "metadata": {
        "colab": {
          "base_uri": "https://localhost:8080/"
        },
        "id": "cOAGj457oaJ2",
        "outputId": "2d8b82ae-a108-45f3-dc04-bdc3b46827ef"
      },
      "source": [
        "# df_8_2\n",
        "df_8_2_1 = np.array_split(df_8_2,8)[0]\n",
        "df_8_2_2 = np.array_split(df_8_2,8)[1]\n",
        "df_8_2_3 = np.array_split(df_8_2,8)[2]\n",
        "df_8_2_4 = np.array_split(df_8_2,8)[3]\n",
        "df_8_2_5 = np.array_split(df_8_2,8)[4]\n",
        "df_8_2_6 = np.array_split(df_8_2,8)[5]\n",
        "df_8_2_7 = np.array_split(df_8_2,8)[6]\n",
        "df_8_2_8 = np.array_split(df_8_2,8)[7]\n",
        "df_8_features_2_1 = df_8_2_1.pivot_table(index='User-ID', columns='ISBN', values='Book-Rating',fill_value=0)\n",
        "df_8_features_2_2 = df_8_2_2.pivot_table(index='User-ID', columns='ISBN', values='Book-Rating',fill_value=0)\n",
        "df_8_features_2_3 = df_8_2_3.pivot_table(index='User-ID', columns='ISBN', values='Book-Rating',fill_value=0)\n",
        "df_8_features_2_4 = df_8_2_4.pivot_table(index='User-ID', columns='ISBN', values='Book-Rating',fill_value=0)\n",
        "df_8_features_2_5 = df_8_2_5.pivot_table(index='User-ID', columns='ISBN', values='Book-Rating',fill_value=0)\n",
        "df_8_features_2_6 = df_8_2_6.pivot_table(index='User-ID', columns='ISBN', values='Book-Rating',fill_value=0)\n",
        "df_8_features_2_7 = df_8_2_7.pivot_table(index='User-ID', columns='ISBN', values='Book-Rating',fill_value=0)\n",
        "df_8_features_2_8 = df_8_2_8.pivot_table(index='User-ID', columns='ISBN', values='Book-Rating',fill_value=0)\n",
        "user_similarity(df_8_features_2_1, df_8_2_1)\n",
        "user_similarity(df_8_features_2_2, df_8_2_2)\n",
        "user_similarity(df_8_features_2_3, df_8_2_3)\n",
        "user_similarity(df_8_features_2_4, df_8_2_4)\n",
        "user_similarity(df_8_features_2_5, df_8_2_5)\n",
        "user_similarity(df_8_features_2_6, df_8_2_6)\n",
        "user_similarity(df_8_features_2_7, df_8_2_7)\n",
        "user_similarity(df_8_features_2_8, df_8_2_8)"
      ],
      "execution_count": null,
      "outputs": [
        {
          "output_type": "stream",
          "text": [
            "The RMSE of df_8_2_1: 1.800832097261892\n",
            "The RMSE of df_8_2_2: 1.7079902374458846\n",
            "The RMSE of df_8_2_3: 1.7018292264416077\n",
            "The RMSE of df_8_2_4: 1.7119086450922871\n",
            "The RMSE of df_8_2_5: 1.744765237622467\n",
            "The RMSE of df_8_2_6: 1.7218083443920218\n",
            "The RMSE of df_8_2_7: 1.812787517646766\n",
            "The RMSE of df_8_2_8: 1.8384630955173438\n"
          ],
          "name": "stdout"
        }
      ]
    },
    {
      "cell_type": "code",
      "metadata": {
        "colab": {
          "base_uri": "https://localhost:8080/"
        },
        "id": "yh5_4dRrqzGl",
        "outputId": "b221f5ca-9411-49ce-e5af-75d7de59612c"
      },
      "source": [
        "# df_8_3\n",
        "df_8_3_1 = np.array_split(df_8_3,12)[0]\n",
        "df_8_3_2 = np.array_split(df_8_3,12)[1]\n",
        "df_8_3_3 = np.array_split(df_8_3,12)[2]\n",
        "df_8_3_4 = np.array_split(df_8_3,12)[3]\n",
        "df_8_3_5 = np.array_split(df_8_3,12)[4]\n",
        "df_8_3_6 = np.array_split(df_8_3,12)[5]\n",
        "df_8_3_7 = np.array_split(df_8_3,12)[6]\n",
        "df_8_3_8 = np.array_split(df_8_3,12)[7]\n",
        "df_8_3_9 = np.array_split(df_8_3,12)[8]\n",
        "df_8_3_10 = np.array_split(df_8_3,12)[9]\n",
        "df_8_3_11 = np.array_split(df_8_3,12)[10]\n",
        "df_8_3_12 = np.array_split(df_8_3,12)[11]\n",
        "df_8_features_3_1 = df_8_3_1.pivot_table(index='User-ID', columns='ISBN', values='Book-Rating',fill_value=0)\n",
        "df_8_features_3_2 = df_8_3_2.pivot_table(index='User-ID', columns='ISBN', values='Book-Rating',fill_value=0)\n",
        "df_8_features_3_3 = df_8_3_3.pivot_table(index='User-ID', columns='ISBN', values='Book-Rating',fill_value=0)\n",
        "df_8_features_3_4 = df_8_3_4.pivot_table(index='User-ID', columns='ISBN', values='Book-Rating',fill_value=0)\n",
        "df_8_features_3_5 = df_8_3_5.pivot_table(index='User-ID', columns='ISBN', values='Book-Rating',fill_value=0)\n",
        "df_8_features_3_6 = df_8_3_6.pivot_table(index='User-ID', columns='ISBN', values='Book-Rating',fill_value=0)\n",
        "df_8_features_3_7 = df_8_3_7.pivot_table(index='User-ID', columns='ISBN', values='Book-Rating',fill_value=0)\n",
        "df_8_features_3_8 = df_8_3_8.pivot_table(index='User-ID', columns='ISBN', values='Book-Rating',fill_value=0)\n",
        "df_8_features_3_9 = df_8_3_9.pivot_table(index='User-ID', columns='ISBN', values='Book-Rating',fill_value=0)\n",
        "df_8_features_3_10 = df_8_3_10.pivot_table(index='User-ID', columns='ISBN', values='Book-Rating',fill_value=0)\n",
        "df_8_features_3_11 = df_8_3_11.pivot_table(index='User-ID', columns='ISBN', values='Book-Rating',fill_value=0)\n",
        "df_8_features_3_12 = df_8_3_12.pivot_table(index='User-ID', columns='ISBN', values='Book-Rating',fill_value=0)\n",
        "user_similarity(df_8_features_3_1, df_8_3_1)\n",
        "user_similarity(df_8_features_3_2, df_8_3_2)\n",
        "user_similarity(df_8_features_3_3, df_8_3_3)\n",
        "user_similarity(df_8_features_3_4, df_8_3_4)\n",
        "user_similarity(df_8_features_3_5, df_8_3_5)\n",
        "user_similarity(df_8_features_3_6, df_8_3_6)\n",
        "user_similarity(df_8_features_3_7, df_8_3_7)\n",
        "user_similarity(df_8_features_3_8, df_8_3_8)\n",
        "user_similarity(df_8_features_3_9, df_8_3_9)\n",
        "user_similarity(df_8_features_3_10, df_8_3_10)\n",
        "user_similarity(df_8_features_3_11, df_8_3_11)\n",
        "user_similarity(df_8_features_3_12, df_8_3_12)"
      ],
      "execution_count": null,
      "outputs": [
        {
          "output_type": "stream",
          "text": [
            "The RMSE of df_8_3_1: nan\n",
            "The RMSE of df_8_3_2: nan\n",
            "The RMSE of df_8_3_3: nan\n",
            "The RMSE of df_8_3_4: nan\n",
            "The RMSE of df_8_3_5: nan\n",
            "The RMSE of df_8_3_6: nan\n",
            "The RMSE of df_8_3_7: nan\n",
            "The RMSE of df_8_3_8: nan\n",
            "The RMSE of df_8_3_9: nan\n",
            "The RMSE of df_8_3_10: nan\n",
            "The RMSE of df_8_3_11: nan\n",
            "The RMSE of df_8_3_12: nan\n"
          ],
          "name": "stdout"
        }
      ]
    },
    {
      "cell_type": "code",
      "metadata": {
        "colab": {
          "base_uri": "https://localhost:8080/"
        },
        "id": "bLZhmxM3DIyo",
        "outputId": "0cc4da24-b79e-4de5-d35f-4519d6aa710c"
      },
      "source": [
        "df_8_features_4 = df_8_4.pivot_table(index='User-ID', columns='ISBN', values='Book-Rating',fill_value=0)\n",
        "user_similarity(df_8_features_4, df_8_4)\n",
        "\n",
        "df_8_features_5 = df_8_5.pivot_table(index='User-ID', columns='ISBN', values='Book-Rating',fill_value=0)\n",
        "user_similarity(df_8_features_5, df_8_5)"
      ],
      "execution_count": null,
      "outputs": [
        {
          "output_type": "stream",
          "text": [
            "The RMSE of df_8_4: 2.3191155376917765\n",
            "The RMSE of df_8_5: 0.0\n"
          ],
          "name": "stdout"
        }
      ]
    },
    {
      "cell_type": "code",
      "metadata": {
        "colab": {
          "base_uri": "https://localhost:8080/"
        },
        "id": "9yZ0mxerzKI7",
        "outputId": "96390680-8617-491d-bf76-92a4ad9e5c50"
      },
      "source": [
        "# df_8_7\n",
        "df_8_7_1 = np.array_split(df_8_7,6)[0]\n",
        "df_8_7_2 = np.array_split(df_8_7,6)[1]\n",
        "df_8_7_3 = np.array_split(df_8_7,6)[2]\n",
        "\n",
        "df_8_features_7_1 = df_8_7_1.pivot_table(index='User-ID', columns='ISBN', values='Book-Rating',fill_value=0)\n",
        "df_8_features_7_2 = df_8_7_2.pivot_table(index='User-ID', columns='ISBN', values='Book-Rating',fill_value=0)\n",
        "df_8_features_7_3 = df_8_7_3.pivot_table(index='User-ID', columns='ISBN', values='Book-Rating',fill_value=0)\n",
        "\n",
        "user_similarity(df_8_features_7_1, df_8_7_1)\n",
        "user_similarity(df_8_features_7_2, df_8_7_2)\n",
        "user_similarity(df_8_features_7_3, df_8_7_3)"
      ],
      "execution_count": null,
      "outputs": [
        {
          "output_type": "stream",
          "text": [
            "The RMSE of df_8_7_1: 0.0\n",
            "The RMSE of df_8_7_2: 0.0\n",
            "The RMSE of df_8_7_3: 0.4902690161969607\n"
          ],
          "name": "stdout"
        }
      ]
    },
    {
      "cell_type": "code",
      "metadata": {
        "colab": {
          "base_uri": "https://localhost:8080/"
        },
        "id": "jkEOqOI1zhsU",
        "outputId": "8b2a66b3-3bee-4d00-9402-db7e0809806c"
      },
      "source": [
        "# df_8_6\n",
        "df_8_6_1 = np.array_split(df_8_6,9)[0]\n",
        "df_8_6_2 = np.array_split(df_8_6,9)[1]\n",
        "df_8_6_3 = np.array_split(df_8_6,9)[2]\n",
        "df_8_6_4 = np.array_split(df_8_6,9)[3]\n",
        "df_8_6_5 = np.array_split(df_8_6,9)[4]\n",
        "df_8_6_6 = np.array_split(df_8_6,9)[5]\n",
        "df_8_6_7 = np.array_split(df_8_6,9)[6]\n",
        "df_8_6_8 = np.array_split(df_8_6,9)[7]\n",
        "df_8_6_9 = np.array_split(df_8_6,9)[8]\n",
        "df_8_features_6_1 = df_8_6_1.pivot_table(index='User-ID', columns='ISBN', values='Book-Rating',fill_value=0)\n",
        "df_8_features_6_2 = df_8_6_2.pivot_table(index='User-ID', columns='ISBN', values='Book-Rating',fill_value=0)\n",
        "df_8_features_6_3 = df_8_6_3.pivot_table(index='User-ID', columns='ISBN', values='Book-Rating',fill_value=0)\n",
        "df_8_features_6_4 = df_8_6_4.pivot_table(index='User-ID', columns='ISBN', values='Book-Rating',fill_value=0)\n",
        "df_8_features_6_5 = df_8_6_5.pivot_table(index='User-ID', columns='ISBN', values='Book-Rating',fill_value=0)\n",
        "df_8_features_6_6 = df_8_6_6.pivot_table(index='User-ID', columns='ISBN', values='Book-Rating',fill_value=0)\n",
        "df_8_features_6_7 = df_8_6_7.pivot_table(index='User-ID', columns='ISBN', values='Book-Rating',fill_value=0)\n",
        "df_8_features_6_8 = df_8_6_8.pivot_table(index='User-ID', columns='ISBN', values='Book-Rating',fill_value=0)\n",
        "df_8_features_6_9 = df_8_6_9.pivot_table(index='User-ID', columns='ISBN', values='Book-Rating',fill_value=0)\n",
        "user_similarity(df_8_features_6_1, df_8_6_1)\n",
        "user_similarity(df_8_features_6_2, df_8_6_2)\n",
        "user_similarity(df_8_features_6_3, df_8_6_3)\n",
        "user_similarity(df_8_features_6_4, df_8_6_4)\n",
        "user_similarity(df_8_features_6_5, df_8_6_5)\n",
        "user_similarity(df_8_features_6_6, df_8_6_6)\n",
        "user_similarity(df_8_features_6_7, df_8_6_7)\n",
        "user_similarity(df_8_features_6_8, df_8_6_8)\n",
        "user_similarity(df_8_features_6_9, df_8_6_9)"
      ],
      "execution_count": null,
      "outputs": [
        {
          "output_type": "stream",
          "text": [
            "The RMSE of df_8_6_1: 1.852064213485157\n",
            "The RMSE of df_8_6_2: 1.814177557040058\n",
            "The RMSE of df_8_6_3: 1.723642640093394\n",
            "The RMSE of df_8_6_4: 1.7857262974366728\n",
            "The RMSE of df_8_6_5: 1.8055102453713128\n",
            "The RMSE of df_8_6_6: 1.8171730986985184\n",
            "The RMSE of df_8_6_7: 1.7442587219429915\n",
            "The RMSE of df_8_6_8: 1.8943253270901526\n",
            "The RMSE of df_8_6_9: 1.8700758513049036\n"
          ],
          "name": "stdout"
        }
      ]
    },
    {
      "cell_type": "markdown",
      "metadata": {
        "id": "sh_BjCZmM9JW"
      },
      "source": [
        "### Item Similarity"
      ]
    },
    {
      "cell_type": "code",
      "metadata": {
        "id": "r3707n3y0Tmt"
      },
      "source": [
        "def item_similarity(df_features, original_df):\n",
        "  mean = np.nanmean(df_features, axis=1)\n",
        "  df_subtracted = (df_features.T-mean).T\n",
        "# Item Similarity Matrix\n",
        "  item_correlation = 1 - pairwise_distances(df_subtracted.fillna(0), metric='cosine')\n",
        "  item_correlation[np.isnan(item_correlation)] = 0\n",
        "  item_correlation[item_correlation<0]=0\n",
        "  item_predicted_ratings = np.dot((df_features.fillna(0).T),item_correlation)\n",
        "  dummy_df = original_df.pivot_table(index='User-ID', columns='ISBN', values='Book-Rating').fillna(0)\n",
        "  item_final_rating = np.multiply(item_predicted_ratings,dummy_df)\n",
        "  X  = item_final_rating.copy() \n",
        "  X = X[X>0]\n",
        "  scaler = MinMaxScaler(feature_range=(1, 5))\n",
        "  scaler.fit(X)\n",
        "  y = (scaler.transform(X))\n",
        "  df_ = original_df.pivot_table(index='User-ID',columns='ISBN',values='Book-Rating')\n",
        "  # Finding total non-NaN value\n",
        "\n",
        "  total_non_nan = np.count_nonzero(~np.isnan(y))\n",
        "  rmse = (sum(sum((df_ - y )**2))/total_non_nan)**0.5\n",
        "  print(\"{} (Item) RMSE: {}\".format(get_df_name(original_df), rmse))"
      ],
      "execution_count": null,
      "outputs": []
    },
    {
      "cell_type": "code",
      "metadata": {
        "colab": {
          "base_uri": "https://localhost:8080/"
        },
        "id": "HJo8M4Nv9yVf",
        "outputId": "7b271214-0170-4cc7-b393-0ca493b2a101"
      },
      "source": [
        "# df_8_0\n",
        "df_8_0_1 = np.array_split(df_8_0,8)[0]\n",
        "df_8_0_2 = np.array_split(df_8_0,8)[1]\n",
        "df_8_0_3 = np.array_split(df_8_0,8)[2]\n",
        "df_8_0_4 = np.array_split(df_8_0,8)[3]\n",
        "df_8_0_5 = np.array_split(df_8_0,8)[4]\n",
        "df_8_0_6 = np.array_split(df_8_0,8)[5]\n",
        "df_8_0_7 = np.array_split(df_8_0,8)[6]\n",
        "df_8_0_8 = np.array_split(df_8_0,8)[7]\n",
        "\n",
        "df_8_features_0_1 = df_8_0_1.pivot_table(index='User-ID', columns='ISBN', values='Book-Rating',fill_value=0).T\n",
        "df_8_features_0_2 = df_8_0_2.pivot_table(index='User-ID', columns='ISBN', values='Book-Rating',fill_value=0).T\n",
        "df_8_features_0_3 = df_8_0_3.pivot_table(index='User-ID', columns='ISBN', values='Book-Rating',fill_value=0).T\n",
        "df_8_features_0_4 = df_8_0_4.pivot_table(index='User-ID', columns='ISBN', values='Book-Rating',fill_value=0).T\n",
        "df_8_features_0_5 = df_8_0_5.pivot_table(index='User-ID', columns='ISBN', values='Book-Rating',fill_value=0).T\n",
        "df_8_features_0_6 = df_8_0_6.pivot_table(index='User-ID', columns='ISBN', values='Book-Rating',fill_value=0).T\n",
        "df_8_features_0_7 = df_8_0_7.pivot_table(index='User-ID', columns='ISBN', values='Book-Rating',fill_value=0).T\n",
        "df_8_features_0_8 = df_8_0_8.pivot_table(index='User-ID', columns='ISBN', values='Book-Rating',fill_value=0).T\n",
        "\n",
        "item_similarity(df_8_features_0_1, df_8_0_1)\n",
        "item_similarity(df_8_features_0_2, df_8_0_2)\n",
        "item_similarity(df_8_features_0_3, df_8_0_3)\n",
        "item_similarity(df_8_features_0_4, df_8_0_4)\n",
        "item_similarity(df_8_features_0_5, df_8_0_5)\n",
        "item_similarity(df_8_features_0_6, df_8_0_6)\n",
        "item_similarity(df_8_features_0_7, df_8_0_7)\n",
        "item_similarity(df_8_features_0_8, df_8_0_8)"
      ],
      "execution_count": null,
      "outputs": [
        {
          "output_type": "stream",
          "text": [
            "df_8_0_1 (Item) RMSE: 1.4266060361809145\n",
            "df_8_0_2 (Item) RMSE: 1.284965134119493\n",
            "df_8_0_3 (Item) RMSE: 1.3009457064253322\n",
            "df_8_0_4 (Item) RMSE: 1.4498210983818949\n",
            "df_8_0_5 (Item) RMSE: 1.4177250644005575\n",
            "df_8_0_6 (Item) RMSE: 1.3353657132081092\n",
            "df_8_0_7 (Item) RMSE: 1.3632771571034557\n"
          ],
          "name": "stdout"
        }
      ]
    },
    {
      "cell_type": "code",
      "metadata": {
        "colab": {
          "base_uri": "https://localhost:8080/"
        },
        "id": "-4p5s6eGNgZa",
        "outputId": "8345495e-7af4-4732-edd4-1a1ec0d260f7"
      },
      "source": [
        "# # df_8_1\n",
        "# df_8_1_1 = np.array_split(df_8_1,9)[0]\n",
        "# df_8_1_2 = np.array_split(df_8_1,9)[1]\n",
        "# df_8_1_3 = np.array_split(df_8_1,9)[2]\n",
        "# df_8_1_4 = np.array_split(df_8_1,9)[3]\n",
        "# df_8_1_5 = np.array_split(df_8_1,9)[4]\n",
        "# df_8_1_6 = np.array_split(df_8_1,9)[5]\n",
        "# df_8_1_7 = np.array_split(df_8_1,9)[6]\n",
        "# df_8_1_8 = np.array_split(df_8_1,9)[7]\n",
        "# df_8_1_9 = np.array_split(df_8_1,9)[8]\n",
        "# df_8_features_1_1 = df_8_1_1.pivot_table(index='User-ID', columns='ISBN', values='Book-Rating',fill_value=0).T\n",
        "# df_8_features_1_2 = df_8_1_2.pivot_table(index='User-ID', columns='ISBN', values='Book-Rating',fill_value=0).T\n",
        "# df_8_features_1_3 = df_8_1_3.pivot_table(index='User-ID', columns='ISBN', values='Book-Rating',fill_value=0).T\n",
        "# df_8_features_1_4 = df_8_1_4.pivot_table(index='User-ID', columns='ISBN', values='Book-Rating',fill_value=0).T\n",
        "# df_8_features_1_5 = df_8_1_5.pivot_table(index='User-ID', columns='ISBN', values='Book-Rating',fill_value=0).T\n",
        "# df_8_features_1_6 = df_8_1_6.pivot_table(index='User-ID', columns='ISBN', values='Book-Rating',fill_value=0).T\n",
        "# df_8_features_1_7 = df_8_1_7.pivot_table(index='User-ID', columns='ISBN', values='Book-Rating',fill_value=0).T\n",
        "# df_8_features_1_8 = df_8_1_8.pivot_table(index='User-ID', columns='ISBN', values='Book-Rating',fill_value=0).T\n",
        "# df_8_features_1_9 = df_8_1_9.pivot_table(index='User-ID', columns='ISBN', values='Book-Rating',fill_value=0).T\n",
        "item_similarity(df_8_features_1_1, df_8_1_1)\n",
        "item_similarity(df_8_features_1_2, df_8_1_2)\n",
        "item_similarity(df_8_features_1_3, df_8_1_3)\n",
        "item_similarity(df_8_features_1_4, df_8_1_4)\n",
        "item_similarity(df_8_features_1_5, df_8_1_5)\n",
        "item_similarity(df_8_features_1_6, df_8_1_6)\n",
        "item_similarity(df_8_features_1_7, df_8_1_7)\n",
        "item_similarity(df_8_features_1_8, df_8_1_8)\n",
        "item_similarity(df_8_features_1_9, df_8_1_9)"
      ],
      "execution_count": null,
      "outputs": [
        {
          "output_type": "stream",
          "text": [
            "df_8_1_1 (Item) RMSE: 1.7365637800416691\n",
            "df_8_1_2 (Item) RMSE: 1.6796470800788021\n",
            "df_8_1_3 (Item) RMSE: 1.6144406871475379\n",
            "df_8_1_4 (Item) RMSE: 1.6654928778589029\n",
            "df_8_1_5 (Item) RMSE: 1.669254633407995\n",
            "df_8_1_6 (Item) RMSE: 1.7079826948432653\n",
            "df_8_1_7 (Item) RMSE: 1.6227879668172467\n",
            "df_8_1_8 (Item) RMSE: 1.5569101007727197\n",
            "df_8_1_9 (Item) RMSE: 1.3963636698894986\n"
          ],
          "name": "stdout"
        }
      ]
    },
    {
      "cell_type": "code",
      "metadata": {
        "colab": {
          "base_uri": "https://localhost:8080/"
        },
        "id": "htbmXySINyJk",
        "outputId": "d96b60df-3b16-44d0-90f9-04309da79412"
      },
      "source": [
        "# df_8_2\n",
        "df_8_2_1 = np.array_split(df_8_2,8)[0]\n",
        "df_8_2_2 = np.array_split(df_8_2,8)[1]\n",
        "df_8_2_3 = np.array_split(df_8_2,8)[2]\n",
        "df_8_2_4 = np.array_split(df_8_2,8)[3]\n",
        "df_8_2_5 = np.array_split(df_8_2,8)[4]\n",
        "df_8_2_6 = np.array_split(df_8_2,8)[5]\n",
        "df_8_2_7 = np.array_split(df_8_2,8)[6]\n",
        "df_8_2_8 = np.array_split(df_8_2,8)[7]\n",
        "df_8_features_2_1 = df_8_2_1.pivot_table(index='User-ID', columns='ISBN', values='Book-Rating',fill_value=0).T\n",
        "df_8_features_2_2 = df_8_2_2.pivot_table(index='User-ID', columns='ISBN', values='Book-Rating',fill_value=0).T\n",
        "df_8_features_2_3 = df_8_2_3.pivot_table(index='User-ID', columns='ISBN', values='Book-Rating',fill_value=0).T\n",
        "df_8_features_2_4 = df_8_2_4.pivot_table(index='User-ID', columns='ISBN', values='Book-Rating',fill_value=0).T\n",
        "df_8_features_2_5 = df_8_2_5.pivot_table(index='User-ID', columns='ISBN', values='Book-Rating',fill_value=0).T\n",
        "df_8_features_2_6 = df_8_2_6.pivot_table(index='User-ID', columns='ISBN', values='Book-Rating',fill_value=0).T\n",
        "df_8_features_2_7 = df_8_2_7.pivot_table(index='User-ID', columns='ISBN', values='Book-Rating',fill_value=0).T\n",
        "df_8_features_2_8 = df_8_2_8.pivot_table(index='User-ID', columns='ISBN', values='Book-Rating',fill_value=0).T\n",
        "item_similarity(df_8_features_2_1, df_8_2_1)\n",
        "item_similarity(df_8_features_2_2, df_8_2_2)\n",
        "item_similarity(df_8_features_2_3, df_8_2_3)\n",
        "item_similarity(df_8_features_2_4, df_8_2_4)\n",
        "item_similarity(df_8_features_2_5, df_8_2_5)\n",
        "item_similarity(df_8_features_2_6, df_8_2_6)\n",
        "item_similarity(df_8_features_2_7, df_8_2_7)\n",
        "item_similarity(df_8_features_2_8, df_8_2_8)"
      ],
      "execution_count": null,
      "outputs": [
        {
          "output_type": "stream",
          "text": [
            "df_8_2_1 (Item) RMSE: 1.7580028418374625\n",
            "df_8_2_2 (Item) RMSE: 1.673693354484108\n",
            "df_8_2_3 (Item) RMSE: 1.6992836488551442\n",
            "df_8_2_4 (Item) RMSE: 1.6895605301362826\n",
            "df_8_2_5 (Item) RMSE: 1.6977817002162043\n",
            "df_8_2_6 (Item) RMSE: 1.650787637751714\n",
            "df_8_2_7 (Item) RMSE: 1.590052555225532\n",
            "df_8_2_8 (Item) RMSE: 1.4405576265664495\n"
          ],
          "name": "stdout"
        }
      ]
    },
    {
      "cell_type": "code",
      "metadata": {
        "colab": {
          "base_uri": "https://localhost:8080/"
        },
        "id": "F-ARSVmAN3cw",
        "outputId": "c9154050-59a3-41a0-ee8a-52674f6db77a"
      },
      "source": [
        "# df_8_3\n",
        "df_8_3_1 = np.array_split(df_8_3,12)[0]\n",
        "df_8_3_2 = np.array_split(df_8_3,12)[1]\n",
        "df_8_3_3 = np.array_split(df_8_3,12)[2]\n",
        "df_8_3_4 = np.array_split(df_8_3,12)[3]\n",
        "df_8_3_5 = np.array_split(df_8_3,12)[4]\n",
        "df_8_3_6 = np.array_split(df_8_3,12)[5]\n",
        "df_8_3_7 = np.array_split(df_8_3,12)[6]\n",
        "df_8_3_8 = np.array_split(df_8_3,12)[7]\n",
        "df_8_3_9 = np.array_split(df_8_3,12)[8]\n",
        "df_8_3_10 = np.array_split(df_8_3,12)[9]\n",
        "df_8_3_11 = np.array_split(df_8_3,12)[10]\n",
        "df_8_3_12 = np.array_split(df_8_3,12)[11]\n",
        "df_8_features_3_1 = df_8_3_1.pivot_table(index='User-ID', columns='ISBN', values='Book-Rating',fill_value=0).T\n",
        "df_8_features_3_2 = df_8_3_2.pivot_table(index='User-ID', columns='ISBN', values='Book-Rating',fill_value=0).T\n",
        "df_8_features_3_3 = df_8_3_3.pivot_table(index='User-ID', columns='ISBN', values='Book-Rating',fill_value=0).T\n",
        "df_8_features_3_4 = df_8_3_4.pivot_table(index='User-ID', columns='ISBN', values='Book-Rating',fill_value=0).T\n",
        "df_8_features_3_5 = df_8_3_5.pivot_table(index='User-ID', columns='ISBN', values='Book-Rating',fill_value=0).T\n",
        "df_8_features_3_6 = df_8_3_6.pivot_table(index='User-ID', columns='ISBN', values='Book-Rating',fill_value=0).T\n",
        "df_8_features_3_7 = df_8_3_7.pivot_table(index='User-ID', columns='ISBN', values='Book-Rating',fill_value=0).T\n",
        "df_8_features_3_8 = df_8_3_8.pivot_table(index='User-ID', columns='ISBN', values='Book-Rating',fill_value=0).T\n",
        "df_8_features_3_9 = df_8_3_9.pivot_table(index='User-ID', columns='ISBN', values='Book-Rating',fill_value=0).T\n",
        "df_8_features_3_10 = df_8_3_10.pivot_table(index='User-ID', columns='ISBN', values='Book-Rating',fill_value=0).T\n",
        "df_8_features_3_11 = df_8_3_11.pivot_table(index='User-ID', columns='ISBN', values='Book-Rating',fill_value=0).T\n",
        "df_8_features_3_12 = df_8_3_12.pivot_table(index='User-ID', columns='ISBN', values='Book-Rating',fill_value=0).T\n",
        "item_similarity(df_8_features_3_1, df_8_3_1)\n",
        "item_similarity(df_8_features_3_2, df_8_3_2)\n",
        "item_similarity(df_8_features_3_3, df_8_3_3)\n",
        "item_similarity(df_8_features_3_4, df_8_3_4)\n",
        "item_similarity(df_8_features_3_5, df_8_3_5)\n",
        "item_similarity(df_8_features_3_6, df_8_3_6)\n",
        "item_similarity(df_8_features_3_7, df_8_3_7)\n",
        "item_similarity(df_8_features_3_8, df_8_3_8)\n",
        "item_similarity(df_8_features_3_9, df_8_3_9)\n",
        "item_similarity(df_8_features_3_10, df_8_3_10)\n",
        "item_similarity(df_8_features_3_11, df_8_3_11)\n",
        "item_similarity(df_8_features_3_12, df_8_3_12)"
      ],
      "execution_count": null,
      "outputs": [
        {
          "output_type": "stream",
          "text": [
            "df_8_3_1 (Item) RMSE: nan\n",
            "df_8_3_2 (Item) RMSE: nan\n",
            "df_8_3_3 (Item) RMSE: nan\n",
            "df_8_3_4 (Item) RMSE: nan\n",
            "df_8_3_5 (Item) RMSE: nan\n",
            "df_8_3_6 (Item) RMSE: nan\n",
            "df_8_3_7 (Item) RMSE: nan\n",
            "df_8_3_8 (Item) RMSE: nan\n",
            "df_8_3_9 (Item) RMSE: nan\n",
            "df_8_3_10 (Item) RMSE: nan\n",
            "df_8_3_11 (Item) RMSE: nan\n"
          ],
          "name": "stdout"
        }
      ]
    },
    {
      "cell_type": "code",
      "metadata": {
        "colab": {
          "base_uri": "https://localhost:8080/"
        },
        "id": "H89lzmQXPf_P",
        "outputId": "ae1f89b1-ab0f-43c9-e688-99798b820aaa"
      },
      "source": [
        "df_8_features_4 = df_8_4.pivot_table(index='User-ID', columns='ISBN', values='Book-Rating',fill_value=0).T\n",
        "item_similarity(df_8_features_4, df_8_4)"
      ],
      "execution_count": null,
      "outputs": [
        {
          "output_type": "stream",
          "text": [
            "df_8_4 (Item) RMSE: 1.782038973902171\n"
          ],
          "name": "stdout"
        }
      ]
    },
    {
      "cell_type": "code",
      "metadata": {
        "colab": {
          "base_uri": "https://localhost:8080/"
        },
        "id": "khjg6pHAPxrt",
        "outputId": "4feffe50-4873-4201-b6d3-0efcb5bb8c9b"
      },
      "source": [
        "df_8_features_5 = df_8_5.pivot_table(index='User-ID', columns='ISBN', values='Book-Rating',fill_value=0).T\n",
        "item_similarity(df_8_features_5, df_8_5)"
      ],
      "execution_count": null,
      "outputs": [
        {
          "output_type": "stream",
          "text": [
            "df_8_5 (Item) RMSE: 0.0\n"
          ],
          "name": "stdout"
        }
      ]
    },
    {
      "cell_type": "code",
      "metadata": {
        "colab": {
          "base_uri": "https://localhost:8080/"
        },
        "id": "2Kzhg1XEvt2d",
        "outputId": "1859f218-b6e1-49eb-ad87-3e51995d57a4"
      },
      "source": [
        "# df_8_7\n",
        "df_8_7_1 = np.array_split(df_8_7,6)[0]\n",
        "df_8_7_2 = np.array_split(df_8_7,6)[1]\n",
        "df_8_7_3 = np.array_split(df_8_7,6)[2]\n",
        "\n",
        "df_8_features_7_1 = df_8_7_1.pivot_table(index='User-ID', columns='ISBN', values='Book-Rating',fill_value=0).T\n",
        "df_8_features_7_2 = df_8_7_2.pivot_table(index='User-ID', columns='ISBN', values='Book-Rating',fill_value=0).T\n",
        "df_8_features_7_3 = df_8_7_3.pivot_table(index='User-ID', columns='ISBN', values='Book-Rating',fill_value=0).T\n",
        "\n",
        "item_similarity(df_8_features_7_1, df_8_7_1)\n",
        "item_similarity(df_8_features_7_2, df_8_7_2)\n",
        "item_similarity(df_8_features_7_3, df_8_7_3)"
      ],
      "execution_count": null,
      "outputs": [
        {
          "output_type": "stream",
          "text": [
            "df_8_7_1 (Item) RMSE: nan\n",
            "df_8_7_2 (Item) RMSE: 0.0\n",
            "df_8_7_3 (Item) RMSE: 0.0\n"
          ],
          "name": "stdout"
        }
      ]
    },
    {
      "cell_type": "code",
      "metadata": {
        "colab": {
          "base_uri": "https://localhost:8080/"
        },
        "id": "0WKc_hMVv_b7",
        "outputId": "31e99481-ef2a-499b-9044-51e8714bac41"
      },
      "source": [
        "# df_8_6\n",
        "df_8_6_1 = np.array_split(df_8_6,9)[0]\n",
        "df_8_6_2 = np.array_split(df_8_6,9)[1]\n",
        "df_8_6_3 = np.array_split(df_8_6,9)[2]\n",
        "df_8_6_4 = np.array_split(df_8_6,9)[3]\n",
        "df_8_6_5 = np.array_split(df_8_6,9)[4]\n",
        "df_8_6_6 = np.array_split(df_8_6,9)[5]\n",
        "df_8_6_7 = np.array_split(df_8_6,9)[6]\n",
        "df_8_6_8 = np.array_split(df_8_6,9)[7]\n",
        "df_8_6_9 = np.array_split(df_8_6,9)[8]\n",
        "df_8_features_6_1 = df_8_6_1.pivot_table(index='User-ID', columns='ISBN', values='Book-Rating',fill_value=0).T\n",
        "df_8_features_6_2 = df_8_6_2.pivot_table(index='User-ID', columns='ISBN', values='Book-Rating',fill_value=0).T\n",
        "df_8_features_6_3 = df_8_6_3.pivot_table(index='User-ID', columns='ISBN', values='Book-Rating',fill_value=0).T\n",
        "df_8_features_6_4 = df_8_6_4.pivot_table(index='User-ID', columns='ISBN', values='Book-Rating',fill_value=0).T\n",
        "df_8_features_6_5 = df_8_6_5.pivot_table(index='User-ID', columns='ISBN', values='Book-Rating',fill_value=0).T\n",
        "df_8_features_6_6 = df_8_6_6.pivot_table(index='User-ID', columns='ISBN', values='Book-Rating',fill_value=0).T\n",
        "df_8_features_6_7 = df_8_6_7.pivot_table(index='User-ID', columns='ISBN', values='Book-Rating',fill_value=0).T\n",
        "df_8_features_6_8 = df_8_6_8.pivot_table(index='User-ID', columns='ISBN', values='Book-Rating',fill_value=0).T\n",
        "df_8_features_6_9 = df_8_6_9.pivot_table(index='User-ID', columns='ISBN', values='Book-Rating',fill_value=0).T\n",
        "item_similarity(df_8_features_6_1, df_8_6_1)\n",
        "item_similarity(df_8_features_6_2, df_8_6_2)\n",
        "item_similarity(df_8_features_6_3, df_8_6_3)\n",
        "item_similarity(df_8_features_6_4, df_8_6_4)\n",
        "item_similarity(df_8_features_6_5, df_8_6_5)\n",
        "item_similarity(df_8_features_6_6, df_8_6_6)\n",
        "item_similarity(df_8_features_6_7, df_8_6_7)\n",
        "item_similarity(df_8_features_6_8, df_8_6_8)\n",
        "item_similarity(df_8_features_6_9, df_8_6_9)"
      ],
      "execution_count": null,
      "outputs": [
        {
          "output_type": "stream",
          "text": [
            "df_8_6_1 (Item) RMSE: 1.7621188747987002\n",
            "df_8_6_2 (Item) RMSE: 1.7316403582269422\n",
            "df_8_6_3 (Item) RMSE: 1.7011068126385376\n",
            "df_8_6_4 (Item) RMSE: 1.784821358422622\n",
            "df_8_6_5 (Item) RMSE: 1.6743870475765539\n",
            "df_8_6_6 (Item) RMSE: 1.739047804367934\n",
            "df_8_6_7 (Item) RMSE: 1.6871796520294329\n",
            "df_8_6_8 (Item) RMSE: 1.6089326889475632\n",
            "df_8_6_9 (Item) RMSE: 1.4376458046772116\n"
          ],
          "name": "stdout"
        }
      ]
    },
    {
      "cell_type": "markdown",
      "metadata": {
        "id": "TXJn-Ud9FGJt"
      },
      "source": [
        "### SVD + Cross validation"
      ]
    },
    {
      "cell_type": "code",
      "metadata": {
        "colab": {
          "base_uri": "https://localhost:8080/"
        },
        "id": "PQWvErXhFFc3",
        "outputId": "04b8a1bd-b1b0-4c3e-c01a-5ca0b197704f"
      },
      "source": [
        "list = [df_8_0,df_8_1,df_8_2,df_8_3,df_8_4,df_8_5,df_8_6,df_8_7]\n",
        "for i in list:\n",
        "  print(get_df_name(i),\": \",i.shape)"
      ],
      "execution_count": null,
      "outputs": [
        {
          "output_type": "stream",
          "text": [
            "df_8_0 :  (184337, 14)\n",
            "df_8_1 :  (197017, 14)\n",
            "df_8_2 :  (172700, 14)\n",
            "df_8_3 :  (242014, 14)\n",
            "df_8_4 :  (14619, 14)\n",
            "df_8_5 :  (3789, 14)\n",
            "df_8_6 :  (179247, 14)\n",
            "df_8_7 :  (34436, 14)\n"
          ],
          "name": "stdout"
        }
      ]
    },
    {
      "cell_type": "code",
      "metadata": {
        "colab": {
          "base_uri": "https://localhost:8080/"
        },
        "id": "8x3WmVjdwPtR",
        "outputId": "a92f42c4-c155-44b8-d799-67c1a053845d"
      },
      "source": [
        "reader = Reader(rating_scale=(1, 10))\n",
        "data = Dataset.load_from_df(df_8_0[[\"User-ID\", \"ISBN\", \"Book-Rating\"]], reader)\n",
        "from surprise.model_selection import GridSearchCV\n",
        "\n",
        "param_grid = {\n",
        "    \"n_epochs\": [1, 5, 10, 15, 20],\n",
        "    \"lr_all\": [0.002, 0.005, 0.009, 0.01, 0.05],\n",
        "    \"reg_all\": [0.2, 0.4, 0.6, 1]\n",
        "}\n",
        "gs = GridSearchCV(SVD, param_grid, measures=[\"rmse\"], cv=3)\n",
        "\n",
        "gs.fit(data)\n",
        "\n",
        "print(gs.best_score[\"rmse\"])"
      ],
      "execution_count": null,
      "outputs": [
        {
          "output_type": "stream",
          "text": [
            "0.636167644443412\n"
          ],
          "name": "stdout"
        }
      ]
    },
    {
      "cell_type": "code",
      "metadata": {
        "colab": {
          "base_uri": "https://localhost:8080/"
        },
        "id": "6RYiBn-7FJVE",
        "outputId": "169387ef-ef74-40fc-ffc9-31f18b5dca27"
      },
      "source": [
        "reader = Reader(rating_scale=(1, 10))\n",
        "data = Dataset.load_from_df(df_8_1[[\"User-ID\", \"ISBN\", \"Book-Rating\"]], reader)\n",
        "from surprise.model_selection import GridSearchCV\n",
        "\n",
        "param_grid = {\n",
        "    \"n_epochs\": [1, 5, 10, 15, 20],\n",
        "    \"lr_all\": [0.002, 0.005, 0.009, 0.01, 0.05],\n",
        "    \"reg_all\": [0.2, 0.4, 0.6, 1]\n",
        "}\n",
        "gs = GridSearchCV(SVD, param_grid, measures=[\"rmse\"], cv=3)\n",
        "\n",
        "gs.fit(data)\n",
        "\n",
        "print(gs.best_score[\"rmse\"])"
      ],
      "execution_count": null,
      "outputs": [
        {
          "output_type": "stream",
          "text": [
            "0.26722810121204543\n"
          ],
          "name": "stdout"
        }
      ]
    },
    {
      "cell_type": "code",
      "metadata": {
        "colab": {
          "base_uri": "https://localhost:8080/"
        },
        "id": "6WiylWdOOnhG",
        "outputId": "4c1a7d58-37c3-47ea-e86b-9a644a03cedc"
      },
      "source": [
        "reader = Reader(rating_scale=(1, 10))\n",
        "data = Dataset.load_from_df(df_8_2[[\"User-ID\", \"ISBN\", \"Book-Rating\"]], reader)\n",
        "from surprise.model_selection import GridSearchCV\n",
        "\n",
        "param_grid = {\n",
        "    \"n_epochs\": [1, 5, 10, 15, 20],\n",
        "    \"lr_all\": [0.002, 0.005, 0.009, 0.01, 0.05],\n",
        "    \"reg_all\": [0.2, 0.4, 0.6, 1]\n",
        "}\n",
        "gs = GridSearchCV(SVD, param_grid, measures=[\"rmse\"], cv=3)\n",
        "\n",
        "gs.fit(data)\n",
        "\n",
        "print(gs.best_score[\"rmse\"])"
      ],
      "execution_count": null,
      "outputs": [
        {
          "output_type": "stream",
          "text": [
            "0.2953232554476546\n"
          ],
          "name": "stdout"
        }
      ]
    },
    {
      "cell_type": "code",
      "metadata": {
        "colab": {
          "background_save": true
        },
        "id": "7fDs4LU_Ozg-",
        "outputId": "bfb846c4-6773-47d9-e17e-f239c53f6a35"
      },
      "source": [
        "reader = Reader(rating_scale=(1, 10))\n",
        "data = Dataset.load_from_df(df_8_3[[\"User-ID\", \"ISBN\", \"Book-Rating\"]], reader)\n",
        "from surprise.model_selection import GridSearchCV\n",
        "\n",
        "param_grid = {\n",
        "    \"n_epochs\": [1, 5, 10, 15, 20],\n",
        "    \"lr_all\": [0.002, 0.005, 0.009, 0.01, 0.05],\n",
        "    \"reg_all\": [0.2, 0.4, 0.6, 1]\n",
        "}\n",
        "gs = GridSearchCV(SVD, param_grid, measures=[\"rmse\"], cv=3)\n",
        "\n",
        "gs.fit(data)\n",
        "\n",
        "print(gs.best_score[\"rmse\"])"
      ],
      "execution_count": null,
      "outputs": [
        {
          "output_type": "stream",
          "text": [
            "1.0\n"
          ],
          "name": "stdout"
        }
      ]
    },
    {
      "cell_type": "code",
      "metadata": {
        "colab": {
          "background_save": true
        },
        "id": "Vq69V-j_Yv1E",
        "outputId": "e9bf663c-cd80-4bf4-d5c1-3a4fa8ea43e2"
      },
      "source": [
        "reader = Reader(rating_scale=(1, 10))\n",
        "data = Dataset.load_from_df(df_8_4[[\"User-ID\", \"ISBN\", \"Book-Rating\"]], reader)\n",
        "from surprise.model_selection import GridSearchCV\n",
        "\n",
        "param_grid = {\n",
        "    \"n_epochs\": [1, 5, 10, 15, 20],\n",
        "    \"lr_all\": [0.002, 0.005, 0.009, 0.01, 0.05],\n",
        "    \"reg_all\": [0.2, 0.4, 0.6, 1]\n",
        "}\n",
        "gs = GridSearchCV(SVD, param_grid, measures=[\"rmse\"], cv=3)\n",
        "\n",
        "gs.fit(data)\n",
        "\n",
        "print(gs.best_score[\"rmse\"])"
      ],
      "execution_count": null,
      "outputs": [
        {
          "output_type": "stream",
          "text": [
            "0.6424460338480628\n"
          ],
          "name": "stdout"
        }
      ]
    },
    {
      "cell_type": "code",
      "metadata": {
        "colab": {
          "background_save": true
        },
        "id": "rDSc6tVbh_Ns",
        "outputId": "21640746-e667-49e4-db61-fee1cbae12be"
      },
      "source": [
        "reader = Reader(rating_scale=(1, 10))\n",
        "data = Dataset.load_from_df(df_8_5[[\"User-ID\", \"ISBN\", \"Book-Rating\"]], reader)\n",
        "from surprise.model_selection import GridSearchCV\n",
        "\n",
        "param_grid = {\n",
        "    \"n_epochs\": [1, 5, 10, 15, 20],\n",
        "    \"lr_all\": [0.002, 0.005, 0.009, 0.01, 0.05],\n",
        "    \"reg_all\": [0.2, 0.4, 0.6, 1]\n",
        "}\n",
        "gs = GridSearchCV(SVD, param_grid, measures=[\"rmse\"], cv=3)\n",
        "\n",
        "gs.fit(data)\n",
        "\n",
        "print(gs.best_score[\"rmse\"])"
      ],
      "execution_count": null,
      "outputs": [
        {
          "output_type": "stream",
          "text": [
            "0.5821109379650294\n"
          ],
          "name": "stdout"
        }
      ]
    },
    {
      "cell_type": "code",
      "metadata": {
        "colab": {
          "background_save": true
        },
        "id": "dXEZMZOXh_9D",
        "outputId": "340c00f5-c8bb-42f4-b78f-4385a1bf094e"
      },
      "source": [
        "reader = Reader(rating_scale=(1, 10))\n",
        "data = Dataset.load_from_df(df_8_6[[\"User-ID\", \"ISBN\", \"Book-Rating\"]], reader)\n",
        "from surprise.model_selection import GridSearchCV\n",
        "\n",
        "param_grid = {\n",
        "    \"n_epochs\": [1, 5, 10, 15, 20],\n",
        "    \"lr_all\": [0.002, 0.005, 0.009, 0.01, 0.05],\n",
        "    \"reg_all\": [0.2, 0.4, 0.6, 1]\n",
        "}\n",
        "gs = GridSearchCV(SVD, param_grid, measures=[\"rmse\"], cv=3)\n",
        "\n",
        "gs.fit(data)\n",
        "\n",
        "print(gs.best_score[\"rmse\"])"
      ],
      "execution_count": null,
      "outputs": [
        {
          "output_type": "stream",
          "text": [
            "0.28864342170660756\n"
          ],
          "name": "stdout"
        }
      ]
    },
    {
      "cell_type": "code",
      "metadata": {
        "colab": {
          "background_save": true
        },
        "id": "vngrj8JNiA0v",
        "outputId": "5c30e241-91c1-4bfe-c704-a03731d74a03"
      },
      "source": [
        "reader = Reader(rating_scale=(1, 10))\n",
        "data = Dataset.load_from_df(df_8_7[[\"User-ID\", \"ISBN\", \"Book-Rating\"]], reader)\n",
        "from surprise.model_selection import GridSearchCV\n",
        "\n",
        "param_grid = {\n",
        "    \"n_epochs\": [1, 5, 10, 15, 20],\n",
        "    \"lr_all\": [0.002, 0.005, 0.009, 0.01, 0.05],\n",
        "    \"reg_all\": [0.2, 0.4, 0.6, 1]\n",
        "}\n",
        "gs = GridSearchCV(SVD, param_grid, measures=[\"rmse\"], cv=3)\n",
        "\n",
        "gs.fit(data)\n",
        "\n",
        "print(gs.best_score[\"rmse\"])"
      ],
      "execution_count": null,
      "outputs": [
        {
          "output_type": "stream",
          "text": [
            "0.661831499518203\n"
          ],
          "name": "stdout"
        }
      ]
    },
    {
      "cell_type": "code",
      "metadata": {
        "id": "iLlRwG97iB0r"
      },
      "source": [
        ""
      ],
      "execution_count": null,
      "outputs": []
    }
  ]
}