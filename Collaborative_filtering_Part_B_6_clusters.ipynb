{
  "nbformat": 4,
  "nbformat_minor": 0,
  "metadata": {
    "colab": {
      "name": "Copy of Collaborative filtering Part B - 6 clusters.ipynb",
      "provenance": [],
      "collapsed_sections": [],
      "machine_shape": "hm"
    },
    "kernelspec": {
      "name": "python3",
      "display_name": "Python 3"
    },
    "language_info": {
      "name": "python"
    },
    "accelerator": "TPU"
  },
  "cells": [
    {
      "cell_type": "code",
      "metadata": {
        "colab": {
          "base_uri": "https://localhost:8080/"
        },
        "id": "WMIEhCZ_w6CV",
        "outputId": "7fa05e3d-0c8c-4640-e00f-e1284ac2ab89"
      },
      "source": [
        "import numpy as np\n",
        "import pandas as pd\n",
        "import matplotlib.pyplot as plt\n",
        "import warnings\n",
        "warnings.filterwarnings(\"ignore\")\n",
        "import sklearn\n",
        "from sklearn.preprocessing import StandardScaler\n",
        "from sklearn.preprocessing import LabelEncoder\n",
        "!pip install scikit-surprise\n",
        "from surprise.model_selection import GridSearchCV\n",
        "from surprise import SVD\n",
        "from surprise import Dataset\n",
        "from surprise import Reader\n",
        "from surprise.model_selection import GridSearchCV\n",
        "import seaborn as sns\n",
        "from google.colab import drive\n",
        "drive.mount('/content/drive')"
      ],
      "execution_count": null,
      "outputs": [
        {
          "output_type": "stream",
          "text": [
            "Requirement already satisfied: scikit-surprise in /usr/local/lib/python3.7/dist-packages (1.1.1)\n",
            "Requirement already satisfied: joblib>=0.11 in /usr/local/lib/python3.7/dist-packages (from scikit-surprise) (1.0.1)\n",
            "Requirement already satisfied: scipy>=1.0.0 in /usr/local/lib/python3.7/dist-packages (from scikit-surprise) (1.4.1)\n",
            "Requirement already satisfied: numpy>=1.11.2 in /usr/local/lib/python3.7/dist-packages (from scikit-surprise) (1.19.5)\n",
            "Requirement already satisfied: six>=1.10.0 in /usr/local/lib/python3.7/dist-packages (from scikit-surprise) (1.15.0)\n",
            "Drive already mounted at /content/drive; to attempt to forcibly remount, call drive.mount(\"/content/drive\", force_remount=True).\n"
          ],
          "name": "stdout"
        }
      ]
    },
    {
      "cell_type": "code",
      "metadata": {
        "colab": {
          "base_uri": "https://localhost:8080/"
        },
        "id": "iQdEUh9JxLJJ",
        "outputId": "aa8ba6e6-dc3c-4424-faeb-9a3042ef14e9"
      },
      "source": [
        "%cd drive/MyDrive/Colab Notebooks/Masters Python Workbooks/Redone Python Workbooks\n",
        "books = pd.read_csv(\"Books.csv\")\n",
        "ratings = pd.read_csv(\"Ratings.csv\")\n",
        "users = pd.read_csv(\"Users.csv\")\n",
        "books[\"Book-Author\"].fillna(\"Edinburgh Financial Publishing\",inplace=True)\n",
        "# We can replace the publisher name in these cases as well\n",
        "\n",
        "# The publisher of 'Tyrant Moon' as per Amazon and FantasticFiction.com is 'Mundania Press LLC'\n",
        "books['Publisher'].fillna(\"Mundania Press LLC\", inplace=True)\n",
        "\n",
        "# The publisher of 'Finders Keepers' as per GoodReads.com and Amazon is 'Bantam'\n",
        "books['Publisher'].fillna(\"Bantam\", inplace=True)\n",
        "\n",
        "# Replacing the 0 aged users with nans so that they can be replaced in the next step\n",
        "users.Age.replace(0,np.nan,inplace=True)\n",
        "\n",
        "# Linear Interpolation of age in the dataset\n",
        "users['Age'].interpolate(method = 'linear', limit_direction = 'forward',inplace=True)\n",
        "\n",
        "# Dropping the rows with age > 100\n",
        "users = users[users.Age <= 100]\n",
        "book_rating = pd.merge(books,ratings,on='ISBN',how='outer')\n",
        "book_rating = pd.merge(book_rating, users, on='User-ID', how='outer')\n",
        "book_rating.drop(['Image-URL-S','Image-URL-M','Image-URL-L'],axis=1,inplace=True)\n",
        "temp = book_rating[['ISBN','User-ID','Book-Rating']]\n",
        "counts_user = temp.groupby('User-ID').agg(['count'])\n",
        "counts_user.columns = ['ISBN_ct','rating_users_ct']\n",
        "counts_book = temp.groupby('ISBN').agg(['count'])\n",
        "counts_book.columns = ['ISBN_ct','rating_books_ct']\n",
        "counts_user.drop(['ISBN_ct'], inplace=True, axis=1)\n",
        "counts_book.drop(['ISBN_ct'], inplace=True, axis=1)\n",
        "book_rating = pd.merge(book_rating, counts_book, on='ISBN',how='left')\n",
        "book_rating = pd.merge(book_rating, counts_user, on='User-ID',how='left')\n",
        "\n",
        "book_rating['City'] = book_rating['Location'].str.split(\",\",expand=True)[0]\n",
        "book_rating['State'] = book_rating['Location'].str.split(\",\",expand=True)[1]\n",
        "book_rating['Country'] = book_rating['Location'].str.split(\",\",expand=True)[2]\n",
        "book_rating.drop('Location',axis=1,inplace=True)\n",
        "df = book_rating.copy()\n",
        "\n",
        "index_year = df[(df['Year-Of-Publication'] == 'DK Publishing Inc') | (df['Year-Of-Publication'] == 'Gallimard')].index\n",
        "df.drop(index_year,inplace=True)\n",
        "df = df.dropna(subset=['ISBN'])\n",
        "df = df.dropna(subset=['Book-Title'])\n",
        "\n",
        "# Dropping null values in User-ID as there could be no results if the user ID is not present\n",
        "df = df.dropna(subset=['User-ID'])\n",
        "\n",
        "# Deleting missing rows present in location as those are only 0.3% of the dataset\n",
        "df.dropna(inplace=True)\n",
        "# df.info()\n",
        "# pd.isnull(df).sum()\n",
        "df['Year-Of-Publication'] = df['Year-Of-Publication'].astype(int)\n",
        "\n",
        "# One of the city names is '&#304;stanbul' which will be replaced with 'Istanbul'\n",
        "df['City'].replace('&#304;stanbul','Istanbul',inplace=True)\n",
        "df[df['Book-Title'] == 'Wild Animus']['ISBN'].value_counts()\n",
        "most_popular_books = df[(df['rating_books_ct'] >= 568) & (df['rating_books_ct'] <= 2502.0)]\n",
        "most_popular_books = most_popular_books[['ISBN','Book-Title','Book-Author','Publisher','rating_books_ct']]\n",
        "most_popular_books = most_popular_books.drop_duplicates()\n",
        "most_popular_books.shape\n",
        "\n",
        "# books = list(most_popular_books['Book-Title'].values)\n",
        "# temp = df.copy()\n",
        "# df = temp[~temp['Book-Title'].isin(books)]\n",
        "label_encoder = LabelEncoder()\n",
        "# Creating a copy that will contain all the label encoders instead of the actual categorical variables\n",
        "df1 = df.copy()\n",
        "df1['City'] = label_encoder.fit_transform(df1['City'])\n",
        "columns = ['Book-Author','Book-Title','Year-Of-Publication','Publisher','State','Country']\n",
        "df1['State'] = label_encoder.fit_transform(df1['State'])\n",
        "df1['Book-Author'] = label_encoder.fit_transform(df1['Book-Author'])\n",
        "df1['Book-Title'] = label_encoder.fit_transform(df1['Book-Title'])\n",
        "df1['Year-Of-Publication'] = df1['Year-Of-Publication'].astype(str)\n",
        "df1['Year-Of-Publication'] = label_encoder.fit_transform(df1['Year-Of-Publication'])\n",
        "df1['Publisher'] = label_encoder.fit_transform(df1['Publisher'])\n",
        "df1['Country'] = label_encoder.fit_transform(df1['Country'])\n",
        "# Creating another dataset that has only non categorical values that need to be scaled\n",
        "numerical_df = df1[['Book-Title','Book-Author','Year-Of-Publication','Publisher','Book-Rating',\n",
        "                    'Age','rating_books_ct','rating_users_ct','City','State','Country']] \n",
        "scaler = StandardScaler()\n",
        "df_scaled = scaler.fit_transform(numerical_df)\n",
        "df_scaled = pd.DataFrame(df_scaled)\n",
        "df_scaled.columns = ['Book-Title','Book-Author','Year-Of-Publication','Publisher','Book-Rating',\n",
        "                    'Age','rating_books_ct','rating_users_ct','City','State','Country']\n",
        "\n",
        "# df is the dataset to use from Part A\n",
        "\n",
        "import sklearn\n",
        "from sklearn.preprocessing import StandardScaler\n",
        "from sklearn.cluster import KMeans"
      ],
      "execution_count": null,
      "outputs": [
        {
          "output_type": "stream",
          "text": [
            "/content/drive/MyDrive/Colab Notebooks/Masters Python Workbooks/Redone Python Workbooks\n"
          ],
          "name": "stdout"
        }
      ]
    },
    {
      "cell_type": "code",
      "metadata": {
        "colab": {
          "base_uri": "https://localhost:8080/"
        },
        "id": "tMLEi3qYm4gb",
        "outputId": "afdbcffc-f105-41a6-aa08-fe2e6564ffc0"
      },
      "source": [
        "# Hopkins Statistic for KMeans\n",
        "\n",
        "# from sklearn.neighbors import NearestNeighbors\n",
        "# from random import sample\n",
        "# from numpy.random import uniform\n",
        "# import numpy as np\n",
        "# from math import isnan\n",
        " \n",
        "# def hopkins(X):\n",
        "#     d = X.shape[1]\n",
        "#     #d = len(vars) # columns\n",
        "#     n = len(X) # rows\n",
        "#     m = int(0.1 * n) \n",
        "#     nbrs = NearestNeighbors(n_neighbors=1).fit(X.values)\n",
        " \n",
        "#     rand_X = sample(range(0, n, 1), m)\n",
        " \n",
        "#     ujd = []\n",
        "#     wjd = []\n",
        "#     for j in range(0, m):\n",
        "#         u_dist, _ = nbrs.kneighbors(uniform(np.amin(X,axis=0),np.amax(X,axis=0),d).reshape(1, -1), 2, return_distance=True)\n",
        "#         ujd.append(u_dist[0][1])\n",
        "#         w_dist, _ = nbrs.kneighbors(X.iloc[rand_X[j]].values.reshape(1, -1), 2, return_distance=True)\n",
        "#         wjd.append(w_dist[0][1])\n",
        " \n",
        "#     H = sum(ujd) / (sum(ujd) + sum(wjd))\n",
        "#     if isnan(H):\n",
        "#         print(ujd, wjd)\n",
        "#         H = 0\n",
        " \n",
        "#     return H\n",
        "# hopkins(df_scaled)"
      ],
      "execution_count": null,
      "outputs": [
        {
          "output_type": "execute_result",
          "data": {
            "text/plain": [
              "0.9192442172243398"
            ]
          },
          "metadata": {
            "tags": []
          },
          "execution_count": 4
        }
      ]
    },
    {
      "cell_type": "code",
      "metadata": {
        "id": "AB42LU4UnKte",
        "colab": {
          "base_uri": "https://localhost:8080/"
        },
        "outputId": "f2d55870-94e9-43db-e74b-50d045e54d5a"
      },
      "source": [
        "# model with k = 6\n",
        "kmeans = KMeans(n_clusters=6, max_iter=50, random_state=0)\n",
        "kmeans.fit(df_scaled)\n",
        "df_6 = df.copy()\n",
        "# assign the label\n",
        "df_6['cluster_id'] = kmeans.labels_\n",
        "\n",
        "\n",
        "# 6 clusters\n",
        "df_6_0 = df_6[df_6['cluster_id'] == 0]\n",
        "df_6_1 = df_6[df_6['cluster_id'] == 1]\n",
        "df_6_2 = df_6[df_6['cluster_id'] == 2]\n",
        "df_6_3 = df_6[df_6['cluster_id'] == 3]\n",
        "df_6_4 = df_6[df_6['cluster_id'] == 4]\n",
        "df_6_5 = df_6[df_6['cluster_id'] == 5]\n",
        "\n",
        "print(\"Ready for collaborative filtering!\")"
      ],
      "execution_count": null,
      "outputs": [
        {
          "output_type": "stream",
          "text": [
            "Ready for collaborative filtering!\n"
          ],
          "name": "stdout"
        }
      ]
    },
    {
      "cell_type": "code",
      "metadata": {
        "colab": {
          "base_uri": "https://localhost:8080/"
        },
        "id": "Lkh1zEaumFTJ",
        "outputId": "105f7374-4b98-41c9-952d-c00506ac2b60"
      },
      "source": [
        "df_6_0['Book-Rating'] = df_6_0['Book-Rating'].apply(lambda x: 0 if x>=1 else 1)\n",
        "df_6_1['Book-Rating'] = df_6_1['Book-Rating'].apply(lambda x: 0 if x>=1 else 1)\n",
        "df_6_2['Book-Rating'] = df_6_2['Book-Rating'].apply(lambda x: 0 if x>=1 else 1)\n",
        "df_6_3['Book-Rating'] = df_6_3['Book-Rating'].apply(lambda x: 0 if x>=1 else 1)\n",
        "df_6_4['Book-Rating'] = df_6_4['Book-Rating'].apply(lambda x: 0 if x>=1 else 1)\n",
        "df_6_5['Book-Rating'] = df_6_5['Book-Rating'].apply(lambda x: 0 if x>=1 else 1)\n",
        "df_8_0['Book-Rating'] = df_8_0['Book-Rating'].apply(lambda x: 0 if x>=1 else 1)\n",
        "df_8_1['Book-Rating'] = df_8_1['Book-Rating'].apply(lambda x: 0 if x>=1 else 1)\n",
        "df_8_2['Book-Rating'] = df_8_2['Book-Rating'].apply(lambda x: 0 if x>=1 else 1)\n",
        "df_8_3['Book-Rating'] = df_8_3['Book-Rating'].apply(lambda x: 0 if x>=1 else 1)\n",
        "df_8_4['Book-Rating'] = df_8_4['Book-Rating'].apply(lambda x: 0 if x>=1 else 1)\n",
        "df_8_5['Book-Rating'] = df_8_5['Book-Rating'].apply(lambda x: 0 if x>=1 else 1)\n",
        "df_8_6['Book-Rating'] = df_8_6['Book-Rating'].apply(lambda x: 0 if x>=1 else 1)\n",
        "df_8_7['Book-Rating'] = df_8_7['Book-Rating'].apply(lambda x: 0 if x>=1 else 1)\n",
        "for i in [df_6_0, df_6_1, df_6_2, df_6_3, df_6_4, df_6_5]:\n",
        "  i.drop_duplicates()\n",
        "  print(i.shape)"
      ],
      "execution_count": null,
      "outputs": [
        {
          "output_type": "stream",
          "text": [
            "(268468, 14)\n",
            "(267184, 14)\n",
            "(3789, 14)\n",
            "(262048, 14)\n",
            "(34835, 14)\n",
            "(191835, 14)\n"
          ],
          "name": "stdout"
        }
      ]
    },
    {
      "cell_type": "markdown",
      "metadata": {
        "id": "cb9Zkc2wyNos"
      },
      "source": [
        "# Collaborative filtering\n",
        "## PART B: User Similarity"
      ]
    },
    {
      "cell_type": "markdown",
      "metadata": {
        "id": "7vHD3t3w0b-a"
      },
      "source": [
        "### Clusters: 6"
      ]
    },
    {
      "cell_type": "code",
      "metadata": {
        "colab": {
          "base_uri": "https://localhost:8080/"
        },
        "id": "Z3gK2sOeU06R",
        "outputId": "132b4a71-7b27-45df-841b-cfea5f28e2c7"
      },
      "source": [
        "print(\"df_6_0: \",df_6_0.shape)\n",
        "print(\"df_6_1: \",df_6_1.shape)\n",
        "print(\"df_6_2: \",df_6_2.shape)\n",
        "print(\"df_6_3: \",df_6_3.shape)\n",
        "print(\"df_6_4: \",df_6_4.shape)\n",
        "print(\"df_6_5: \",df_6_5.shape)"
      ],
      "execution_count": null,
      "outputs": [
        {
          "output_type": "stream",
          "text": [
            "df_6_0:  (268468, 14)\n",
            "df_6_1:  (267184, 14)\n",
            "df_6_2:  (3789, 14)\n",
            "df_6_3:  (262048, 14)\n",
            "df_6_4:  (34835, 14)\n",
            "df_6_5:  (191835, 14)\n"
          ],
          "name": "stdout"
        }
      ]
    },
    {
      "cell_type": "markdown",
      "metadata": {
        "id": "n_o-0NT5X830"
      },
      "source": [
        "###### Breaking df_6_2, df_6_3 and df_6_5"
      ]
    },
    {
      "cell_type": "code",
      "metadata": {
        "id": "IdVOz-qKX7JH"
      },
      "source": [
        "# df_6_0\n",
        "df_6_0_1 = np.array_split(df_6_0,10)[0]\n",
        "df_6_0_2 = np.array_split(df_6_0,10)[1]\n",
        "df_6_0_3 = np.array_split(df_6_0,10)[2]\n",
        "df_6_0_4 = np.array_split(df_6_0,10)[3]\n",
        "df_6_0_5 = np.array_split(df_6_0,10)[4]\n",
        "df_6_0_6 = np.array_split(df_6_0,10)[5]\n",
        "df_6_0_7 = np.array_split(df_6_0,10)[6]\n",
        "df_6_0_8 = np.array_split(df_6_0,10)[7]\n",
        "df_6_0_9 = np.array_split(df_6_0,10)[8]\n",
        "df_6_0_10 = np.array_split(df_6_0,10)[9]\n",
        "\n",
        "# df_6_1\n",
        "df_6_1_1 = np.array_split(df_6_1,10)[0]\n",
        "df_6_1_2 = np.array_split(df_6_1,10)[1]\n",
        "df_6_1_3 = np.array_split(df_6_1,10)[2]\n",
        "df_6_1_4 = np.array_split(df_6_1,10)[3]\n",
        "df_6_1_5 = np.array_split(df_6_1,10)[4]\n",
        "df_6_1_6 = np.array_split(df_6_1,10)[5]\n",
        "df_6_1_7 = np.array_split(df_6_1,10)[6]\n",
        "df_6_1_8 = np.array_split(df_6_1,10)[7]\n",
        "df_6_1_9 = np.array_split(df_6_1,10)[8]\n",
        "df_6_1_10 = np.array_split(df_6_1,10)[9]\n",
        "\n",
        "\n",
        "# df_6_3\n",
        "df_6_3_1 = np.array_split(df_6_3,15)[0]\n",
        "df_6_3_2 = np.array_split(df_6_3,15)[1]\n",
        "df_6_3_3 = np.array_split(df_6_3,15)[2]\n",
        "df_6_3_4 = np.array_split(df_6_3,15)[3]\n",
        "df_6_3_5 = np.array_split(df_6_3,15)[4]\n",
        "df_6_3_6 = np.array_split(df_6_3,15)[5]\n",
        "df_6_3_7 = np.array_split(df_6_3,15)[6]\n",
        "df_6_3_8 = np.array_split(df_6_3,15)[7]\n",
        "df_6_3_9 = np.array_split(df_6_3,15)[8]\n",
        "df_6_3_10 = np.array_split(df_6_3,15)[9]\n",
        "df_6_3_11 = np.array_split(df_6_3,15)[10]\n",
        "df_6_3_12 = np.array_split(df_6_3,15)[11]\n",
        "df_6_3_13 = np.array_split(df_6_3,15)[12]\n",
        "df_6_3_14 = np.array_split(df_6_3,15)[13]\n",
        "df_6_3_15 = np.array_split(df_6_3,15)[14]\n",
        "\n",
        "# df_6_5\n",
        "df_6_5_1 = np.array_split(df_6_5,20)[0]\n",
        "df_6_5_2 = np.array_split(df_6_5,20)[1]\n",
        "df_6_5_3 = np.array_split(df_6_5,20)[2]\n",
        "df_6_5_4 = np.array_split(df_6_5,20)[3]\n",
        "df_6_5_5 = np.array_split(df_6_5,20)[4]\n",
        "df_6_5_6 = np.array_split(df_6_5,20)[5]\n",
        "df_6_5_7 = np.array_split(df_6_5,20)[6]\n",
        "df_6_5_8 = np.array_split(df_6_5,20)[7]\n",
        "df_6_5_9 = np.array_split(df_6_5,20)[8]\n",
        "df_6_5_10 = np.array_split(df_6_5,20)[9]\n",
        "df_6_5_11 = np.array_split(df_6_5,20)[10]\n",
        "df_6_5_12 = np.array_split(df_6_5,20)[11]\n",
        "df_6_5_13 = np.array_split(df_6_5,20)[12]\n",
        "df_6_5_14 = np.array_split(df_6_5,20)[13]\n",
        "df_6_5_15 = np.array_split(df_6_5,20)[14]\n",
        "df_6_5_16 = np.array_split(df_6_5,20)[15]\n",
        "df_6_5_17 = np.array_split(df_6_5,20)[16]\n",
        "df_6_5_18 = np.array_split(df_6_5,20)[17]\n",
        "df_6_5_19 = np.array_split(df_6_5,20)[18]\n",
        "df_6_5_20 = np.array_split(df_6_5,20)[19]"
      ],
      "execution_count": null,
      "outputs": []
    },
    {
      "cell_type": "code",
      "metadata": {
        "id": "25T_G_y5UAfx"
      },
      "source": [
        "df_6_features_2 = df_6_2.pivot_table(index='User-ID', columns='ISBN', values='Book-Rating',fill_value=0)\n",
        "df_6_features_4 = df_6_4.pivot_table(index='User-ID', columns='ISBN', values='Book-Rating',fill_value=0)"
      ],
      "execution_count": null,
      "outputs": []
    },
    {
      "cell_type": "markdown",
      "metadata": {
        "id": "4AZ-kdyCEhYH"
      },
      "source": [
        "### Function to do user similarity automatically"
      ]
    },
    {
      "cell_type": "code",
      "metadata": {
        "id": "fDGkNQDjNri2"
      },
      "source": [
        "from sklearn.metrics.pairwise import pairwise_distances\n",
        "from sklearn.preprocessing import MinMaxScaler\n",
        "from numpy import *\n",
        "\n",
        "def get_df_name(df):\n",
        "    name =[x for x in globals() if globals()[x] is df][0]\n",
        "    return name\n",
        "\n",
        "def user_similarity(df_features, original_df):\n",
        "  mean = np.nanmean(df_features, axis=1)\n",
        "  df_subtracted = (df_features.T-mean).T\n",
        "# User Similarity Matrix\n",
        "  user_correlation = 1 - pairwise_distances(df_subtracted.fillna(0), metric='cosine')\n",
        "  user_correlation[np.isnan(user_correlation)] = 0\n",
        "  user_correlation[user_correlation<0]=0\n",
        "  user_predicted_ratings = np.dot(user_correlation, df_features.fillna(0))\n",
        "  user_final_rating = np.multiply(user_predicted_ratings,df_features)\n",
        "\n",
        "  X  = user_final_rating.copy() \n",
        "  X = X[X>0]\n",
        "  scaler = MinMaxScaler(feature_range=(1, 5))\n",
        "  scaler.fit(X)\n",
        "  y = (scaler.transform(X))\n",
        "  df_ = original_df.pivot_table(index='User-ID',columns='ISBN',values='Book-Rating')\n",
        "  # Finding total non-NaN value\n",
        "  total_non_nan = np.count_nonzero(~np.isnan(y))\n",
        "  rmse = (sum(sum((df_ - y )**2))/total_non_nan)**0.5\n",
        "  print(\"The RMSE of {}: {}\".format(get_df_name(original_df), rmse))"
      ],
      "execution_count": null,
      "outputs": []
    },
    {
      "cell_type": "code",
      "metadata": {
        "id": "QjL7jsnKRaWe",
        "colab": {
          "base_uri": "https://localhost:8080/"
        },
        "outputId": "f79cfbf5-d522-4b78-a8e7-fc17f2d20025"
      },
      "source": [
        "df_6_features_0_1 = df_6_0_1.pivot_table(index='User-ID', columns='ISBN', values='Book-Rating',fill_value=0)\n",
        "df_6_features_0_2 = df_6_0_2.pivot_table(index='User-ID', columns='ISBN', values='Book-Rating',fill_value=0)\n",
        "df_6_features_0_3 = df_6_0_3.pivot_table(index='User-ID', columns='ISBN', values='Book-Rating',fill_value=0)\n",
        "df_6_features_0_4 = df_6_0_4.pivot_table(index='User-ID', columns='ISBN', values='Book-Rating',fill_value=0)\n",
        "df_6_features_0_5 = df_6_0_5.pivot_table(index='User-ID', columns='ISBN', values='Book-Rating',fill_value=0)\n",
        "df_6_features_0_6 = df_6_0_6.pivot_table(index='User-ID', columns='ISBN', values='Book-Rating',fill_value=0)\n",
        "df_6_features_0_7 = df_6_0_7.pivot_table(index='User-ID', columns='ISBN', values='Book-Rating',fill_value=0)\n",
        "df_6_features_0_8 = df_6_0_8.pivot_table(index='User-ID', columns='ISBN', values='Book-Rating',fill_value=0)\n",
        "df_6_features_0_9 = df_6_0_9.pivot_table(index='User-ID', columns='ISBN', values='Book-Rating',fill_value=0)\n",
        "df_6_features_0_10 = df_6_0_10.pivot_table(index='User-ID', columns='ISBN', values='Book-Rating',fill_value=0)\n",
        "user_similarity(df_6_features_0_1, df_6_0_1)\n",
        "user_similarity(df_6_features_0_2, df_6_0_2)\n",
        "user_similarity(df_6_features_0_3, df_6_0_3)\n",
        "user_similarity(df_6_features_0_4, df_6_0_4)\n",
        "user_similarity(df_6_features_0_5, df_6_0_5)\n",
        "user_similarity(df_6_features_0_6, df_6_0_6)\n",
        "user_similarity(df_6_features_0_7, df_6_0_7)\n",
        "user_similarity(df_6_features_0_8, df_6_0_8)\n",
        "user_similarity(df_6_features_0_9, df_6_0_9)\n",
        "\n",
        "df_6_features_1_1 = df_6_1_1.pivot_table(index='User-ID', columns='ISBN', values='Book-Rating',fill_value=0)\n",
        "df_6_features_1_2 = df_6_1_2.pivot_table(index='User-ID', columns='ISBN', values='Book-Rating',fill_value=0)\n",
        "df_6_features_1_3 = df_6_1_3.pivot_table(index='User-ID', columns='ISBN', values='Book-Rating',fill_value=0)\n",
        "df_6_features_1_4 = df_6_1_4.pivot_table(index='User-ID', columns='ISBN', values='Book-Rating',fill_value=0)\n",
        "df_6_features_1_5 = df_6_1_5.pivot_table(index='User-ID', columns='ISBN', values='Book-Rating',fill_value=0)\n",
        "df_6_features_1_6 = df_6_1_6.pivot_table(index='User-ID', columns='ISBN', values='Book-Rating',fill_value=0)\n",
        "df_6_features_1_7 = df_6_1_7.pivot_table(index='User-ID', columns='ISBN', values='Book-Rating',fill_value=0)\n",
        "df_6_features_1_8 = df_6_1_8.pivot_table(index='User-ID', columns='ISBN', values='Book-Rating',fill_value=0)\n",
        "df_6_features_1_9 = df_6_1_9.pivot_table(index='User-ID', columns='ISBN', values='Book-Rating',fill_value=0)\n",
        "df_6_features_1_10 = df_6_1_10.pivot_table(index='User-ID', columns='ISBN', values='Book-Rating',fill_value=0)\n",
        "user_similarity(df_6_features_1_1, df_6_1_1)\n",
        "user_similarity(df_6_features_1_2, df_6_1_2)\n",
        "user_similarity(df_6_features_1_3, df_6_1_3)\n",
        "user_similarity(df_6_features_1_4, df_6_1_4)\n",
        "user_similarity(df_6_features_1_5, df_6_1_5)\n",
        "user_similarity(df_6_features_1_6, df_6_1_6)\n",
        "user_similarity(df_6_features_1_7, df_6_1_7)\n",
        "user_similarity(df_6_features_1_8, df_6_1_8)\n",
        "user_similarity(df_6_features_1_9, df_6_1_9)"
      ],
      "execution_count": null,
      "outputs": [
        {
          "output_type": "stream",
          "text": [
            "The RMSE of df_6_0_1: 0.5562409222280784\n",
            "The RMSE of df_6_0_2: 0.6381305250841128\n",
            "The RMSE of df_6_0_3: 0.5590922790681273\n",
            "The RMSE of df_6_0_4: 0.5701509630096697\n",
            "The RMSE of df_6_0_5: 0.7391717017239601\n",
            "The RMSE of df_6_0_6: 0.8625822530745677\n",
            "The RMSE of df_6_0_7: 0.9454847576446683\n",
            "The RMSE of df_6_0_8: 0.987105825236917\n",
            "The RMSE of df_6_0_9: 1.164295983705952\n",
            "The RMSE of df_6_1_1: 1.780001188556762\n",
            "The RMSE of df_6_1_2: 1.8279238400339766\n",
            "The RMSE of df_6_1_3: 1.7330520261946645\n",
            "The RMSE of df_6_1_4: 1.7217037002654718\n",
            "The RMSE of df_6_1_5: 1.7901137769272275\n",
            "The RMSE of df_6_1_6: 1.7719790773655753\n",
            "The RMSE of df_6_1_7: 1.706660019941872\n",
            "The RMSE of df_6_1_8: 1.7556458406979705\n",
            "The RMSE of df_6_1_9: 1.852179185171505\n"
          ],
          "name": "stdout"
        }
      ]
    },
    {
      "cell_type": "code",
      "metadata": {
        "id": "cnOElwf5RdKi",
        "colab": {
          "base_uri": "https://localhost:8080/"
        },
        "outputId": "6855d056-cf69-46e8-e045-4239781fb3b8"
      },
      "source": [
        "df_6_features_3_1 = df_6_3_1.pivot_table(index='User-ID', columns='ISBN', values='Book-Rating',fill_value=0)\n",
        "df_6_features_3_2 = df_6_3_2.pivot_table(index='User-ID', columns='ISBN', values='Book-Rating',fill_value=0)\n",
        "df_6_features_3_3 = df_6_3_3.pivot_table(index='User-ID', columns='ISBN', values='Book-Rating',fill_value=0)\n",
        "df_6_features_3_4 = df_6_3_4.pivot_table(index='User-ID', columns='ISBN', values='Book-Rating',fill_value=0)\n",
        "df_6_features_3_5 = df_6_3_5.pivot_table(index='User-ID', columns='ISBN', values='Book-Rating',fill_value=0)\n",
        "df_6_features_3_6 = df_6_3_6.pivot_table(index='User-ID', columns='ISBN', values='Book-Rating',fill_value=0)\n",
        "df_6_features_3_7 = df_6_3_7.pivot_table(index='User-ID', columns='ISBN', values='Book-Rating',fill_value=0)\n",
        "df_6_features_3_8 = df_6_3_8.pivot_table(index='User-ID', columns='ISBN', values='Book-Rating',fill_value=0)\n",
        "df_6_features_3_9 = df_6_3_9.pivot_table(index='User-ID', columns='ISBN', values='Book-Rating',fill_value=0)\n",
        "df_6_features_3_10 = df_6_3_10.pivot_table(index='User-ID', columns='ISBN', values='Book-Rating',fill_value=0)\n",
        "user_similarity(df_6_features_3_1, df_6_3_1)\n",
        "user_similarity(df_6_features_3_2, df_6_3_2)\n",
        "user_similarity(df_6_features_3_3, df_6_3_3)\n",
        "user_similarity(df_6_features_3_4, df_6_3_4)\n",
        "user_similarity(df_6_features_3_5, df_6_3_5)\n",
        "user_similarity(df_6_features_3_6, df_6_3_6)\n",
        "user_similarity(df_6_features_3_7, df_6_3_7)\n",
        "user_similarity(df_6_features_3_8, df_6_3_8)\n",
        "user_similarity(df_6_features_3_9, df_6_3_9)\n",
        "user_similarity(df_6_features_3_10, df_6_3_10)"
      ],
      "execution_count": null,
      "outputs": [
        {
          "output_type": "stream",
          "text": [
            "The RMSE of df_6_3_1: nan\n",
            "The RMSE of df_6_3_2: nan\n",
            "The RMSE of df_6_3_3: nan\n",
            "The RMSE of df_6_3_4: nan\n",
            "The RMSE of df_6_3_5: nan\n",
            "The RMSE of df_6_3_6: nan\n",
            "The RMSE of df_6_3_7: nan\n",
            "The RMSE of df_6_3_8: nan\n",
            "The RMSE of df_6_3_9: nan\n"
          ],
          "name": "stdout"
        }
      ]
    },
    {
      "cell_type": "code",
      "metadata": {
        "id": "2iLwYFSYRgxR",
        "colab": {
          "base_uri": "https://localhost:8080/"
        },
        "outputId": "6e772cf6-a38f-4d48-e746-b93ee8a4a97f"
      },
      "source": [
        "df_6_features_5_1 = df_6_5_1.pivot_table(index='User-ID', columns='ISBN', values='Book-Rating',fill_value=0)\n",
        "df_6_features_5_2 = df_6_5_2.pivot_table(index='User-ID', columns='ISBN', values='Book-Rating',fill_value=0)\n",
        "df_6_features_5_3 = df_6_5_3.pivot_table(index='User-ID', columns='ISBN', values='Book-Rating',fill_value=0)\n",
        "df_6_features_5_4 = df_6_5_4.pivot_table(index='User-ID', columns='ISBN', values='Book-Rating',fill_value=0)\n",
        "df_6_features_5_5 = df_6_5_5.pivot_table(index='User-ID', columns='ISBN', values='Book-Rating',fill_value=0)\n",
        "df_6_features_5_6 = df_6_5_6.pivot_table(index='User-ID', columns='ISBN', values='Book-Rating',fill_value=0)\n",
        "df_6_features_5_7 = df_6_5_7.pivot_table(index='User-ID', columns='ISBN', values='Book-Rating',fill_value=0)\n",
        "df_6_features_5_8 = df_6_5_8.pivot_table(index='User-ID', columns='ISBN', values='Book-Rating',fill_value=0)\n",
        "df_6_features_5_9 = df_6_5_9.pivot_table(index='User-ID', columns='ISBN', values='Book-Rating',fill_value=0)\n",
        "df_6_features_5_10 = df_6_5_10.pivot_table(index='User-ID', columns='ISBN', values='Book-Rating',fill_value=0)\n",
        "df_6_features_5_11 = df_6_5_11.pivot_table(index='User-ID', columns='ISBN', values='Book-Rating',fill_value=0)\n",
        "df_6_features_5_12 = df_6_5_12.pivot_table(index='User-ID', columns='ISBN', values='Book-Rating',fill_value=0)\n",
        "df_6_features_5_13 = df_6_5_13.pivot_table(index='User-ID', columns='ISBN', values='Book-Rating',fill_value=0)\n",
        "df_6_features_5_14 = df_6_5_14.pivot_table(index='User-ID', columns='ISBN', values='Book-Rating',fill_value=0)\n",
        "df_6_features_5_15 = df_6_5_15.pivot_table(index='User-ID', columns='ISBN', values='Book-Rating',fill_value=0)\n",
        "df_6_features_5_16 = df_6_5_16.pivot_table(index='User-ID', columns='ISBN', values='Book-Rating',fill_value=0)\n",
        "df_6_features_5_17 = df_6_5_17.pivot_table(index='User-ID', columns='ISBN', values='Book-Rating',fill_value=0)\n",
        "df_6_features_5_18 = df_6_5_18.pivot_table(index='User-ID', columns='ISBN', values='Book-Rating',fill_value=0)\n",
        "df_6_features_5_19 = df_6_5_19.pivot_table(index='User-ID', columns='ISBN', values='Book-Rating',fill_value=0)\n",
        "df_6_features_5_20 = df_6_5_20.pivot_table(index='User-ID', columns='ISBN', values='Book-Rating',fill_value=0)\n",
        "user_similarity(df_6_features_5_1, df_6_5_1)\n",
        "user_similarity(df_6_features_5_2, df_6_5_2)\n",
        "user_similarity(df_6_features_5_3, df_6_5_3)\n",
        "user_similarity(df_6_features_5_4, df_6_5_4)\n",
        "user_similarity(df_6_features_5_5, df_6_5_5)\n",
        "user_similarity(df_6_features_5_6, df_6_5_6)"
      ],
      "execution_count": null,
      "outputs": [
        {
          "output_type": "stream",
          "text": [
            "The RMSE of df_6_5_1: 1.0253953216713527\n",
            "The RMSE of df_6_5_2: 1.171059046552048\n",
            "The RMSE of df_6_5_3: 0.990590720158057\n",
            "The RMSE of df_6_5_4: 0.8767936170046646\n",
            "The RMSE of df_6_5_5: 0.9075142884209343\n",
            "The RMSE of df_6_5_6: 0.9785100995528015\n"
          ],
          "name": "stdout"
        }
      ]
    },
    {
      "cell_type": "code",
      "metadata": {
        "colab": {
          "base_uri": "https://localhost:8080/"
        },
        "id": "C8hrfBFOUsV0",
        "outputId": "2efab0e1-8edb-4c22-c497-e079d1ab8cc9"
      },
      "source": [
        "user_similarity(df_6_features_5_7, df_6_5_7)\n",
        "user_similarity(df_6_features_5_8, df_6_5_8)\n",
        "user_similarity(df_6_features_5_9, df_6_5_9)\n",
        "user_similarity(df_6_features_5_10, df_6_5_10)\n",
        "user_similarity(df_6_features_5_11, df_6_5_11)\n",
        "user_similarity(df_6_features_5_12, df_6_5_12)\n",
        "user_similarity(df_6_features_5_13, df_6_5_13)\n",
        "user_similarity(df_6_features_5_14, df_6_5_14)\n",
        "user_similarity(df_6_features_5_15, df_6_5_15)\n",
        "user_similarity(df_6_features_5_16, df_6_5_16)\n",
        "user_similarity(df_6_features_5_17, df_6_5_17)\n",
        "user_similarity(df_6_features_5_18, df_6_5_18)\n",
        "user_similarity(df_6_features_5_19, df_6_5_19)\n",
        "user_similarity(df_6_features_5_20, df_6_5_20)"
      ],
      "execution_count": null,
      "outputs": [
        {
          "output_type": "stream",
          "text": [
            "The RMSE of df_6_5_7: 0.9808209780282106\n",
            "The RMSE of df_6_5_8: 1.2313007251683648\n",
            "The RMSE of df_6_5_9: 1.0264175915975924\n",
            "The RMSE of df_6_5_10: 1.2579953553228302\n",
            "The RMSE of df_6_5_11: 1.3101304123344413\n",
            "The RMSE of df_6_5_12: 1.061560874571706\n",
            "The RMSE of df_6_5_13: 1.0618885529908844\n",
            "The RMSE of df_6_5_14: 1.1623833501381564\n",
            "The RMSE of df_6_5_15: 1.1686063830996491\n",
            "The RMSE of df_6_5_16: 1.2594810440142328\n",
            "The RMSE of df_6_5_17: 1.3205440921886387\n",
            "The RMSE of df_6_5_18: 1.2184841245943847\n",
            "The RMSE of df_6_5_19: 1.0519840173645698\n",
            "The RMSE of df_6_5_20: 0.6655959641737935\n"
          ],
          "name": "stdout"
        }
      ]
    },
    {
      "cell_type": "code",
      "metadata": {
        "colab": {
          "base_uri": "https://localhost:8080/"
        },
        "id": "22vjbZJ_s7aV",
        "outputId": "29d9297f-819f-4ae7-81ea-7ead94c61ec0"
      },
      "source": [
        "user_similarity(df_6_features_2, df_6_2)\n",
        "user_similarity(df_6_features_4, df_6_4)"
      ],
      "execution_count": null,
      "outputs": [
        {
          "output_type": "stream",
          "text": [
            "The RMSE of df_6_2: 0.0\n",
            "The RMSE of df_6_4: 0.0\n"
          ],
          "name": "stdout"
        }
      ]
    },
    {
      "cell_type": "markdown",
      "metadata": {
        "id": "_sVZi57UYJJe"
      },
      "source": [
        "### Item Similarity"
      ]
    },
    {
      "cell_type": "code",
      "metadata": {
        "id": "59xdQ8fsjcUv"
      },
      "source": [
        "def item_similarity(df_features, original_df):\n",
        "  mean = np.nanmean(df_features, axis=1)\n",
        "  df_subtracted = (df_features.T-mean).T\n",
        "# Item Similarity Matrix\n",
        "  item_correlation = 1 - pairwise_distances(df_subtracted.fillna(0), metric='cosine')\n",
        "  item_correlation[np.isnan(item_correlation)] = 0\n",
        "  item_correlation[item_correlation<0]=0\n",
        "  item_predicted_ratings = np.dot((df_features.fillna(0).T),item_correlation)\n",
        "  dummy_df = original_df.pivot_table(index='User-ID', columns='ISBN', values='Book-Rating').fillna(0)\n",
        "  item_final_rating = np.multiply(item_predicted_ratings,dummy_df)\n",
        "  X  = item_final_rating.copy() \n",
        "  X = X[X>0]\n",
        "  scaler = MinMaxScaler(feature_range=(1, 5))\n",
        "  scaler.fit(X)\n",
        "  y = (scaler.transform(X))\n",
        "  df_ = original_df.pivot_table(index='User-ID',columns='ISBN',values='Book-Rating')\n",
        "  # Finding total non-NaN value\n",
        "\n",
        "  total_non_nan = np.count_nonzero(~np.isnan(y))\n",
        "  rmse = (sum(sum((df_ - y )**2))/total_non_nan)**0.5\n",
        "  print(\"{} (Item) RMSE: {}\".format(get_df_name(original_df), rmse))"
      ],
      "execution_count": null,
      "outputs": []
    },
    {
      "cell_type": "code",
      "metadata": {
        "colab": {
          "base_uri": "https://localhost:8080/"
        },
        "id": "XuqHU5jbYbzC",
        "outputId": "e3875776-1bdd-460d-9ef8-f285ce45cdd1"
      },
      "source": [
        "df_6_features_2 = df_6_2.pivot_table(index='User-ID', columns='ISBN', values='Book-Rating',fill_value=0).T\n",
        "df_6_features_4 = df_6_4.pivot_table(index='User-ID', columns='ISBN', values='Book-Rating',fill_value=0).T\n",
        "item_similarity(df_6_features_2, df_6_2)\n",
        "item_similarity(df_6_features_4, df_6_4)"
      ],
      "execution_count": null,
      "outputs": [
        {
          "output_type": "stream",
          "text": [
            "df_6_2 (Item) RMSE: 0.0\n",
            "df_6_4 (Item) RMSE: 1.1091400327377785\n"
          ],
          "name": "stdout"
        }
      ]
    },
    {
      "cell_type": "code",
      "metadata": {
        "colab": {
          "base_uri": "https://localhost:8080/"
        },
        "id": "TAGDf9LmYogk",
        "outputId": "ab001353-990c-4c11-a0e0-635f552e9d59"
      },
      "source": [
        "df_6_features_0_1 = df_6_0_1.pivot_table(index='User-ID', columns='ISBN', values='Book-Rating',fill_value=0).T\n",
        "df_6_features_0_2 = df_6_0_2.pivot_table(index='User-ID', columns='ISBN', values='Book-Rating',fill_value=0).T\n",
        "df_6_features_0_3 = df_6_0_3.pivot_table(index='User-ID', columns='ISBN', values='Book-Rating',fill_value=0).T\n",
        "df_6_features_0_4 = df_6_0_4.pivot_table(index='User-ID', columns='ISBN', values='Book-Rating',fill_value=0).T\n",
        "df_6_features_0_5 = df_6_0_5.pivot_table(index='User-ID', columns='ISBN', values='Book-Rating',fill_value=0).T\n",
        "df_6_features_0_6 = df_6_0_6.pivot_table(index='User-ID', columns='ISBN', values='Book-Rating',fill_value=0).T\n",
        "df_6_features_0_7 = df_6_0_7.pivot_table(index='User-ID', columns='ISBN', values='Book-Rating',fill_value=0).T\n",
        "df_6_features_0_8 = df_6_0_8.pivot_table(index='User-ID', columns='ISBN', values='Book-Rating',fill_value=0).T\n",
        "df_6_features_0_9 = df_6_0_9.pivot_table(index='User-ID', columns='ISBN', values='Book-Rating',fill_value=0).T\n",
        "df_6_features_0_10 = df_6_0_10.pivot_table(index='User-ID', columns='ISBN', values='Book-Rating',fill_value=0).T\n",
        "item_similarity(df_6_features_0_1, df_6_0_1)\n",
        "item_similarity(df_6_features_0_2, df_6_0_2)\n",
        "item_similarity(df_6_features_0_3, df_6_0_3)\n",
        "item_similarity(df_6_features_0_4, df_6_0_4)\n",
        "item_similarity(df_6_features_0_5, df_6_0_5)\n",
        "item_similarity(df_6_features_0_6, df_6_0_6)\n",
        "item_similarity(df_6_features_0_7, df_6_0_7)\n",
        "item_similarity(df_6_features_0_8, df_6_0_8)\n",
        "item_similarity(df_6_features_0_9, df_6_0_9)"
      ],
      "execution_count": null,
      "outputs": [
        {
          "output_type": "stream",
          "text": [
            "df_6_0_1 (Item) RMSE: 1.7168510070148157\n",
            "df_6_0_2 (Item) RMSE: 1.6178417426038179\n",
            "df_6_0_3 (Item) RMSE: 1.6649895086712134\n",
            "df_6_0_4 (Item) RMSE: 1.6089827813983493\n",
            "df_6_0_5 (Item) RMSE: 1.6405199179002383\n",
            "df_6_0_6 (Item) RMSE: 1.6756292491376388\n",
            "df_6_0_7 (Item) RMSE: 1.611184110286575\n",
            "df_6_0_8 (Item) RMSE: 1.583975288383375\n",
            "df_6_0_9 (Item) RMSE: 1.5205257246992552\n"
          ],
          "name": "stdout"
        }
      ]
    },
    {
      "cell_type": "code",
      "metadata": {
        "colab": {
          "base_uri": "https://localhost:8080/"
        },
        "id": "d1uhHf5pvzQS",
        "outputId": "90fa76f9-170d-4752-b954-02c90c29aa5e"
      },
      "source": [
        "df_6_features_1_1 = df_6_1_1.pivot_table(index='User-ID', columns='ISBN', values='Book-Rating',fill_value=0).T\n",
        "df_6_features_1_2 = df_6_1_2.pivot_table(index='User-ID', columns='ISBN', values='Book-Rating',fill_value=0).T\n",
        "df_6_features_1_3 = df_6_1_3.pivot_table(index='User-ID', columns='ISBN', values='Book-Rating',fill_value=0).T\n",
        "df_6_features_1_4 = df_6_1_4.pivot_table(index='User-ID', columns='ISBN', values='Book-Rating',fill_value=0).T\n",
        "df_6_features_1_5 = df_6_1_5.pivot_table(index='User-ID', columns='ISBN', values='Book-Rating',fill_value=0).T\n",
        "df_6_features_1_6 = df_6_1_6.pivot_table(index='User-ID', columns='ISBN', values='Book-Rating',fill_value=0).T\n",
        "df_6_features_1_7 = df_6_1_7.pivot_table(index='User-ID', columns='ISBN', values='Book-Rating',fill_value=0).T\n",
        "df_6_features_1_8 = df_6_1_8.pivot_table(index='User-ID', columns='ISBN', values='Book-Rating',fill_value=0).T\n",
        "df_6_features_1_9 = df_6_1_9.pivot_table(index='User-ID', columns='ISBN', values='Book-Rating',fill_value=0).T\n",
        "df_6_features_1_10 = df_6_0_10.pivot_table(index='User-ID', columns='ISBN', values='Book-Rating',fill_value=0).T\n",
        "item_similarity(df_6_features_1_1, df_6_1_1)\n",
        "item_similarity(df_6_features_1_2, df_6_1_2)\n",
        "item_similarity(df_6_features_1_3, df_6_1_3)\n",
        "item_similarity(df_6_features_1_4, df_6_1_4)\n",
        "item_similarity(df_6_features_1_5, df_6_1_5)\n",
        "item_similarity(df_6_features_1_6, df_6_1_6)\n",
        "item_similarity(df_6_features_1_7, df_6_1_7)\n",
        "item_similarity(df_6_features_1_8, df_6_1_8)\n",
        "item_similarity(df_6_features_1_9, df_6_1_9)"
      ],
      "execution_count": null,
      "outputs": [
        {
          "output_type": "stream",
          "text": [
            "df_6_1_1 (Item) RMSE: 1.7402631806401403\n",
            "df_6_1_2 (Item) RMSE: 1.6925632327521622\n",
            "df_6_1_3 (Item) RMSE: 1.7154715451990572\n",
            "df_6_1_4 (Item) RMSE: 1.71147995040021\n",
            "df_6_1_5 (Item) RMSE: 1.749439850243652\n",
            "df_6_1_6 (Item) RMSE: 1.709693595648483\n",
            "df_6_1_7 (Item) RMSE: 1.6659059278050812\n",
            "df_6_1_8 (Item) RMSE: 1.6435216863807518\n",
            "df_6_1_9 (Item) RMSE: 1.590461742314615\n"
          ],
          "name": "stdout"
        }
      ]
    },
    {
      "cell_type": "code",
      "metadata": {
        "id": "FHz-vyjHZB7g",
        "colab": {
          "base_uri": "https://localhost:8080/"
        },
        "outputId": "800f52ec-5563-4985-92bf-e6406cc7009e"
      },
      "source": [
        "df_6_features_3_1 = df_6_3_1.pivot_table(index='User-ID', columns='ISBN', values='Book-Rating',fill_value=0).T\n",
        "df_6_features_3_2 = df_6_3_2.pivot_table(index='User-ID', columns='ISBN', values='Book-Rating',fill_value=0).T\n",
        "df_6_features_3_3 = df_6_3_3.pivot_table(index='User-ID', columns='ISBN', values='Book-Rating',fill_value=0).T\n",
        "df_6_features_3_4 = df_6_3_4.pivot_table(index='User-ID', columns='ISBN', values='Book-Rating',fill_value=0).T\n",
        "df_6_features_3_5 = df_6_3_5.pivot_table(index='User-ID', columns='ISBN', values='Book-Rating',fill_value=0).T\n",
        "df_6_features_3_6 = df_6_3_6.pivot_table(index='User-ID', columns='ISBN', values='Book-Rating',fill_value=0).T\n",
        "df_6_features_3_7 = df_6_3_7.pivot_table(index='User-ID', columns='ISBN', values='Book-Rating',fill_value=0).T\n",
        "df_6_features_3_8 = df_6_3_8.pivot_table(index='User-ID', columns='ISBN', values='Book-Rating',fill_value=0).T\n",
        "df_6_features_3_9 = df_6_3_9.pivot_table(index='User-ID', columns='ISBN', values='Book-Rating',fill_value=0).T\n",
        "df_6_features_3_10 = df_6_3_10.pivot_table(index='User-ID', columns='ISBN', values='Book-Rating',fill_value=0).T\n",
        "df_6_features_3_11 = df_6_3_11.pivot_table(index='User-ID', columns='ISBN', values='Book-Rating',fill_value=0).T\n",
        "df_6_features_3_12 = df_6_3_12.pivot_table(index='User-ID', columns='ISBN', values='Book-Rating',fill_value=0).T\n",
        "df_6_features_3_13 = df_6_3_13.pivot_table(index='User-ID', columns='ISBN', values='Book-Rating',fill_value=0).T\n",
        "df_6_features_3_14 = df_6_3_14.pivot_table(index='User-ID', columns='ISBN', values='Book-Rating',fill_value=0).T\n",
        "df_6_features_3_15 = df_6_3_15.pivot_table(index='User-ID', columns='ISBN', values='Book-Rating',fill_value=0).T\n",
        "item_similarity(df_6_features_3_1, df_6_3_1)\n",
        "item_similarity(df_6_features_3_2, df_6_3_2)\n",
        "item_similarity(df_6_features_3_3, df_6_3_3)\n",
        "item_similarity(df_6_features_3_4, df_6_3_4)\n",
        "item_similarity(df_6_features_3_5, df_6_3_5)\n",
        "item_similarity(df_6_features_3_6, df_6_3_6)\n",
        "item_similarity(df_6_features_3_7, df_6_3_7)\n",
        "item_similarity(df_6_features_3_8, df_6_3_8)\n",
        "item_similarity(df_6_features_3_9, df_6_3_9)\n",
        "item_similarity(df_6_features_3_10, df_6_3_10)\n",
        "item_similarity(df_6_features_3_11, df_6_3_11)\n",
        "item_similarity(df_6_features_3_12, df_6_3_12)\n",
        "item_similarity(df_6_features_3_13, df_6_3_13)\n",
        "item_similarity(df_6_features_3_14, df_6_3_14)\n",
        "item_similarity(df_6_features_3_15, df_6_3_15)"
      ],
      "execution_count": null,
      "outputs": [
        {
          "output_type": "stream",
          "text": [
            "df_6_3_1 (Item) RMSE: nan\n",
            "df_6_3_2 (Item) RMSE: nan\n",
            "df_6_3_3 (Item) RMSE: nan\n",
            "df_6_3_4 (Item) RMSE: nan\n",
            "df_6_3_5 (Item) RMSE: nan\n",
            "df_6_3_6 (Item) RMSE: nan\n",
            "df_6_3_7 (Item) RMSE: nan\n",
            "df_6_3_8 (Item) RMSE: nan\n",
            "df_6_3_9 (Item) RMSE: nan\n",
            "df_6_3_10 (Item) RMSE: nan\n",
            "df_6_3_11 (Item) RMSE: nan\n",
            "df_6_3_12 (Item) RMSE: nan\n",
            "df_6_3_13 (Item) RMSE: nan\n",
            "df_6_3_14 (Item) RMSE: nan\n",
            "df_6_3_15 (Item) RMSE: nan\n"
          ],
          "name": "stdout"
        }
      ]
    },
    {
      "cell_type": "code",
      "metadata": {
        "id": "mKOe6UdvZYkP",
        "colab": {
          "base_uri": "https://localhost:8080/"
        },
        "outputId": "cb53ce03-638e-4069-c1dc-585e3e61c967"
      },
      "source": [
        "df_6_features_5_1 = df_6_5_1.pivot_table(index='User-ID', columns='ISBN', values='Book-Rating',fill_value=0).T\n",
        "df_6_features_5_2 = df_6_5_2.pivot_table(index='User-ID', columns='ISBN', values='Book-Rating',fill_value=0).T\n",
        "df_6_features_5_3 = df_6_5_3.pivot_table(index='User-ID', columns='ISBN', values='Book-Rating',fill_value=0).T\n",
        "df_6_features_5_4 = df_6_5_4.pivot_table(index='User-ID', columns='ISBN', values='Book-Rating',fill_value=0).T\n",
        "df_6_features_5_5 = df_6_5_5.pivot_table(index='User-ID', columns='ISBN', values='Book-Rating',fill_value=0).T\n",
        "df_6_features_5_6 = df_6_5_6.pivot_table(index='User-ID', columns='ISBN', values='Book-Rating',fill_value=0).T\n",
        "df_6_features_5_7 = df_6_5_7.pivot_table(index='User-ID', columns='ISBN', values='Book-Rating',fill_value=0).T\n",
        "df_6_features_5_8 = df_6_5_8.pivot_table(index='User-ID', columns='ISBN', values='Book-Rating',fill_value=0).T\n",
        "df_6_features_5_9 = df_6_5_9.pivot_table(index='User-ID', columns='ISBN', values='Book-Rating',fill_value=0).T\n",
        "df_6_features_5_10 = df_6_5_10.pivot_table(index='User-ID', columns='ISBN', values='Book-Rating',fill_value=0).T\n",
        "df_6_features_5_11 = df_6_5_11.pivot_table(index='User-ID', columns='ISBN', values='Book-Rating',fill_value=0).T\n",
        "df_6_features_5_12 = df_6_5_12.pivot_table(index='User-ID', columns='ISBN', values='Book-Rating',fill_value=0).T\n",
        "df_6_features_5_13 = df_6_5_13.pivot_table(index='User-ID', columns='ISBN', values='Book-Rating',fill_value=0).T\n",
        "df_6_features_5_14 = df_6_5_14.pivot_table(index='User-ID', columns='ISBN', values='Book-Rating',fill_value=0).T\n",
        "df_6_features_5_15 = df_6_5_15.pivot_table(index='User-ID', columns='ISBN', values='Book-Rating',fill_value=0).T\n",
        "df_6_features_5_16 = df_6_5_16.pivot_table(index='User-ID', columns='ISBN', values='Book-Rating',fill_value=0).T\n",
        "df_6_features_5_17 = df_6_5_17.pivot_table(index='User-ID', columns='ISBN', values='Book-Rating',fill_value=0).T\n",
        "df_6_features_5_18 = df_6_5_18.pivot_table(index='User-ID', columns='ISBN', values='Book-Rating',fill_value=0).T\n",
        "df_6_features_5_19 = df_6_5_19.pivot_table(index='User-ID', columns='ISBN', values='Book-Rating',fill_value=0).T\n",
        "df_6_features_5_20 = df_6_5_20.pivot_table(index='User-ID', columns='ISBN', values='Book-Rating',fill_value=0).T\n",
        "item_similarity(df_6_features_5_1, df_6_5_1)\n",
        "item_similarity(df_6_features_5_2, df_6_5_2)\n",
        "item_similarity(df_6_features_5_3, df_6_5_3)\n",
        "item_similarity(df_6_features_5_4, df_6_5_4)\n",
        "item_similarity(df_6_features_5_5, df_6_5_5)\n",
        "item_similarity(df_6_features_5_6, df_6_5_6)"
      ],
      "execution_count": null,
      "outputs": [
        {
          "output_type": "stream",
          "text": [
            "df_6_5_1 (Item) RMSE: 1.1361718144629633\n",
            "df_6_5_2 (Item) RMSE: 1.1608390966964266\n",
            "df_6_5_3 (Item) RMSE: 1.1128200469956286\n",
            "df_6_5_4 (Item) RMSE: 0.9156631000185861\n",
            "df_6_5_5 (Item) RMSE: 1.0495781833995825\n",
            "df_6_5_6 (Item) RMSE: 0.9865853246243731\n"
          ],
          "name": "stdout"
        }
      ]
    },
    {
      "cell_type": "code",
      "metadata": {
        "id": "DGYrY1MtZdif",
        "colab": {
          "base_uri": "https://localhost:8080/"
        },
        "outputId": "ed0d27df-8b42-441e-eb47-122b354bb9ac"
      },
      "source": [
        "item_similarity(df_6_features_5_7, df_6_5_7)\n",
        "item_similarity(df_6_features_5_8, df_6_5_8)\n",
        "item_similarity(df_6_features_5_9, df_6_5_9)\n",
        "item_similarity(df_6_features_5_10, df_6_5_10)\n",
        "item_similarity(df_6_features_5_11, df_6_5_11)\n",
        "item_similarity(df_6_features_5_12, df_6_5_12)\n",
        "item_similarity(df_6_features_5_13, df_6_5_13)\n",
        "item_similarity(df_6_features_5_14, df_6_5_14)\n",
        "item_similarity(df_6_features_5_15, df_6_5_15)\n",
        "item_similarity(df_6_features_5_16, df_6_5_16)\n",
        "item_similarity(df_6_features_5_17, df_6_5_17)\n",
        "item_similarity(df_6_features_5_18, df_6_5_18)\n",
        "item_similarity(df_6_features_5_19, df_6_5_19)\n",
        "item_similarity(df_6_features_5_20, df_6_5_20)"
      ],
      "execution_count": null,
      "outputs": [
        {
          "output_type": "stream",
          "text": [
            "df_6_5_7 (Item) RMSE: 1.0084824925937488\n",
            "df_6_5_8 (Item) RMSE: 1.2439963238163387\n",
            "df_6_5_9 (Item) RMSE: 1.0430918233348352\n",
            "df_6_5_10 (Item) RMSE: 1.2881065350273582\n",
            "df_6_5_11 (Item) RMSE: 1.324102142895921\n",
            "df_6_5_12 (Item) RMSE: 1.0625155986513524\n",
            "df_6_5_13 (Item) RMSE: 1.0620162791542131\n",
            "df_6_5_14 (Item) RMSE: 1.1752153235042928\n",
            "df_6_5_15 (Item) RMSE: 1.1104534715214307\n",
            "df_6_5_16 (Item) RMSE: 1.1322928548384052\n",
            "df_6_5_17 (Item) RMSE: 1.156240804211554\n",
            "df_6_5_18 (Item) RMSE: 1.1119502032620352\n",
            "df_6_5_19 (Item) RMSE: 0.990552038746308\n",
            "df_6_5_20 (Item) RMSE: 0.6368584784792508\n"
          ],
          "name": "stdout"
        }
      ]
    },
    {
      "cell_type": "markdown",
      "metadata": {
        "id": "8g4DYcjDkEe8"
      },
      "source": [
        "### SVD + Cross Validation"
      ]
    },
    {
      "cell_type": "code",
      "metadata": {
        "colab": {
          "base_uri": "https://localhost:8080/"
        },
        "id": "C9e-oMklVgLk",
        "outputId": "3f06a04a-cd62-42cd-938f-a1a8f4bc405f"
      },
      "source": [
        "reader = Reader(rating_scale=(1, 10))\n",
        "data = Dataset.load_from_df(df_6_0[[\"User-ID\", \"ISBN\", \"Book-Rating\"]], reader)\n",
        "\n",
        "param_grid = {\n",
        "    \"n_epochs\": [1, 5, 10, 15, 20],\n",
        "    \"lr_all\": [0.002, 0.005, 0.009, 0.01, 0.05],\n",
        "    \"reg_all\": [0.2, 0.4, 0.6, 1]\n",
        "}\n",
        "gs = GridSearchCV(SVD, param_grid, measures=[\"rmse\"], cv=3)\n",
        "\n",
        "gs.fit(data)\n",
        "\n",
        "print(gs.best_score[\"rmse\"])"
      ],
      "execution_count": null,
      "outputs": [
        {
          "output_type": "stream",
          "text": [
            "0.22453306365472472\n"
          ],
          "name": "stdout"
        }
      ]
    },
    {
      "cell_type": "code",
      "metadata": {
        "colab": {
          "base_uri": "https://localhost:8080/"
        },
        "id": "0QqnswhgbkYU",
        "outputId": "fe36b706-039d-4649-c2f4-60c5eed887f2"
      },
      "source": [
        "data = Dataset.load_from_df(df_6_1[[\"User-ID\", \"ISBN\", \"Book-Rating\"]], reader)\n",
        "\n",
        "param_grid = {\n",
        "    \"n_epochs\": [1, 5, 10, 15, 20],\n",
        "    \"lr_all\": [0.002, 0.005, 0.009, 0.01, 0.05],\n",
        "    \"reg_all\": [0.2, 0.4, 0.6, 1]\n",
        "}\n",
        "gs = GridSearchCV(SVD, param_grid, measures=[\"rmse\"], cv=3)\n",
        "\n",
        "gs.fit(data)\n",
        "\n",
        "print(gs.best_score[\"rmse\"])"
      ],
      "execution_count": null,
      "outputs": [
        {
          "output_type": "stream",
          "text": [
            "0.22517708359085487\n"
          ],
          "name": "stdout"
        }
      ]
    },
    {
      "cell_type": "code",
      "metadata": {
        "colab": {
          "base_uri": "https://localhost:8080/"
        },
        "id": "y_kLalffbl9c",
        "outputId": "36cdc2b8-8b41-4b84-bc24-8cd2545fbcfd"
      },
      "source": [
        "data = Dataset.load_from_df(df_6_4[[\"User-ID\", \"ISBN\", \"Book-Rating\"]], reader)\n",
        "\n",
        "param_grid = {\n",
        "    \"n_epochs\": [1, 5, 10, 15, 20],\n",
        "    \"lr_all\": [0.002, 0.005, 0.009, 0.01, 0.05],\n",
        "    \"reg_all\": [0.2, 0.4, 0.6, 1]\n",
        "}\n",
        "gs = GridSearchCV(SVD, param_grid, measures=[\"rmse\"], cv=3)\n",
        "\n",
        "gs.fit(data)\n",
        "\n",
        "print(gs.best_score[\"rmse\"])"
      ],
      "execution_count": null,
      "outputs": [
        {
          "output_type": "stream",
          "text": [
            "0.6621372986908082\n"
          ],
          "name": "stdout"
        }
      ]
    },
    {
      "cell_type": "code",
      "metadata": {
        "colab": {
          "base_uri": "https://localhost:8080/"
        },
        "id": "76Nvf0sXRehd",
        "outputId": "60a734c0-4af5-4558-a0c0-5594c2cac7be"
      },
      "source": [
        "reader = Reader(rating_scale=(1, 10))\n",
        "data = Dataset.load_from_df(df_6_2[[\"User-ID\", \"ISBN\", \"Book-Rating\"]], reader)\n",
        "\n",
        "param_grid = {\n",
        "    \"n_epochs\": [1, 5, 10, 15, 20],\n",
        "    \"lr_all\": [0.002, 0.005, 0.009, 0.01, 0.05],\n",
        "    \"reg_all\": [0.2, 0.4, 0.6, 1]\n",
        "}\n",
        "gs = GridSearchCV(SVD, param_grid, measures=[\"rmse\"], cv=3)\n",
        "\n",
        "gs.fit(data)\n",
        "\n",
        "print(gs.best_score[\"rmse\"])"
      ],
      "execution_count": null,
      "outputs": [
        {
          "output_type": "stream",
          "text": [
            "0.582062940212878\n"
          ],
          "name": "stdout"
        }
      ]
    },
    {
      "cell_type": "code",
      "metadata": {
        "colab": {
          "base_uri": "https://localhost:8080/"
        },
        "id": "M1KiyaPir8iD",
        "outputId": "32cbe242-cbcd-4ec4-81fe-60f04ea02712"
      },
      "source": [
        "reader = Reader(rating_scale=(1, 10))\n",
        "data = Dataset.load_from_df(df_6_3[[\"User-ID\", \"ISBN\", \"Book-Rating\"]], reader)\n",
        "\n",
        "param_grid = {\n",
        "    \"n_epochs\": [1, 5, 10, 15, 20],\n",
        "    \"lr_all\": [0.002, 0.005, 0.009, 0.01, 0.05],\n",
        "    \"reg_all\": [0.2, 0.4, 0.6, 1]\n",
        "}\n",
        "gs = GridSearchCV(SVD, param_grid, measures=[\"rmse\"], cv=3)\n",
        "\n",
        "gs.fit(data)\n",
        "\n",
        "print(gs.best_score[\"rmse\"])"
      ],
      "execution_count": null,
      "outputs": [
        {
          "output_type": "stream",
          "text": [
            "1.0\n"
          ],
          "name": "stdout"
        }
      ]
    },
    {
      "cell_type": "code",
      "metadata": {
        "colab": {
          "base_uri": "https://localhost:8080/"
        },
        "id": "y5sgIBDi3O6B",
        "outputId": "41cdc82e-7704-4030-96c8-0da4cd9dab2a"
      },
      "source": [
        "reader = Reader(rating_scale=(1, 10))\n",
        "data = Dataset.load_from_df(df_6_5[[\"User-ID\", \"ISBN\", \"Book-Rating\"]], reader)\n",
        "\n",
        "param_grid = {\n",
        "    \"n_epochs\": [1, 5, 10, 15, 20],\n",
        "    \"lr_all\": [0.002, 0.005, 0.009, 0.01, 0.05],\n",
        "    \"reg_all\": [0.2, 0.4, 0.6, 1]\n",
        "}\n",
        "gs = GridSearchCV(SVD, param_grid, measures=[\"rmse\"], cv=3)\n",
        "\n",
        "gs.fit(data)\n",
        "\n",
        "print(gs.best_score[\"rmse\"])"
      ],
      "execution_count": null,
      "outputs": [
        {
          "output_type": "stream",
          "text": [
            "0.6351974715878365\n"
          ],
          "name": "stdout"
        }
      ]
    },
    {
      "cell_type": "code",
      "metadata": {
        "id": "VL-F1xwu_K1o"
      },
      "source": [
        ""
      ],
      "execution_count": null,
      "outputs": []
    }
  ]
}