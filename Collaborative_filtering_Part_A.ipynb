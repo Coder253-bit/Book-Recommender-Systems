{
  "nbformat": 4,
  "nbformat_minor": 0,
  "metadata": {
    "colab": {
      "name": "Collaborative filtering Part A.ipynb",
      "provenance": [],
      "collapsed_sections": [],
      "machine_shape": "hm"
    },
    "kernelspec": {
      "name": "python3",
      "display_name": "Python 3"
    },
    "language_info": {
      "name": "python"
    },
    "accelerator": "TPU"
  },
  "cells": [
    {
      "cell_type": "code",
      "metadata": {
        "colab": {
          "base_uri": "https://localhost:8080/"
        },
        "id": "WMIEhCZ_w6CV",
        "outputId": "884b8054-18a6-49e5-ccab-e0770933948f"
      },
      "source": [
        "# Importing relevant libraries\n",
        "import numpy as np\n",
        "import pandas as pd\n",
        "import matplotlib.pyplot as plt\n",
        "import warnings\n",
        "warnings.filterwarnings(\"ignore\")\n",
        "import sklearn\n",
        "from sklearn.preprocessing import StandardScaler\n",
        "from sklearn.preprocessing import LabelEncoder\n",
        "import seaborn as sns\n",
        "from google.colab import drive\n",
        "!pip install scikit-surprise\n",
        "from surprise.model_selection import GridSearchCV\n",
        "from surprise import SVD\n",
        "from collections import defaultdict\n",
        "from surprise import Dataset\n",
        "from surprise import Reader\n",
        "drive.mount('/content/drive')"
      ],
      "execution_count": null,
      "outputs": [
        {
          "output_type": "stream",
          "text": [
            "Collecting scikit-surprise\n",
            "  Downloading scikit-surprise-1.1.1.tar.gz (11.8 MB)\n",
            "\u001b[K     |████████████████████████████████| 11.8 MB 4.8 MB/s \n",
            "\u001b[?25hRequirement already satisfied: joblib>=0.11 in /usr/local/lib/python3.7/dist-packages (from scikit-surprise) (1.0.1)\n",
            "Requirement already satisfied: numpy>=1.11.2 in /usr/local/lib/python3.7/dist-packages (from scikit-surprise) (1.19.5)\n",
            "Requirement already satisfied: scipy>=1.0.0 in /usr/local/lib/python3.7/dist-packages (from scikit-surprise) (1.4.1)\n",
            "Requirement already satisfied: six>=1.10.0 in /usr/local/lib/python3.7/dist-packages (from scikit-surprise) (1.15.0)\n",
            "Building wheels for collected packages: scikit-surprise\n",
            "Installing collected packages: scikit-surprise\n",
            "Successfully installed scikit-surprise-1.1.1\n"
          ],
          "name": "stdout"
        }
      ]
    },
    {
      "cell_type": "code",
      "metadata": {
        "colab": {
          "base_uri": "https://localhost:8080/"
        },
        "id": "iQdEUh9JxLJJ",
        "outputId": "a53c65d6-2cca-4d47-8d6a-8ef3864cbbac"
      },
      "source": [
        "%cd drive/MyDrive/Colab Notebooks/Masters Python Workbooks\n",
        "\n",
        "# Reading necessary files\n",
        "books = pd.read_csv(\"Books.csv\")\n",
        "ratings = pd.read_csv(\"Ratings.csv\")\n",
        "users = pd.read_csv(\"Users.csv\")\n",
        "books[\"Book-Author\"].fillna(\"Edinburgh Financial Publishing\",inplace=True)\n",
        "# We can replace the publisher name in these cases\n",
        "\n",
        "# The publisher of 'Tyrant Moon' as per Amazon and FantasticFiction.com is 'Mundania Press LLC'\n",
        "books['Publisher'].fillna(\"Mundania Press LLC\", inplace=True)\n",
        "\n",
        "# The publisher of 'Finders Keepers' as per GoodReads.com and Amazon is 'Bantam'\n",
        "books['Publisher'].fillna(\"Bantam\", inplace=True)\n",
        "\n",
        "# Replacing the 0 aged users with nans so that they can be replaced in the next step\n",
        "users.Age.replace(0,np.nan,inplace=True)\n",
        "\n",
        "# Linear Interpolation of age in the dataset\n",
        "users['Age'].interpolate(method = 'linear', limit_direction = 'forward',inplace=True)\n",
        "\n",
        "# Dropping the rows with age > 100\n",
        "users = users[users.Age <= 100]\n",
        "\n",
        "book_rating = pd.merge(books,ratings,on='ISBN',how='outer')\n",
        "book_rating = pd.merge(book_rating, users, on='User-ID', how='outer')\n",
        "book_rating.drop(['Image-URL-S','Image-URL-M','Image-URL-L'],axis=1,inplace=True)\n",
        "temp = book_rating[['ISBN','User-ID','Book-Rating']]\n",
        "counts_user = temp.groupby('User-ID').agg(['count'])\n",
        "counts_user.columns = ['ISBN_ct','rating_users_ct']\n",
        "counts_book = temp.groupby('ISBN').agg(['count'])\n",
        "counts_book.columns = ['ISBN_ct','rating_books_ct']\n",
        "counts_user.drop(['ISBN_ct'], inplace=True, axis=1)\n",
        "counts_book.drop(['ISBN_ct'], inplace=True, axis=1)\n",
        "book_rating = pd.merge(book_rating, counts_book, on='ISBN',how='left')\n",
        "book_rating = pd.merge(book_rating, counts_user, on='User-ID',how='left')\n",
        "\n",
        "book_rating['City'] = book_rating['Location'].str.split(\",\",expand=True)[0]\n",
        "book_rating['State'] = book_rating['Location'].str.split(\",\",expand=True)[1]\n",
        "book_rating['Country'] = book_rating['Location'].str.split(\",\",expand=True)[2]\n",
        "book_rating.drop('Location',axis=1,inplace=True)\n",
        "df = book_rating.copy()\n",
        "\n",
        "index_year = df[(df['Year-Of-Publication'] == 'DK Publishing Inc') | (df['Year-Of-Publication'] == 'Gallimard')].index\n",
        "df.drop(index_year,inplace=True)\n",
        "df = df.dropna(subset=['ISBN'])\n",
        "df = df.dropna(subset=['Book-Title'])\n",
        "\n",
        "# Dropping null values in User-ID as there could be no results if the user ID is not present\n",
        "df = df.dropna(subset=['User-ID'])\n",
        "\n",
        "# Deleting missing rows present in location as those are only 0.3% of the dataset\n",
        "df.dropna(inplace=True)\n",
        "# df.info()\n",
        "# pd.isnull(df).sum()\n",
        "df['Year-Of-Publication'] = df['Year-Of-Publication'].astype(int)\n",
        "\n",
        "# One of the city names is '&#304;stanbul' which will be replaced with 'Istanbul'\n",
        "df['City'].replace('&#304;stanbul','Istanbul',inplace=True)\n",
        "df[df['Book-Title'] == 'Wild Animus']['ISBN'].value_counts()\n",
        "most_popular_books = df[(df['rating_books_ct'] >= 568) & (df['rating_books_ct'] <= 2502.0)]\n",
        "most_popular_books = most_popular_books[['ISBN','Book-Title','Book-Author','Publisher','rating_books_ct']]\n",
        "most_popular_books = most_popular_books.drop_duplicates()\n",
        "most_popular_books.shape\n",
        "books = list(most_popular_books['Book-Title'].values)\n",
        "temp = df.copy()\n",
        "df = temp[~temp['Book-Title'].isin(books)]\n",
        "\n",
        "# df is the dataset to use for Part A"
      ],
      "execution_count": null,
      "outputs": [
        {
          "output_type": "stream",
          "text": [
            "/content/drive/MyDrive/Colab Notebooks/Masters Python Workbooks\n"
          ],
          "name": "stdout"
        },
        {
          "output_type": "execute_result",
          "data": {
            "text/plain": [
              "0971880107    2498\n",
              "Name: ISBN, dtype: int64"
            ]
          },
          "metadata": {
            "tags": []
          },
          "execution_count": 2
        }
      ]
    },
    {
      "cell_type": "markdown",
      "metadata": {
        "id": "cb9Zkc2wyNos"
      },
      "source": [
        "# Collaborative filtering\n",
        "## PART A: User Similarity"
      ]
    },
    {
      "cell_type": "code",
      "metadata": {
        "id": "GDgbk36fyLm-",
        "colab": {
          "base_uri": "https://localhost:8080/"
        },
        "outputId": "31ee0de5-c857-436b-8d06-58f8ca6ae0e5"
      },
      "source": [
        "# df['Book-Rating'] = df['Book-Rating'].apply(lambda x: 0 if x>=1 else 1)\n",
        "\n",
        "df_1 = np.array_split(df,50)[0]\n",
        "df_2 = np.array_split(df,50)[1]\n",
        "df_3 = np.array_split(df,50)[2]\n",
        "df_4 = np.array_split(df,50)[3]\n",
        "df_5 = np.array_split(df,50)[4]\n",
        "df_6 = np.array_split(df,50)[5]\n",
        "df_7 = np.array_split(df,50)[6]\n",
        "df_8 = np.array_split(df,50)[7]\n",
        "df_9 = np.array_split(df,50)[8]\n",
        "df_10 = np.array_split(df,50)[9]\n",
        "df_11 = np.array_split(df,50)[10]\n",
        "df_12 = np.array_split(df,50)[11]\n",
        "df_13 = np.array_split(df,50)[12]\n",
        "df_14 = np.array_split(df,50)[13]\n",
        "df_15 = np.array_split(df,50)[14]\n",
        "df_16 = np.array_split(df,50)[15]\n",
        "df_17 = np.array_split(df,50)[16]\n",
        "df_18 = np.array_split(df,50)[17]\n",
        "df_19 = np.array_split(df,50)[18]\n",
        "df_20 = np.array_split(df,50)[19]\n",
        "df_21 = np.array_split(df,50)[20]\n",
        "df_22 = np.array_split(df,50)[21]\n",
        "df_23 = np.array_split(df,50)[22]\n",
        "df_24 = np.array_split(df,50)[23]\n",
        "df_25 = np.array_split(df,50)[24]\n",
        "df_26 = np.array_split(df,50)[25]\n",
        "df_27 = np.array_split(df,50)[26]\n",
        "df_28 = np.array_split(df,50)[27]\n",
        "df_29 = np.array_split(df,50)[28]\n",
        "df_30 = np.array_split(df,50)[29]\n",
        "df_31 = np.array_split(df,50)[30]\n",
        "df_32 = np.array_split(df,50)[31]\n",
        "df_33 = np.array_split(df,50)[32]\n",
        "df_34 = np.array_split(df,50)[33]\n",
        "df_35 = np.array_split(df,50)[34]\n",
        "df_36 = np.array_split(df,50)[35]\n",
        "df_37 = np.array_split(df,50)[36]\n",
        "df_38 = np.array_split(df,50)[37]\n",
        "df_39 = np.array_split(df,50)[38]\n",
        "df_40 = np.array_split(df,50)[39]\n",
        "df_41 = np.array_split(df,50)[40]\n",
        "df_42 = np.array_split(df,50)[41]\n",
        "df_43 = np.array_split(df,50)[42]\n",
        "df_44 = np.array_split(df,50)[43]\n",
        "df_45 = np.array_split(df,50)[44]\n",
        "df_46 = np.array_split(df,50)[45]\n",
        "df_47 = np.array_split(df,50)[46]\n",
        "df_48 = np.array_split(df,50)[47]\n",
        "df_49 = np.array_split(df,50)[48]\n",
        "df_50 = np.array_split(df,50)[49]\n",
        "l = [df_1, df_2,df_3, df_4, df_5, df_6, df_7, df_8, df_9, df_10, df_11, df_12, df_13, df_14, df_15, df_16, df_17, df_18, df_19, df_20, df_21, df_22, df_23, df_24, df_25, df_26, df_27,\n",
        "     df_28, df_29, df_30, df_31, df_32, df_33, df_34, df_35, df_36, df_37, df_38, df_39, df_40, df_41, df_42, df_43, df_44, df_45, df_46, df_47, df_48, df_49, df_50]\n",
        "for i in l:\n",
        "  i.drop_duplicates()\n",
        "  i['Book-Rating'] = i['Book-Rating'].apply(lambda x: 0 if x>=1 else 1)\n",
        "  print(i.shape)     "
      ],
      "execution_count": null,
      "outputs": [
        {
          "output_type": "stream",
          "text": [
            "(20564, 13)\n",
            "(20564, 13)\n",
            "(20564, 13)\n",
            "(20564, 13)\n",
            "(20564, 13)\n",
            "(20564, 13)\n",
            "(20564, 13)\n",
            "(20564, 13)\n",
            "(20564, 13)\n",
            "(20563, 13)\n",
            "(20563, 13)\n",
            "(20563, 13)\n",
            "(20563, 13)\n",
            "(20563, 13)\n",
            "(20563, 13)\n",
            "(20563, 13)\n",
            "(20563, 13)\n",
            "(20563, 13)\n",
            "(20563, 13)\n",
            "(20563, 13)\n",
            "(20563, 13)\n",
            "(20563, 13)\n",
            "(20563, 13)\n",
            "(20563, 13)\n",
            "(20563, 13)\n",
            "(20563, 13)\n",
            "(20563, 13)\n",
            "(20563, 13)\n",
            "(20563, 13)\n",
            "(20563, 13)\n",
            "(20563, 13)\n",
            "(20563, 13)\n",
            "(20563, 13)\n",
            "(20563, 13)\n",
            "(20563, 13)\n",
            "(20563, 13)\n",
            "(20563, 13)\n",
            "(20563, 13)\n",
            "(20563, 13)\n",
            "(20563, 13)\n",
            "(20563, 13)\n",
            "(20563, 13)\n",
            "(20563, 13)\n",
            "(20563, 13)\n",
            "(20563, 13)\n",
            "(20563, 13)\n",
            "(20563, 13)\n",
            "(20563, 13)\n",
            "(20563, 13)\n",
            "(20563, 13)\n"
          ],
          "name": "stdout"
        }
      ]
    },
    {
      "cell_type": "markdown",
      "metadata": {
        "id": "4AZ-kdyCEhYH"
      },
      "source": [
        "### Function to do this user similarity automatically"
      ]
    },
    {
      "cell_type": "code",
      "metadata": {
        "id": "fDGkNQDjNri2"
      },
      "source": [
        "from sklearn.metrics.pairwise import pairwise_distances\n",
        "from sklearn.preprocessing import MinMaxScaler\n",
        "from numpy import *\n",
        "\n",
        "def get_df_name(df):\n",
        "    name =[x for x in globals() if globals()[x] is df][0]\n",
        "    return name\n",
        "\n",
        "def user_similarity(df_features, original_df):\n",
        "  mean = np.nanmean(df_features, axis=1)\n",
        "  df_subtracted = (df_features.T-mean).T\n",
        "# User Similarity Matrix\n",
        "  user_correlation = 1 - pairwise_distances(df_subtracted.fillna(0), metric='cosine')\n",
        "  user_correlation[np.isnan(user_correlation)] = 0\n",
        "  user_correlation[user_correlation<0]=0\n",
        "  user_predicted_ratings = np.dot(user_correlation, df_features.fillna(0))\n",
        "  user_final_rating = np.multiply(user_predicted_ratings,df_features)\n",
        "\n",
        "  X  = user_final_rating.copy() \n",
        "  X = X[X>0]\n",
        "  scaler = MinMaxScaler(feature_range=(1, 5))\n",
        "  scaler.fit(X)\n",
        "  y = (scaler.transform(X))\n",
        "  df_ = original_df.pivot_table(index='User-ID',columns='ISBN',values='Book-Rating')\n",
        "  # Finding total non-NaN value\n",
        "  total_non_nan = np.count_nonzero(~np.isnan(y))\n",
        "  rmse = (sum(sum((df_ - y )**2))/total_non_nan)**0.5\n",
        "  print(\"{} RMSE: {}\".format(get_df_name(original_df), rmse))"
      ],
      "execution_count": null,
      "outputs": []
    },
    {
      "cell_type": "code",
      "metadata": {
        "id": "n61A9fZgIKbm"
      },
      "source": [
        "df_features_1 = df_1.pivot_table(index='User-ID', columns='ISBN', values='Book-Rating',fill_value=0)\n",
        "df_features_2 = df_2.pivot_table(index='User-ID', columns='ISBN', values='Book-Rating',fill_value=0)\n",
        "df_features_3 = df_3.pivot_table(index='User-ID', columns='ISBN', values='Book-Rating',fill_value=0)\n",
        "df_features_4 = df_4.pivot_table(index='User-ID', columns='ISBN', values='Book-Rating',fill_value=0)\n",
        "df_features_5 = df_5.pivot_table(index='User-ID', columns='ISBN', values='Book-Rating',fill_value=0)\n",
        "df_features_6 = df_6.pivot_table(index='User-ID', columns='ISBN', values='Book-Rating',fill_value=0)\n",
        "df_features_7 = df_7.pivot_table(index='User-ID', columns='ISBN', values='Book-Rating',fill_value=0)\n",
        "df_features_8 = df_8.pivot_table(index='User-ID', columns='ISBN', values='Book-Rating',fill_value=0)\n",
        "df_features_9 = df_9.pivot_table(index='User-ID', columns='ISBN', values='Book-Rating',fill_value=0)\n",
        "df_features_10 = df_10.pivot_table(index='User-ID', columns='ISBN', values='Book-Rating',fill_value=0)\n",
        "df_features_11 = df_11.pivot_table(index='User-ID', columns='ISBN', values='Book-Rating',fill_value=0)\n",
        "df_features_12 = df_12.pivot_table(index='User-ID', columns='ISBN', values='Book-Rating',fill_value=0)\n",
        "df_features_13 = df_13.pivot_table(index='User-ID', columns='ISBN', values='Book-Rating',fill_value=0)\n",
        "df_features_14 = df_14.pivot_table(index='User-ID', columns='ISBN', values='Book-Rating',fill_value=0)\n",
        "df_features_15 = df_15.pivot_table(index='User-ID', columns='ISBN', values='Book-Rating',fill_value=0)\n",
        "df_features_16 = df_16.pivot_table(index='User-ID', columns='ISBN', values='Book-Rating',fill_value=0)\n",
        "df_features_17 = df_17.pivot_table(index='User-ID', columns='ISBN', values='Book-Rating',fill_value=0)\n",
        "df_features_18 = df_18.pivot_table(index='User-ID', columns='ISBN', values='Book-Rating',fill_value=0)\n",
        "df_features_19 = df_19.pivot_table(index='User-ID', columns='ISBN', values='Book-Rating',fill_value=0)\n",
        "df_features_20 = df_20.pivot_table(index='User-ID', columns='ISBN', values='Book-Rating',fill_value=0)\n",
        "df_features_21 = df_21.pivot_table(index='User-ID', columns='ISBN', values='Book-Rating',fill_value=0)\n",
        "df_features_22 = df_22.pivot_table(index='User-ID', columns='ISBN', values='Book-Rating',fill_value=0)\n",
        "df_features_23 = df_23.pivot_table(index='User-ID', columns='ISBN', values='Book-Rating',fill_value=0)\n",
        "df_features_24 = df_24.pivot_table(index='User-ID', columns='ISBN', values='Book-Rating',fill_value=0)\n",
        "df_features_25 = df_25.pivot_table(index='User-ID', columns='ISBN', values='Book-Rating',fill_value=0)\n",
        "df_features_26 = df_26.pivot_table(index='User-ID', columns='ISBN', values='Book-Rating',fill_value=0)\n",
        "df_features_27 = df_27.pivot_table(index='User-ID', columns='ISBN', values='Book-Rating',fill_value=0)\n",
        "df_features_28 = df_28.pivot_table(index='User-ID', columns='ISBN', values='Book-Rating',fill_value=0)\n",
        "df_features_29 = df_29.pivot_table(index='User-ID', columns='ISBN', values='Book-Rating',fill_value=0)\n",
        "df_features_30 = df_30.pivot_table(index='User-ID', columns='ISBN', values='Book-Rating',fill_value=0)"
      ],
      "execution_count": null,
      "outputs": []
    },
    {
      "cell_type": "code",
      "metadata": {
        "id": "ObM6pezUKjha"
      },
      "source": [
        "df_features_31 = df_31.pivot_table(index='User-ID', columns='ISBN', values='Book-Rating',fill_value=0)\n",
        "df_features_32 = df_32.pivot_table(index='User-ID', columns='ISBN', values='Book-Rating',fill_value=0)\n",
        "df_features_33 = df_33.pivot_table(index='User-ID', columns='ISBN', values='Book-Rating',fill_value=0)\n",
        "df_features_34 = df_34.pivot_table(index='User-ID', columns='ISBN', values='Book-Rating',fill_value=0)\n",
        "df_features_35 = df_35.pivot_table(index='User-ID', columns='ISBN', values='Book-Rating',fill_value=0)\n",
        "df_features_36 = df_36.pivot_table(index='User-ID', columns='ISBN', values='Book-Rating',fill_value=0)\n",
        "df_features_37 = df_37.pivot_table(index='User-ID', columns='ISBN', values='Book-Rating',fill_value=0)\n",
        "df_features_38 = df_38.pivot_table(index='User-ID', columns='ISBN', values='Book-Rating',fill_value=0)\n",
        "df_features_39 = df_39.pivot_table(index='User-ID', columns='ISBN', values='Book-Rating',fill_value=0)\n",
        "df_features_40 = df_40.pivot_table(index='User-ID', columns='ISBN', values='Book-Rating',fill_value=0)\n",
        "df_features_41 = df_41.pivot_table(index='User-ID', columns='ISBN', values='Book-Rating',fill_value=0)\n",
        "df_features_42 = df_42.pivot_table(index='User-ID', columns='ISBN', values='Book-Rating',fill_value=0)\n",
        "df_features_43 = df_43.pivot_table(index='User-ID', columns='ISBN', values='Book-Rating',fill_value=0)\n",
        "df_features_44 = df_44.pivot_table(index='User-ID', columns='ISBN', values='Book-Rating',fill_value=0)\n",
        "df_features_45 = df_45.pivot_table(index='User-ID', columns='ISBN', values='Book-Rating',fill_value=0)\n",
        "df_features_46 = df_46.pivot_table(index='User-ID', columns='ISBN', values='Book-Rating',fill_value=0)\n",
        "df_features_47 = df_47.pivot_table(index='User-ID', columns='ISBN', values='Book-Rating',fill_value=0)\n",
        "df_features_48 = df_48.pivot_table(index='User-ID', columns='ISBN', values='Book-Rating',fill_value=0)\n",
        "df_features_49 = df_49.pivot_table(index='User-ID', columns='ISBN', values='Book-Rating',fill_value=0)\n",
        "df_features_50 = df_50.pivot_table(index='User-ID', columns='ISBN', values='Book-Rating',fill_value=0)"
      ],
      "execution_count": null,
      "outputs": []
    },
    {
      "cell_type": "code",
      "metadata": {
        "colab": {
          "base_uri": "https://localhost:8080/"
        },
        "id": "2aigDgK3KjQ6",
        "outputId": "c8a79e4d-f82a-4b8d-cc72-6ad026dd21ec"
      },
      "source": [
        "user_similarity(df_features_1, df_1)\n",
        "user_similarity(df_features_2, df_2)\n",
        "user_similarity(df_features_3, df_3)\n",
        "user_similarity(df_features_4, df_4)\n",
        "user_similarity(df_features_5, df_5)\n",
        "user_similarity(df_features_6, df_6)\n",
        "user_similarity(df_features_7, df_7)\n",
        "user_similarity(df_features_8, df_8)\n",
        "user_similarity(df_features_9, df_9)\n",
        "user_similarity(df_features_10, df_10)"
      ],
      "execution_count": null,
      "outputs": [
        {
          "output_type": "stream",
          "text": [
            "df_1 RMSE: 1.0867928844751722\n",
            "df_2 RMSE: 1.338711061261666\n",
            "df_3 RMSE: 1.3942479993082806\n",
            "df_4 RMSE: 1.443681043816436\n",
            "df_5 RMSE: 1.4535007814712408\n",
            "df_6 RMSE: 1.2498242468163274\n",
            "df_7 RMSE: 1.348009403045302\n",
            "df_8 RMSE: 1.2175337071870456\n",
            "df_9 RMSE: 1.219016808231058\n",
            "df_10 RMSE: 1.2353362645954076\n"
          ],
          "name": "stdout"
        }
      ]
    },
    {
      "cell_type": "code",
      "metadata": {
        "colab": {
          "base_uri": "https://localhost:8080/"
        },
        "id": "dhDGtFDDL0HJ",
        "outputId": "a5f22f8c-e163-4a5a-bc18-cdb7a6456f9c"
      },
      "source": [
        "user_similarity(df_features_11, df_11)\n",
        "user_similarity(df_features_12, df_12)\n",
        "user_similarity(df_features_13, df_13)\n",
        "user_similarity(df_features_14, df_14)\n",
        "user_similarity(df_features_15, df_15)\n",
        "user_similarity(df_features_16, df_16)\n",
        "user_similarity(df_features_17, df_17)\n",
        "user_similarity(df_features_18, df_18)\n",
        "user_similarity(df_features_19, df_19)\n",
        "user_similarity(df_features_20, df_20)"
      ],
      "execution_count": null,
      "outputs": [
        {
          "output_type": "stream",
          "text": [
            "df_11 RMSE: 1.3038826065187072\n",
            "df_12 RMSE: 1.3823270237475473\n",
            "df_13 RMSE: 1.2408821701789545\n",
            "df_14 RMSE: 1.320816675706597\n",
            "df_15 RMSE: 1.148376748686313\n",
            "df_16 RMSE: 1.2963739024108818\n",
            "df_17 RMSE: 1.3151657404072974\n",
            "df_18 RMSE: 1.273618273960394\n",
            "df_19 RMSE: 1.3686657251652372\n",
            "df_20 RMSE: 1.2423288927668952\n"
          ],
          "name": "stdout"
        }
      ]
    },
    {
      "cell_type": "code",
      "metadata": {
        "colab": {
          "base_uri": "https://localhost:8080/"
        },
        "id": "CR0uXRtqMF1i",
        "outputId": "d92fb2b4-4370-4e9e-cff9-2f0b6781a1f3"
      },
      "source": [
        "user_similarity(df_features_21, df_21)\n",
        "user_similarity(df_features_22, df_22)\n",
        "user_similarity(df_features_23, df_23)\n",
        "user_similarity(df_features_24, df_24)\n",
        "user_similarity(df_features_25, df_25)\n",
        "user_similarity(df_features_26, df_26)\n",
        "user_similarity(df_features_27, df_27)\n",
        "user_similarity(df_features_28, df_28)\n",
        "user_similarity(df_features_29, df_29)\n",
        "user_similarity(df_features_30, df_30)"
      ],
      "execution_count": null,
      "outputs": [
        {
          "output_type": "stream",
          "text": [
            "df_21 RMSE: 1.3273711924783087\n",
            "df_22 RMSE: 1.2650185064439712\n",
            "df_23 RMSE: 1.4234479137177127\n",
            "df_24 RMSE: 1.471626683805672\n",
            "df_25 RMSE: 1.3768921139334296\n",
            "df_26 RMSE: 1.3904673047192524\n",
            "df_27 RMSE: 1.2080065611133137\n",
            "df_28 RMSE: 1.2650205287671519\n",
            "df_29 RMSE: 1.2689852437264435\n",
            "df_30 RMSE: 1.288442635628795\n"
          ],
          "name": "stdout"
        }
      ]
    },
    {
      "cell_type": "code",
      "metadata": {
        "colab": {
          "base_uri": "https://localhost:8080/"
        },
        "id": "v3mttEEQMa8o",
        "outputId": "9564bce7-a5fa-4dc1-ef93-593cee91cbfb"
      },
      "source": [
        "user_similarity(df_features_31, df_31)\n",
        "user_similarity(df_features_32, df_32)\n",
        "user_similarity(df_features_33, df_33)\n",
        "user_similarity(df_features_34, df_34)\n",
        "user_similarity(df_features_35, df_35)\n",
        "user_similarity(df_features_36, df_36)\n",
        "user_similarity(df_features_37, df_37)\n",
        "user_similarity(df_features_38, df_38)\n",
        "user_similarity(df_features_39, df_39)\n",
        "user_similarity(df_features_40, df_40)"
      ],
      "execution_count": null,
      "outputs": [
        {
          "output_type": "stream",
          "text": [
            "df_31 RMSE: 1.4592453514745114\n",
            "df_32 RMSE: 1.3738045749371355\n",
            "df_33 RMSE: 1.3955847472745437\n",
            "df_34 RMSE: 1.3718707397868652\n",
            "df_35 RMSE: 1.2426070413509545\n",
            "df_36 RMSE: 1.3251009421414397\n",
            "df_37 RMSE: 1.2947687585094085\n",
            "df_38 RMSE: 1.3875369331766174\n",
            "df_39 RMSE: 1.2743943393667985\n",
            "df_40 RMSE: 1.2998935079776543\n"
          ],
          "name": "stdout"
        }
      ]
    },
    {
      "cell_type": "code",
      "metadata": {
        "colab": {
          "base_uri": "https://localhost:8080/"
        },
        "id": "VuIWL71tMgY2",
        "outputId": "ff8514c3-48ed-44cb-bc55-5d97d0b6fd02"
      },
      "source": [
        "user_similarity(df_features_41, df_41)\n",
        "user_similarity(df_features_42, df_42)\n",
        "user_similarity(df_features_43, df_43)\n",
        "user_similarity(df_features_44, df_44)\n",
        "user_similarity(df_features_45, df_45)\n",
        "user_similarity(df_features_46, df_46)\n",
        "user_similarity(df_features_47, df_47)\n",
        "user_similarity(df_features_48, df_48)\n",
        "user_similarity(df_features_49, df_49)\n",
        "user_similarity(df_features_50, df_50)"
      ],
      "execution_count": null,
      "outputs": [
        {
          "output_type": "stream",
          "text": [
            "df_41 RMSE: 1.3166593768303179\n",
            "df_42 RMSE: 1.4758284189209125\n",
            "df_43 RMSE: 1.4459288148287504\n",
            "df_44 RMSE: 1.4548764035686688\n",
            "df_45 RMSE: 1.5295322193283072\n",
            "df_46 RMSE: 1.581298451478824\n",
            "df_47 RMSE: 1.510497565097399\n",
            "df_48 RMSE: 1.329265471733706\n",
            "df_49 RMSE: 0.9472196500730717\n",
            "df_50 RMSE: 0.4853498825833991\n"
          ],
          "name": "stdout"
        }
      ]
    },
    {
      "cell_type": "markdown",
      "metadata": {
        "id": "ihINzISEKcoB"
      },
      "source": [
        "### Item Similarity"
      ]
    },
    {
      "cell_type": "code",
      "metadata": {
        "id": "L8NMta59h4J7"
      },
      "source": [
        "def item_similarity(df_features, original_df):\n",
        "  mean = np.nanmean(df_features, axis=1)\n",
        "  df_subtracted = (df_features.T-mean).T\n",
        "# Item Similarity Matrix\n",
        "  item_correlation = 1 - pairwise_distances(df_subtracted.fillna(0), metric='cosine')\n",
        "  item_correlation[np.isnan(item_correlation)] = 0\n",
        "  item_correlation[item_correlation<0]=0\n",
        "  item_predicted_ratings = np.dot((df_features.fillna(0).T),item_correlation)\n",
        "  dummy_df = original_df.pivot_table(index='User-ID', columns='ISBN', values='Book-Rating').fillna(0)\n",
        "  item_final_rating = np.multiply(item_predicted_ratings,dummy_df)\n",
        "  X  = item_final_rating.copy() \n",
        "  X = X[X>0]\n",
        "  scaler = MinMaxScaler(feature_range=(1, 5))\n",
        "  scaler.fit(X)\n",
        "  y = (scaler.transform(X))\n",
        "  df_ = original_df.pivot_table(index='User-ID',columns='ISBN',values='Book-Rating')\n",
        "  # Finding total non-NaN value\n",
        "\n",
        "  total_non_nan = np.count_nonzero(~np.isnan(y))\n",
        "  rmse = (sum(sum((df_ - y )**2))/total_non_nan)**0.5\n",
        "  print(\"{} (Item) RMSE: {}\".format(get_df_name(original_df), rmse))"
      ],
      "execution_count": null,
      "outputs": []
    },
    {
      "cell_type": "code",
      "metadata": {
        "id": "qtSEfHPLNXu2"
      },
      "source": [
        "df_features_1 = df_1.pivot_table(index='User-ID', columns='ISBN', values='Book-Rating',fill_value=0).T\n",
        "df_features_2 = df_2.pivot_table(index='User-ID', columns='ISBN', values='Book-Rating',fill_value=0).T\n",
        "df_features_3 = df_3.pivot_table(index='User-ID', columns='ISBN', values='Book-Rating',fill_value=0).T\n",
        "df_features_4 = df_4.pivot_table(index='User-ID', columns='ISBN', values='Book-Rating',fill_value=0).T\n",
        "df_features_5 = df_5.pivot_table(index='User-ID', columns='ISBN', values='Book-Rating',fill_value=0).T\n",
        "df_features_6 = df_6.pivot_table(index='User-ID', columns='ISBN', values='Book-Rating',fill_value=0).T\n",
        "df_features_7 = df_7.pivot_table(index='User-ID', columns='ISBN', values='Book-Rating',fill_value=0).T\n",
        "df_features_8 = df_8.pivot_table(index='User-ID', columns='ISBN', values='Book-Rating',fill_value=0).T\n",
        "df_features_9 = df_9.pivot_table(index='User-ID', columns='ISBN', values='Book-Rating',fill_value=0).T\n",
        "df_features_10 = df_10.pivot_table(index='User-ID', columns='ISBN', values='Book-Rating',fill_value=0).T\n",
        "df_features_11 = df_11.pivot_table(index='User-ID', columns='ISBN', values='Book-Rating',fill_value=0).T\n",
        "df_features_12 = df_12.pivot_table(index='User-ID', columns='ISBN', values='Book-Rating',fill_value=0).T\n",
        "df_features_13 = df_13.pivot_table(index='User-ID', columns='ISBN', values='Book-Rating',fill_value=0).T\n",
        "df_features_14 = df_14.pivot_table(index='User-ID', columns='ISBN', values='Book-Rating',fill_value=0).T\n",
        "df_features_15 = df_15.pivot_table(index='User-ID', columns='ISBN', values='Book-Rating',fill_value=0).T\n",
        "df_features_16 = df_16.pivot_table(index='User-ID', columns='ISBN', values='Book-Rating',fill_value=0).T\n",
        "df_features_17 = df_17.pivot_table(index='User-ID', columns='ISBN', values='Book-Rating',fill_value=0).T\n",
        "df_features_18 = df_18.pivot_table(index='User-ID', columns='ISBN', values='Book-Rating',fill_value=0).T\n",
        "df_features_19 = df_19.pivot_table(index='User-ID', columns='ISBN', values='Book-Rating',fill_value=0).T\n",
        "df_features_20 = df_20.pivot_table(index='User-ID', columns='ISBN', values='Book-Rating',fill_value=0).T\n",
        "df_features_21 = df_21.pivot_table(index='User-ID', columns='ISBN', values='Book-Rating',fill_value=0).T\n",
        "df_features_22 = df_22.pivot_table(index='User-ID', columns='ISBN', values='Book-Rating',fill_value=0).T\n",
        "df_features_23 = df_23.pivot_table(index='User-ID', columns='ISBN', values='Book-Rating',fill_value=0).T\n",
        "df_features_24 = df_24.pivot_table(index='User-ID', columns='ISBN', values='Book-Rating',fill_value=0).T\n",
        "df_features_25 = df_25.pivot_table(index='User-ID', columns='ISBN', values='Book-Rating',fill_value=0).T\n",
        "df_features_26 = df_26.pivot_table(index='User-ID', columns='ISBN', values='Book-Rating',fill_value=0).T\n",
        "df_features_27 = df_27.pivot_table(index='User-ID', columns='ISBN', values='Book-Rating',fill_value=0).T\n",
        "df_features_28 = df_28.pivot_table(index='User-ID', columns='ISBN', values='Book-Rating',fill_value=0).T\n",
        "df_features_29 = df_29.pivot_table(index='User-ID', columns='ISBN', values='Book-Rating',fill_value=0).T\n",
        "df_features_30 = df_30.pivot_table(index='User-ID', columns='ISBN', values='Book-Rating',fill_value=0).T"
      ],
      "execution_count": null,
      "outputs": []
    },
    {
      "cell_type": "code",
      "metadata": {
        "id": "A6b1j-zMPr6V"
      },
      "source": [
        "df_features_31 = df_31.pivot_table(index='User-ID', columns='ISBN', values='Book-Rating',fill_value=0).T\n",
        "df_features_32 = df_32.pivot_table(index='User-ID', columns='ISBN', values='Book-Rating',fill_value=0).T\n",
        "df_features_33 = df_33.pivot_table(index='User-ID', columns='ISBN', values='Book-Rating',fill_value=0).T\n",
        "df_features_34 = df_34.pivot_table(index='User-ID', columns='ISBN', values='Book-Rating',fill_value=0).T\n",
        "df_features_35 = df_35.pivot_table(index='User-ID', columns='ISBN', values='Book-Rating',fill_value=0).T\n",
        "df_features_36 = df_36.pivot_table(index='User-ID', columns='ISBN', values='Book-Rating',fill_value=0).T\n",
        "df_features_37 = df_37.pivot_table(index='User-ID', columns='ISBN', values='Book-Rating',fill_value=0).T\n",
        "df_features_38 = df_38.pivot_table(index='User-ID', columns='ISBN', values='Book-Rating',fill_value=0).T\n",
        "df_features_39 = df_39.pivot_table(index='User-ID', columns='ISBN', values='Book-Rating',fill_value=0).T\n",
        "df_features_40 = df_40.pivot_table(index='User-ID', columns='ISBN', values='Book-Rating',fill_value=0).T\n",
        "df_features_41 = df_41.pivot_table(index='User-ID', columns='ISBN', values='Book-Rating',fill_value=0).T\n",
        "df_features_42 = df_42.pivot_table(index='User-ID', columns='ISBN', values='Book-Rating',fill_value=0).T\n",
        "df_features_43 = df_43.pivot_table(index='User-ID', columns='ISBN', values='Book-Rating',fill_value=0).T\n",
        "df_features_44 = df_44.pivot_table(index='User-ID', columns='ISBN', values='Book-Rating',fill_value=0).T\n",
        "df_features_45 = df_45.pivot_table(index='User-ID', columns='ISBN', values='Book-Rating',fill_value=0).T\n",
        "df_features_46 = df_46.pivot_table(index='User-ID', columns='ISBN', values='Book-Rating',fill_value=0).T\n",
        "df_features_47 = df_47.pivot_table(index='User-ID', columns='ISBN', values='Book-Rating',fill_value=0).T\n",
        "df_features_48 = df_48.pivot_table(index='User-ID', columns='ISBN', values='Book-Rating',fill_value=0).T\n",
        "df_features_49 = df_49.pivot_table(index='User-ID', columns='ISBN', values='Book-Rating',fill_value=0).T"
      ],
      "execution_count": null,
      "outputs": []
    },
    {
      "cell_type": "code",
      "metadata": {
        "colab": {
          "base_uri": "https://localhost:8080/"
        },
        "id": "wGoHfFkJMAsn",
        "outputId": "6e8a5e2f-c09c-4c84-ab17-daff3bb4a6b0"
      },
      "source": [
        "item_similarity(df_features_1, df_1)\n",
        "item_similarity(df_features_2, df_2)\n",
        "item_similarity(df_features_3, df_3)\n",
        "item_similarity(df_features_4, df_4)\n",
        "item_similarity(df_features_5, df_5)\n",
        "item_similarity(df_features_6, df_6)\n",
        "item_similarity(df_features_7, df_7)\n",
        "item_similarity(df_features_8, df_8)\n",
        "item_similarity(df_features_9, df_9)\n",
        "item_similarity(df_features_10, df_10)\n",
        "item_similarity(df_features_11, df_11)\n",
        "item_similarity(df_features_12, df_12)\n",
        "item_similarity(df_features_13, df_13)\n",
        "item_similarity(df_features_14, df_14)\n",
        "item_similarity(df_features_15, df_15)\n",
        "item_similarity(df_features_16, df_16)\n",
        "item_similarity(df_features_17, df_17)\n",
        "item_similarity(df_features_18, df_18)\n",
        "item_similarity(df_features_19, df_19)\n",
        "item_similarity(df_features_20, df_20)"
      ],
      "execution_count": null,
      "outputs": [
        {
          "output_type": "stream",
          "text": [
            "df_1 (Item) RMSE: 1.0957111269079218\n",
            "df_2 (Item) RMSE: 1.3969816882508723\n",
            "df_3 (Item) RMSE: 1.4050075203222614\n",
            "df_4 (Item) RMSE: 1.450065233793157\n",
            "df_5 (Item) RMSE: 1.4790430160726842\n",
            "df_6 (Item) RMSE: 1.268902460299449\n",
            "df_7 (Item) RMSE: 1.3997121624089883\n",
            "df_8 (Item) RMSE: 1.252398402628738\n",
            "df_9 (Item) RMSE: 1.3263773746017584\n",
            "df_10 (Item) RMSE: 1.2660459479459383\n",
            "df_11 (Item) RMSE: 1.3120752919185945\n",
            "df_12 (Item) RMSE: 1.3960103966766004\n",
            "df_13 (Item) RMSE: 1.2259329777397203\n",
            "df_14 (Item) RMSE: 1.2580007288097088\n",
            "df_15 (Item) RMSE: 1.2697872967594381\n",
            "df_16 (Item) RMSE: 1.3429617966903038\n",
            "df_17 (Item) RMSE: 1.2884650593750877\n",
            "df_18 (Item) RMSE: 1.258389737281222\n",
            "df_19 (Item) RMSE: 1.3567201039637073\n",
            "df_20 (Item) RMSE: 1.2882771150594816\n"
          ],
          "name": "stdout"
        }
      ]
    },
    {
      "cell_type": "code",
      "metadata": {
        "colab": {
          "base_uri": "https://localhost:8080/"
        },
        "id": "etrMARxONa_q",
        "outputId": "dc64303d-8e24-4b84-fb03-feab05eaca31"
      },
      "source": [
        "item_similarity(df_features_21, df_21)\n",
        "item_similarity(df_features_22, df_22)\n",
        "item_similarity(df_features_23, df_23)\n",
        "item_similarity(df_features_24, df_24)\n",
        "item_similarity(df_features_25, df_25)\n",
        "item_similarity(df_features_26, df_26)\n",
        "item_similarity(df_features_27, df_27)\n",
        "item_similarity(df_features_28, df_28)\n",
        "item_similarity(df_features_29, df_29)\n",
        "item_similarity(df_features_30, df_30)\n",
        "item_similarity(df_features_31, df_31)\n",
        "item_similarity(df_features_32, df_32)\n",
        "item_similarity(df_features_33, df_33)\n",
        "item_similarity(df_features_34, df_34)\n",
        "item_similarity(df_features_35, df_35)\n",
        "item_similarity(df_features_36, df_36)\n",
        "item_similarity(df_features_37, df_37)\n",
        "item_similarity(df_features_38, df_38)\n",
        "item_similarity(df_features_39, df_39)\n",
        "item_similarity(df_features_40, df_40)\n",
        "item_similarity(df_features_41, df_41)\n",
        "item_similarity(df_features_42, df_42)\n",
        "item_similarity(df_features_43, df_43)\n",
        "item_similarity(df_features_44, df_44)\n",
        "item_similarity(df_features_45, df_45)\n",
        "item_similarity(df_features_46, df_46)\n",
        "item_similarity(df_features_47, df_47)\n",
        "item_similarity(df_features_48, df_48)\n",
        "item_similarity(df_features_49, df_49)"
      ],
      "execution_count": null,
      "outputs": [
        {
          "output_type": "stream",
          "text": [
            "df_21 (Item) RMSE: 1.3311369703571163\n",
            "df_22 (Item) RMSE: 1.2811383200066955\n",
            "df_23 (Item) RMSE: 1.3880864317876296\n",
            "df_24 (Item) RMSE: 1.4827947617474742\n",
            "df_25 (Item) RMSE: 1.414297009662524\n",
            "df_26 (Item) RMSE: 1.4659104921952175\n",
            "df_27 (Item) RMSE: 1.2715714016091464\n",
            "df_28 (Item) RMSE: 1.337563961479184\n",
            "df_29 (Item) RMSE: 1.3353788616817333\n",
            "df_30 (Item) RMSE: 1.309767147500664\n",
            "df_31 (Item) RMSE: 1.4621208363830476\n",
            "df_32 (Item) RMSE: 1.3349630057691162\n",
            "df_33 (Item) RMSE: 1.4169521360166266\n",
            "df_34 (Item) RMSE: 1.3876019206663504\n",
            "df_35 (Item) RMSE: 1.2150234531142343\n",
            "df_36 (Item) RMSE: 1.3157477763377636\n",
            "df_37 (Item) RMSE: 1.2041822709718948\n",
            "df_38 (Item) RMSE: 1.2993691630562207\n",
            "df_39 (Item) RMSE: 1.1655296716738912\n",
            "df_40 (Item) RMSE: 1.2234475465298071\n",
            "df_41 (Item) RMSE: 1.1726948066457357\n",
            "df_42 (Item) RMSE: 1.215098138572984\n",
            "df_43 (Item) RMSE: 1.2008117172861918\n",
            "df_44 (Item) RMSE: 1.1851294430386135\n",
            "df_45 (Item) RMSE: 1.1885210567514046\n",
            "df_46 (Item) RMSE: 1.2284189739105402\n",
            "df_47 (Item) RMSE: 1.2237629553958724\n",
            "df_48 (Item) RMSE: 1.1246128052650657\n",
            "df_49 (Item) RMSE: 0.8751804007316762\n"
          ],
          "name": "stdout"
        }
      ]
    },
    {
      "cell_type": "code",
      "metadata": {
        "id": "ulQatDdiSPS2",
        "colab": {
          "base_uri": "https://localhost:8080/"
        },
        "outputId": "8613fecc-7385-4c98-ff54-bb4013b528c6"
      },
      "source": [
        "df_features_50 = df_50.pivot_table(index='User-ID', columns='ISBN', values='Book-Rating',fill_value=0).T\n",
        "item_similarity(df_features_50, df_50)"
      ],
      "execution_count": null,
      "outputs": [
        {
          "output_type": "stream",
          "text": [
            "df_50 (Item) RMSE: 0.4961384314247441\n"
          ],
          "name": "stdout"
        }
      ]
    },
    {
      "cell_type": "markdown",
      "metadata": {
        "id": "1iTU9CeVqAQ-"
      },
      "source": [
        "### Function on SVD + cross validation"
      ]
    },
    {
      "cell_type": "code",
      "metadata": {
        "id": "HBrQc3EmVaSW"
      },
      "source": [
        "from surprise.model_selection import GridSearchCV\n",
        "from surprise import SVD\n",
        "from surprise import Dataset\n",
        "from surprise import Reader\n",
        "reader = Reader(rating_scale=(1, 10))\n",
        "def SVD(df):\n",
        "  data = Dataset.load_from_df(df[[\"User-ID\", \"ISBN\", \"Book-Rating\"]], reader)\n",
        "  param_grid = {\n",
        "    \"n_epochs\": [1, 5, 10, 15, 20],\n",
        "    \"lr_all\": [0.002, 0.005, 0.009, 0.01, 0.05],\n",
        "    \"reg_all\": [0.2, 0.4, 0.6, 1]\n",
        "  }\n",
        "  gs = GridSearchCV(SVD, param_grid, measures=[\"rmse\"], cv=3)\n",
        "  gs.fit(data)\n",
        "  print(\"RMSE best score of {}: \".format(get_df_name(df),gs.best_score[\"rmse\"]))\n",
        "  return gs.best_score['rmse']"
      ],
      "execution_count": null,
      "outputs": []
    },
    {
      "cell_type": "code",
      "metadata": {
        "colab": {
          "base_uri": "https://localhost:8080/"
        },
        "id": "2BSBA32Rr2_Z",
        "outputId": "a67a0635-478e-4783-ca49-f63cf3639678"
      },
      "source": [
        "from surprise.model_selection import GridSearchCV\n",
        "from surprise import SVD\n",
        "from surprise import Dataset\n",
        "from surprise import Reader\n",
        "reader = Reader(rating_scale=(1, 10))\n",
        "data = Dataset.load_from_df(df_41[[\"User-ID\", \"ISBN\", \"Book-Rating\"]], reader)\n",
        "from surprise.model_selection import GridSearchCV\n",
        "\n",
        "param_grid = {\n",
        "    \"n_epochs\": [1, 5, 10, 15, 20],\n",
        "    \"lr_all\": [0.002, 0.005, 0.009, 0.01, 0.05],\n",
        "    \"reg_all\": [0.2, 0.4, 0.6, 1]\n",
        "}\n",
        "gs = GridSearchCV(SVD, param_grid, measures=[\"rmse\"], cv=3)\n",
        "\n",
        "gs.fit(data)\n",
        "\n",
        "print(gs.best_score[\"rmse\"])"
      ],
      "execution_count": null,
      "outputs": [
        {
          "output_type": "stream",
          "text": [
            "0.7100313526834312\n"
          ],
          "name": "stdout"
        }
      ]
    },
    {
      "cell_type": "code",
      "metadata": {
        "colab": {
          "base_uri": "https://localhost:8080/"
        },
        "id": "jPYCs0aBrCGp",
        "outputId": "831e15b2-9887-40aa-fdeb-9daec5dd169b"
      },
      "source": [
        "from surprise.model_selection import GridSearchCV\n",
        "from surprise import SVD\n",
        "from surprise import Dataset\n",
        "from surprise import Reader\n",
        "data = Dataset.load_from_df(df_42[[\"User-ID\", \"ISBN\", \"Book-Rating\"]], reader)\n",
        "from surprise.model_selection import GridSearchCV\n",
        "\n",
        "param_grid = {\n",
        "    \"n_epochs\": [1, 5, 10, 15, 20],\n",
        "    \"lr_all\": [0.002, 0.005, 0.009, 0.01, 0.05],\n",
        "    \"reg_all\": [0.2, 0.4, 0.6, 1]\n",
        "}\n",
        "gs = GridSearchCV(SVD, param_grid, measures=[\"rmse\"], cv=3)\n",
        "\n",
        "gs.fit(data)\n",
        "\n",
        "print(gs.best_score[\"rmse\"])"
      ],
      "execution_count": null,
      "outputs": [
        {
          "output_type": "stream",
          "text": [
            "0.712084399657669\n"
          ],
          "name": "stdout"
        }
      ]
    },
    {
      "cell_type": "code",
      "metadata": {
        "colab": {
          "base_uri": "https://localhost:8080/"
        },
        "id": "RQrY1MdYrV4M",
        "outputId": "03e36cb2-af58-48df-9b28-595950492f3f"
      },
      "source": [
        "data = Dataset.load_from_df(df_43[[\"User-ID\", \"ISBN\", \"Book-Rating\"]], reader)\n",
        "from surprise.model_selection import GridSearchCV\n",
        "\n",
        "param_grid = {\n",
        "    \"n_epochs\": [1, 5, 10, 15, 20],\n",
        "    \"lr_all\": [0.002, 0.005, 0.009, 0.01, 0.05],\n",
        "    \"reg_all\": [0.2, 0.4, 0.6, 1]\n",
        "}\n",
        "gs = GridSearchCV(SVD, param_grid, measures=[\"rmse\"], cv=3)\n",
        "\n",
        "gs.fit(data)\n",
        "\n",
        "print(gs.best_score[\"rmse\"])"
      ],
      "execution_count": null,
      "outputs": [
        {
          "output_type": "stream",
          "text": [
            "0.7259853706157188\n"
          ],
          "name": "stdout"
        }
      ]
    },
    {
      "cell_type": "code",
      "metadata": {
        "colab": {
          "base_uri": "https://localhost:8080/"
        },
        "id": "AJdEV0cx8M6r",
        "outputId": "938f30c7-f231-4dd6-b3f8-6581c042088b"
      },
      "source": [
        "data = Dataset.load_from_df(df_44[[\"User-ID\", \"ISBN\", \"Book-Rating\"]], reader)\n",
        "from surprise.model_selection import GridSearchCV\n",
        "\n",
        "param_grid = {\n",
        "    \"n_epochs\": [1, 5, 10, 15, 20],\n",
        "    \"lr_all\": [0.002, 0.005, 0.009, 0.01, 0.05],\n",
        "    \"reg_all\": [0.2, 0.4, 0.6, 1]\n",
        "}\n",
        "gs = GridSearchCV(SVD, param_grid, measures=[\"rmse\"], cv=3)\n",
        "\n",
        "gs.fit(data)\n",
        "\n",
        "print(gs.best_score[\"rmse\"])"
      ],
      "execution_count": null,
      "outputs": [
        {
          "output_type": "stream",
          "text": [
            "0.7359315754796772\n"
          ],
          "name": "stdout"
        }
      ]
    },
    {
      "cell_type": "code",
      "metadata": {
        "colab": {
          "base_uri": "https://localhost:8080/"
        },
        "id": "UMaPmM4o8Pa6",
        "outputId": "cc34a52a-321f-4d61-affb-e247b057b429"
      },
      "source": [
        "data = Dataset.load_from_df(df_45[[\"User-ID\", \"ISBN\", \"Book-Rating\"]], reader)\n",
        "from surprise.model_selection import GridSearchCV\n",
        "\n",
        "param_grid = {\n",
        "    \"n_epochs\": [1, 5, 10, 15, 20],\n",
        "    \"lr_all\": [0.002, 0.005, 0.009, 0.01, 0.05],\n",
        "    \"reg_all\": [0.2, 0.4, 0.6, 1]\n",
        "}\n",
        "gs = GridSearchCV(SVD, param_grid, measures=[\"rmse\"], cv=3)\n",
        "\n",
        "gs.fit(data)\n",
        "\n",
        "print(gs.best_score[\"rmse\"])"
      ],
      "execution_count": null,
      "outputs": [
        {
          "output_type": "stream",
          "text": [
            "0.7352736907017245\n"
          ],
          "name": "stdout"
        }
      ]
    },
    {
      "cell_type": "code",
      "metadata": {
        "colab": {
          "base_uri": "https://localhost:8080/"
        },
        "id": "QpneEndU8QX3",
        "outputId": "892ec29c-1b35-473f-8ccd-52e03462898b"
      },
      "source": [
        "data = Dataset.load_from_df(df_46[[\"User-ID\", \"ISBN\", \"Book-Rating\"]], reader)\n",
        "from surprise.model_selection import GridSearchCV\n",
        "\n",
        "param_grid = {\n",
        "    \"n_epochs\": [1, 5, 10, 15, 20],\n",
        "    \"lr_all\": [0.002, 0.005, 0.009, 0.01, 0.05],\n",
        "    \"reg_all\": [0.2, 0.4, 0.6, 1]\n",
        "}\n",
        "gs = GridSearchCV(SVD, param_grid, measures=[\"rmse\"], cv=3)\n",
        "\n",
        "gs.fit(data)\n",
        "\n",
        "print(gs.best_score[\"rmse\"])"
      ],
      "execution_count": null,
      "outputs": [
        {
          "output_type": "stream",
          "text": [
            "0.7303131064444165\n"
          ],
          "name": "stdout"
        }
      ]
    },
    {
      "cell_type": "code",
      "metadata": {
        "colab": {
          "base_uri": "https://localhost:8080/"
        },
        "id": "jjZwWak18RO3",
        "outputId": "32d3dcf7-a5a8-479f-b269-b53b550f20dd"
      },
      "source": [
        "data = Dataset.load_from_df(df_47[[\"User-ID\", \"ISBN\", \"Book-Rating\"]], reader)\n",
        "from surprise.model_selection import GridSearchCV\n",
        "\n",
        "param_grid = {\n",
        "    \"n_epochs\": [1, 5, 10, 15, 20],\n",
        "    \"lr_all\": [0.002, 0.005, 0.009, 0.01, 0.05],\n",
        "    \"reg_all\": [0.2, 0.4, 0.6, 1]\n",
        "}\n",
        "gs = GridSearchCV(SVD, param_grid, measures=[\"rmse\"], cv=3)\n",
        "\n",
        "gs.fit(data)\n",
        "\n",
        "print(gs.best_score[\"rmse\"])"
      ],
      "execution_count": null,
      "outputs": [
        {
          "output_type": "stream",
          "text": [
            "0.7526943133967046\n"
          ],
          "name": "stdout"
        }
      ]
    },
    {
      "cell_type": "code",
      "metadata": {
        "colab": {
          "base_uri": "https://localhost:8080/"
        },
        "id": "uYcruIJN8T_b",
        "outputId": "70298be3-b69c-4b70-d36e-2e07c82ec9dc"
      },
      "source": [
        "data = Dataset.load_from_df(df_48[[\"User-ID\", \"ISBN\", \"Book-Rating\"]], reader)\n",
        "from surprise.model_selection import GridSearchCV\n",
        "\n",
        "param_grid = {\n",
        "    \"n_epochs\": [1, 5, 10, 15, 20],\n",
        "    \"lr_all\": [0.002, 0.005, 0.009, 0.01, 0.05],\n",
        "    \"reg_all\": [0.2, 0.4, 0.6, 1]\n",
        "}\n",
        "gs = GridSearchCV(SVD, param_grid, measures=[\"rmse\"], cv=3)\n",
        "\n",
        "gs.fit(data)\n",
        "\n",
        "print(gs.best_score[\"rmse\"])"
      ],
      "execution_count": null,
      "outputs": [
        {
          "output_type": "stream",
          "text": [
            "0.7596688158180389\n"
          ],
          "name": "stdout"
        }
      ]
    },
    {
      "cell_type": "code",
      "metadata": {
        "colab": {
          "base_uri": "https://localhost:8080/"
        },
        "id": "y_8vA1Cg8VMi",
        "outputId": "c921eb86-377d-4040-bec2-5a8761d8564d"
      },
      "source": [
        "data = Dataset.load_from_df(df_49[[\"User-ID\", \"ISBN\", \"Book-Rating\"]], reader)\n",
        "from surprise.model_selection import GridSearchCV\n",
        "\n",
        "param_grid = {\n",
        "    \"n_epochs\": [1, 5, 10, 15, 20],\n",
        "    \"lr_all\": [0.002, 0.005, 0.009, 0.01, 0.05],\n",
        "    \"reg_all\": [0.2, 0.4, 0.6, 1]\n",
        "}\n",
        "gs = GridSearchCV(SVD, param_grid, measures=[\"rmse\"], cv=3)\n",
        "\n",
        "gs.fit(data)\n",
        "\n",
        "print(gs.best_score[\"rmse\"])"
      ],
      "execution_count": null,
      "outputs": [
        {
          "output_type": "stream",
          "text": [
            "0.7584856980143192\n"
          ],
          "name": "stdout"
        }
      ]
    },
    {
      "cell_type": "code",
      "metadata": {
        "colab": {
          "base_uri": "https://localhost:8080/"
        },
        "id": "-8KBFnrd8WSx",
        "outputId": "6aea2b84-4877-4aff-d160-526b39c25ab5"
      },
      "source": [
        "data = Dataset.load_from_df(df_50[[\"User-ID\", \"ISBN\", \"Book-Rating\"]], reader)\n",
        "from surprise.model_selection import GridSearchCV\n",
        "\n",
        "param_grid = {\n",
        "    \"n_epochs\": [1, 5, 10, 15, 20],\n",
        "    \"lr_all\": [0.002, 0.005, 0.009, 0.01, 0.05],\n",
        "    \"reg_all\": [0.2, 0.4, 0.6, 1]\n",
        "}\n",
        "gs = GridSearchCV(SVD, param_grid, measures=[\"rmse\"], cv=3)\n",
        "\n",
        "gs.fit(data)\n",
        "\n",
        "print(gs.best_score[\"rmse\"])"
      ],
      "execution_count": null,
      "outputs": [
        {
          "output_type": "stream",
          "text": [
            "0.7774521578012727\n"
          ],
          "name": "stdout"
        }
      ]
    },
    {
      "cell_type": "code",
      "metadata": {
        "id": "t8eSTdyF8prZ"
      },
      "source": [
        ""
      ],
      "execution_count": null,
      "outputs": []
    }
  ]
}